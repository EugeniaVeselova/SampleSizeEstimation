{
 "cells": [
  {
   "cell_type": "code",
   "execution_count": 1,
   "metadata": {
    "ExecuteTime": {
     "end_time": "2019-09-16T16:58:40.765862Z",
     "start_time": "2019-09-16T16:58:40.100093Z"
    }
   },
   "outputs": [],
   "source": [
    "import numpy as np\n",
    "from scipy.special import expit\n",
    "from scipy.optimize import minimize"
   ]
  },
  {
   "cell_type": "code",
   "execution_count": 2,
   "metadata": {
    "ExecuteTime": {
     "end_time": "2019-09-16T16:58:41.128241Z",
     "start_time": "2019-09-16T16:58:40.898296Z"
    }
   },
   "outputs": [],
   "source": [
    "def relu(x):\n",
    "    return np.maximum(x, 0)\n",
    "\n",
    "def linear(x):\n",
    "    return x\n",
    "\n",
    "def neg(x):\n",
    "    return -1 * x"
   ]
  },
  {
   "cell_type": "code",
   "execution_count": 3,
   "metadata": {
    "ExecuteTime": {
     "end_time": "2019-09-16T16:58:41.253097Z",
     "start_time": "2019-09-16T16:58:41.243863Z"
    }
   },
   "outputs": [],
   "source": [
    "ACTIVATION_FUNCTIONS = {\n",
    "    0: relu,\n",
    "    1: linear,\n",
    "    2: np.tanh,\n",
    "    3: expit,\n",
    "    4: np.abs,\n",
    "    5: neg\n",
    "}"
   ]
  },
  {
   "cell_type": "code",
   "execution_count": 4,
   "metadata": {
    "ExecuteTime": {
     "end_time": "2019-09-16T16:58:41.517698Z",
     "start_time": "2019-09-16T16:58:41.500797Z"
    }
   },
   "outputs": [],
   "source": [
    "def relu_der(x):\n",
    "    returned = []\n",
    "    for x_ in x:\n",
    "        returned.append(1 if x > 0 else 0)\n",
    "    return returned\n",
    "\n",
    "def linear_der(x):\n",
    "    returned = []\n",
    "    for x_ in x:\n",
    "        returned.append(1)\n",
    "    return returned\n",
    "\n",
    "def tanh_der(x):\n",
    "    returned = []\n",
    "    for x_ in x:\n",
    "        returned.append(1 / (np.cosh(x_) ** 2))\n",
    "    return returned\n",
    "\n",
    "def expit_der(x):\n",
    "    returned = []\n",
    "    for x_ in x:\n",
    "        returned.append(expit(x_) * (1 - expit(x_)))\n",
    "    return returned\n",
    "\n",
    "def abs_der(x):\n",
    "    returned = []\n",
    "    for x_ in x:\n",
    "        if x_:\n",
    "            returned.append(1 if x > 0 else -1)\n",
    "        else:\n",
    "            returned.append(0)\n",
    "    return returned\n",
    "\n",
    "def neg_der(x):\n",
    "    returned = []\n",
    "    for x_ in x:\n",
    "        returned.append(-1)\n",
    "    return returned"
   ]
  },
  {
   "cell_type": "code",
   "execution_count": 5,
   "metadata": {
    "ExecuteTime": {
     "end_time": "2019-09-16T16:58:41.908572Z",
     "start_time": "2019-09-16T16:58:41.903039Z"
    }
   },
   "outputs": [],
   "source": [
    "DERIVATIVES = {\n",
    "    relu: relu_der,\n",
    "    linear: linear_der,\n",
    "    np.tanh: tanh_der,\n",
    "    expit: expit_der,\n",
    "    np.abs: abs_der,\n",
    "    neg: neg_der\n",
    "}"
   ]
  },
  {
   "cell_type": "code",
   "execution_count": 6,
   "metadata": {
    "ExecuteTime": {
     "end_time": "2019-09-16T16:58:42.911599Z",
     "start_time": "2019-09-16T16:58:42.873200Z"
    }
   },
   "outputs": [],
   "source": [
    "class GenNode:\n",
    "    \"\"\"\n",
    "    GenNode stores one node of the tree\n",
    "    \"\"\"\n",
    "    def __init__(self, _input=None, parent=None, children=None, function=linear, dom=False, bias=1, coeff=1):\n",
    "        \"\"\"\n",
    "        Initialize:\n",
    "        - node parent\n",
    "        - node children\n",
    "        - activation function\n",
    "        - dom of coeff (if really needed)\n",
    "        - default bias (1)\n",
    "        \"\"\"\n",
    "        if _input is None:\n",
    "            self._input = np.array([1])\n",
    "        else:\n",
    "            self._input = np.copy(_input)\n",
    "        self.parent = parent\n",
    "        if children is None:\n",
    "            self.children = set()\n",
    "        else:\n",
    "            self.children = set(children)\n",
    "        self.function = function\n",
    "        if dom:\n",
    "            self.dom = DOM_FUNCTION[function]\n",
    "        self.bias = bias\n",
    "        self.coeff = coeff\n",
    "        self._d = None\n",
    "        \n",
    "    def add_child(self, child_node):\n",
    "        self.children.add(child_node)\n",
    "        \n",
    "    def add_parent(self, parent_node):\n",
    "        self.parent = parent_node\n",
    "        \n",
    "    def delete_child(self, child_node):\n",
    "        self.children.remove(child_node)\n",
    "        \n",
    "    def change_function(self, function):\n",
    "        self.function = function   \n",
    "        \n",
    "    def calculate(self, _input=None):\n",
    "        if len(self.children):\n",
    "            result = np.sum(np.array([child.calculate(_input) for child in self.children]), axis=0)\n",
    "        else:\n",
    "            if _input is not None:\n",
    "                result = np.copy(_input)\n",
    "            else:\n",
    "                result = np.copy(self._input)\n",
    "        print('calculate')\n",
    "        print(self.function(self.bias + self.coeff * result), self.bias + self.coeff * result, result)\n",
    "        return self.function(self.bias + self.coeff * result)\n",
    "    \n",
    "    def calculate_arg(self, _input=None):\n",
    "        if len(self.children):\n",
    "            result = np.sum(np.array([child.calculate(_input) for child in self.children]), axis=0)\n",
    "        else:\n",
    "            if _input is not None:\n",
    "                result = np.copy(_input)\n",
    "            else:\n",
    "                result = np.copy(self._input)\n",
    "        return self.bias + self.coeff * result\n",
    "    \n",
    "    def calculate_next(self, _input=None):\n",
    "        if len(self.children):\n",
    "            result = np.sum(np.array([child.calculate(_input) for child in self.children]), axis=0)\n",
    "        else:\n",
    "            if _input is not None:\n",
    "                result = np.copy(_input)\n",
    "            else:\n",
    "                result = np.copy(self._input)\n",
    "        return result\n",
    "    \n",
    "    def clone(self, parent):\n",
    "        node = GenNode(_input=self._input, parent=parent, function=self.function, bias=self.bias, coeff=self.coeff)\n",
    "        return node"
   ]
  },
  {
   "cell_type": "markdown",
   "metadata": {},
   "source": [
    "### Test node:"
   ]
  },
  {
   "cell_type": "code",
   "execution_count": 7,
   "metadata": {
    "ExecuteTime": {
     "end_time": "2019-09-16T16:58:43.773197Z",
     "start_time": "2019-09-16T16:58:43.766522Z"
    }
   },
   "outputs": [],
   "source": [
    "node = GenNode()"
   ]
  },
  {
   "cell_type": "code",
   "execution_count": 8,
   "metadata": {
    "ExecuteTime": {
     "end_time": "2019-09-16T16:58:45.078143Z",
     "start_time": "2019-09-16T16:58:45.055953Z"
    }
   },
   "outputs": [
    {
     "data": {
      "text/plain": [
       "{'_input': array([1]),\n",
       " 'parent': None,\n",
       " 'children': set(),\n",
       " 'function': <function __main__.linear(x)>,\n",
       " 'bias': 1,\n",
       " 'coeff': 1,\n",
       " '_d': None}"
      ]
     },
     "execution_count": 8,
     "metadata": {},
     "output_type": "execute_result"
    }
   ],
   "source": [
    "node.__dict__"
   ]
  },
  {
   "cell_type": "code",
   "execution_count": 9,
   "metadata": {
    "ExecuteTime": {
     "end_time": "2019-09-16T16:58:45.564508Z",
     "start_time": "2019-09-16T16:58:45.557646Z"
    }
   },
   "outputs": [],
   "source": [
    "cloned = node.clone(None)"
   ]
  },
  {
   "cell_type": "code",
   "execution_count": 10,
   "metadata": {
    "ExecuteTime": {
     "end_time": "2019-09-16T16:58:45.929069Z",
     "start_time": "2019-09-16T16:58:45.919679Z"
    }
   },
   "outputs": [
    {
     "data": {
      "text/plain": [
       "{'_input': array([1]),\n",
       " 'parent': None,\n",
       " 'children': set(),\n",
       " 'function': <function __main__.linear(x)>,\n",
       " 'bias': 1,\n",
       " 'coeff': 1,\n",
       " '_d': None}"
      ]
     },
     "execution_count": 10,
     "metadata": {},
     "output_type": "execute_result"
    }
   ],
   "source": [
    "cloned.__dict__"
   ]
  },
  {
   "cell_type": "code",
   "execution_count": 11,
   "metadata": {
    "ExecuteTime": {
     "end_time": "2019-09-16T16:58:46.261273Z",
     "start_time": "2019-09-16T16:58:46.243632Z"
    }
   },
   "outputs": [
    {
     "name": "stdout",
     "output_type": "stream",
     "text": [
      "calculate\n",
      "[2 3 2] [ 2  3 -2] [ 1  2 -3]\n"
     ]
    },
    {
     "data": {
      "text/plain": [
       "array([2, 3, 2])"
      ]
     },
     "execution_count": 11,
     "metadata": {},
     "output_type": "execute_result"
    }
   ],
   "source": [
    "node = GenNode(_input=np.array([1,2,-3]), function=ACTIVATION_FUNCTIONS[4])\n",
    "node.calculate()"
   ]
  },
  {
   "cell_type": "code",
   "execution_count": 12,
   "metadata": {
    "ExecuteTime": {
     "end_time": "2019-09-16T16:58:46.432968Z",
     "start_time": "2019-09-16T16:58:46.422070Z"
    }
   },
   "outputs": [
    {
     "name": "stdout",
     "output_type": "stream",
     "text": [
      "calculate\n",
      "[2 3 2] [ 2  3 -2] [ 1  2 -3]\n"
     ]
    },
    {
     "data": {
      "text/plain": [
       "array([2, 3, 2])"
      ]
     },
     "execution_count": 12,
     "metadata": {},
     "output_type": "execute_result"
    }
   ],
   "source": [
    "node.calculate()"
   ]
  },
  {
   "cell_type": "code",
   "execution_count": 13,
   "metadata": {
    "ExecuteTime": {
     "end_time": "2019-09-16T16:58:46.645649Z",
     "start_time": "2019-09-16T16:58:46.624610Z"
    }
   },
   "outputs": [
    {
     "name": "stdout",
     "output_type": "stream",
     "text": [
      "calculate\n",
      "[ 0.96402758  0.99505475 -0.96402758] [ 2  3 -2] [ 1  2 -3]\n"
     ]
    },
    {
     "data": {
      "text/plain": [
       "array([ 0.96402758,  0.99505475, -0.96402758])"
      ]
     },
     "execution_count": 13,
     "metadata": {},
     "output_type": "execute_result"
    }
   ],
   "source": [
    "node = GenNode(_input=np.array([1,2,-3]), function=ACTIVATION_FUNCTIONS[2])\n",
    "node.calculate()"
   ]
  },
  {
   "cell_type": "code",
   "execution_count": 14,
   "metadata": {
    "ExecuteTime": {
     "end_time": "2019-09-16T16:58:47.899487Z",
     "start_time": "2019-09-16T16:58:47.891152Z"
    }
   },
   "outputs": [],
   "source": [
    "parent = GenNode(_input=np.array([1,2,-3]), function=ACTIVATION_FUNCTIONS[2])\n",
    "child = GenNode(_input=np.array([1,2,-3]), function=ACTIVATION_FUNCTIONS[0])\n",
    "\n",
    "parent.add_child(child)\n",
    "child.add_parent(parent)"
   ]
  },
  {
   "cell_type": "code",
   "execution_count": 15,
   "metadata": {
    "ExecuteTime": {
     "end_time": "2019-09-16T16:58:48.131057Z",
     "start_time": "2019-09-16T16:58:48.121506Z"
    }
   },
   "outputs": [
    {
     "data": {
      "text/plain": [
       "{'_input': array([ 1,  2, -3]),\n",
       " 'parent': None,\n",
       " 'children': {<__main__.GenNode at 0x118a33b10>},\n",
       " 'function': <ufunc 'tanh'>,\n",
       " 'bias': 1,\n",
       " 'coeff': 1,\n",
       " '_d': None}"
      ]
     },
     "execution_count": 15,
     "metadata": {},
     "output_type": "execute_result"
    }
   ],
   "source": [
    "parent.__dict__"
   ]
  },
  {
   "cell_type": "code",
   "execution_count": 16,
   "metadata": {
    "ExecuteTime": {
     "end_time": "2019-09-16T16:58:48.331692Z",
     "start_time": "2019-09-16T16:58:48.323657Z"
    }
   },
   "outputs": [
    {
     "data": {
      "text/plain": [
       "{'_input': array([ 1,  2, -3]),\n",
       " 'parent': <__main__.GenNode at 0x118a33b50>,\n",
       " 'children': set(),\n",
       " 'function': <function __main__.relu(x)>,\n",
       " 'bias': 1,\n",
       " 'coeff': 1,\n",
       " '_d': None}"
      ]
     },
     "execution_count": 16,
     "metadata": {},
     "output_type": "execute_result"
    }
   ],
   "source": [
    "child.__dict__"
   ]
  },
  {
   "cell_type": "code",
   "execution_count": 17,
   "metadata": {
    "ExecuteTime": {
     "end_time": "2019-09-16T16:58:48.659581Z",
     "start_time": "2019-09-16T16:58:48.645966Z"
    }
   },
   "outputs": [
    {
     "data": {
      "text/plain": [
       "<ufunc 'tanh'>"
      ]
     },
     "execution_count": 17,
     "metadata": {},
     "output_type": "execute_result"
    }
   ],
   "source": [
    "child.parent.function"
   ]
  },
  {
   "cell_type": "markdown",
   "metadata": {},
   "source": [
    "$sum(tanh(1+relu([2,3,-2])))$"
   ]
  },
  {
   "cell_type": "code",
   "execution_count": 18,
   "metadata": {
    "ExecuteTime": {
     "end_time": "2019-09-16T16:58:49.512980Z",
     "start_time": "2019-09-16T16:58:49.497229Z"
    }
   },
   "outputs": [
    {
     "name": "stdout",
     "output_type": "stream",
     "text": [
      "calculate\n",
      "[2 3 0] [ 2  3 -2] [ 1  2 -3]\n",
      "calculate\n",
      "[0.99505475 0.9993293  0.76159416] [3 4 1] [2 3 0]\n"
     ]
    },
    {
     "data": {
      "text/plain": [
       "array([0.99505475, 0.9993293 , 0.76159416])"
      ]
     },
     "execution_count": 18,
     "metadata": {},
     "output_type": "execute_result"
    }
   ],
   "source": [
    "parent.calculate()"
   ]
  },
  {
   "cell_type": "code",
   "execution_count": 19,
   "metadata": {
    "ExecuteTime": {
     "end_time": "2019-09-16T16:58:49.701582Z",
     "start_time": "2019-09-16T16:58:49.691174Z"
    }
   },
   "outputs": [
    {
     "name": "stdout",
     "output_type": "stream",
     "text": [
      "[2 3 0]\n",
      "[0.99505475 0.9993293  0.76159416]\n"
     ]
    }
   ],
   "source": [
    "print(relu([2,3,-2]))\n",
    "print(np.tanh([3,4,1]))"
   ]
  },
  {
   "cell_type": "markdown",
   "metadata": {},
   "source": [
    "---"
   ]
  },
  {
   "cell_type": "code",
   "execution_count": 103,
   "metadata": {
    "ExecuteTime": {
     "end_time": "2019-09-16T17:28:03.988920Z",
     "start_time": "2019-09-16T17:28:03.929400Z"
    }
   },
   "outputs": [],
   "source": [
    "class GenNet:\n",
    "    \"\"\"\n",
    "    GenNet stores and calculates full net tree\n",
    "    \"\"\"\n",
    "    def __init__(self, start_depth, predict):\n",
    "        \"\"\"\n",
    "        Initialize:\n",
    "        - all_nodes\n",
    "        - start_depth\n",
    "        - root\n",
    "        \"\"\"\n",
    "        self.all_nodes = set()\n",
    "        self.start_depth = start_depth\n",
    "        self.root = None\n",
    "        parent = None\n",
    "        for i in range(start_depth):\n",
    "            j = np.random.randint(len(ACTIVATION_FUNCTIONS))\n",
    "            child = GenNode(parent=parent, function=ACTIVATION_FUNCTIONS[j])\n",
    "            self.all_nodes.add(child)\n",
    "            if parent is not None:\n",
    "                parent.add_child(child)\n",
    "            else:\n",
    "                self.root = child\n",
    "            parent = child\n",
    "        self.predict = predict\n",
    "        self.loss = 0\n",
    "\n",
    "    def all_children(self, node):\n",
    "        all_children = set()\n",
    "        for child_node in node.children:\n",
    "            all_children.update(self.all_children(child_node))\n",
    "\n",
    "        return all_children\n",
    "        \n",
    "    def add_subnet(self, parent_node, child_node, subnet):\n",
    "        removed_nodes = self.all_children(child_node)\n",
    "        for node in removed_nodes:\n",
    "            self.all_nodes.remove(node)\n",
    "        self.all_nodes.remove(child_node)\n",
    "\n",
    "        parent_node.add_child(subnet.root)\n",
    "        for node in subnet.all_nodes:\n",
    "            self.all_nodes.add(node)\n",
    "        \n",
    "    def clone_subnet(self, node, depth=0):\n",
    "        subnet = GenNet(depth, predict=self.predict)\n",
    "        subnet.root = node.clone(parent=None)\n",
    "        subnet.all_nodes = set([subnet.root])\n",
    "\n",
    "        for child in node.children:\n",
    "            cloned_child = child.clone(parent=subnet.root)\n",
    "            cloned_child.add_parent(subnet.root)\n",
    "            subnet.root.add_child(cloned_child)\n",
    "            subnet.all_nodes.update(self._clone_subnet(child, cloned_child))\n",
    "\n",
    "        return subnet\n",
    "        \n",
    "    def _clone_subnet(self, root, cloned_root):\n",
    "        subnet = set([cloned_root])\n",
    "\n",
    "        for child in root.children:\n",
    "            cloned_child = child.clone(parent=cloned_root)\n",
    "            cloned_child.add_parent(cloned_root)\n",
    "            cloned_root.add_child(cloned_child)\n",
    "            subnet.update(self._clone_subnet(child, cloned_child))\n",
    "\n",
    "        return subnet\n",
    "    \n",
    "    def change_function(self, node, function):\n",
    "        node.change_function(function)\n",
    "\n",
    "    def calculate(self, _input=None):\n",
    "        result = self.root.calculate(_input)\n",
    "        return result\n",
    "    \n",
    "    def calculate_node(self, node, _input=None):\n",
    "        result = node.calculate(_input)\n",
    "        return result\n",
    "    \n",
    "    def clone(self):\n",
    "        net = self.clone_subnet(self.root, self.start_depth)\n",
    "        return net\n",
    "\n",
    "    def jac(self, _input=None):\n",
    "        biases_jac = {}\n",
    "        coeffs_jac = {}\n",
    "\n",
    "        self.root._d = np.array([1])\n",
    "        biases_jac, coeffs_jac = self.calculate_d(self.root, _input)\n",
    "\n",
    "        if self.loss < 0:\n",
    "            for ind in biases_jac.keys():\n",
    "                biases_jac[ind] *= -1\n",
    "                coeffs_jac[ind] *= -1\n",
    "                \n",
    "        biases_coeffs_jac = [biases_jac[key] for key in sorted(biases_jac.keys())]\n",
    "        biases_coeffs_jac += [coeffs_jac[key] for key in sorted(coeffs_jac.keys())]\n",
    "        print(np.array(biases_coeffs_jac).reshape(-1), ' jacobian')\n",
    "        return np.array(biases_coeffs_jac).reshape(-1)\n",
    "        \n",
    "    def calculate_d(self, node, _input=None):\n",
    "        if node.parent:\n",
    "            static_part = node.parent._d\n",
    "        else:\n",
    "            static_part = np.array([1])\n",
    "        ind = list(self.all_nodes).index(node)\n",
    "        biases_jac = {}\n",
    "        coeffs_jac = {}\n",
    "        print('arg ', node.calculate_arg(_input))\n",
    "        calculated = static_part * DERIVATIVES[node.function](node.calculate_arg(_input))\n",
    "        biases_jac[ind] = calculated\n",
    "        coeffs_jac[ind] = calculated * node.calculate_next(_input)\n",
    "        node._d = calculated * node.coeff\n",
    "        \n",
    "        for child in node.children:\n",
    "            new_biases_jac, new_coeffs_jac = self.calculate_d(child, _input)\n",
    "            biases_jac.update(new_biases_jac)\n",
    "            coeffs_jac.update(new_coeffs_jac)\n",
    "\n",
    "        return biases_jac, coeffs_jac\n",
    "\n",
    "    def biases_coeffs_inference(self, biases, coeffs):\n",
    "        for ind, node in enumerate(list(self.all_nodes)):\n",
    "            node.bias = biases[ind]\n",
    "            node.coeff = coeffs[ind]\n",
    "            \n",
    "    def input_inference(self, _input):\n",
    "        for node in self.all_nodes:\n",
    "            node._input = _input\n",
    "\n",
    "    def calculate_biases_coeffs_loss(self, biases_coeffs):\n",
    "        self.biases_coeffs_inference(biases_coeffs[:len(biases_coeffs)//2], biases_coeffs[len(biases_coeffs)//2:])\n",
    "        self.loss = np.abs(self.calculate() - self.predict)\n",
    "        print(self.loss, ' loss')\n",
    "        return self.loss"
   ]
  },
  {
   "cell_type": "markdown",
   "metadata": {},
   "source": [
    "### Test net"
   ]
  },
  {
   "cell_type": "code",
   "execution_count": 22,
   "metadata": {
    "ExecuteTime": {
     "end_time": "2019-09-16T16:58:58.533167Z",
     "start_time": "2019-09-16T16:58:58.524894Z"
    }
   },
   "outputs": [],
   "source": [
    "net = GenNet(1, np.array([1]))"
   ]
  },
  {
   "cell_type": "code",
   "execution_count": 23,
   "metadata": {
    "ExecuteTime": {
     "end_time": "2019-09-16T16:58:59.287057Z",
     "start_time": "2019-09-16T16:58:59.277815Z"
    }
   },
   "outputs": [
    {
     "data": {
      "text/plain": [
       "{'all_nodes': {<__main__.GenNode at 0x118a94690>},\n",
       " 'start_depth': 1,\n",
       " 'root': <__main__.GenNode at 0x118a94690>,\n",
       " 'predict': array([1]),\n",
       " 'loss': 0}"
      ]
     },
     "execution_count": 23,
     "metadata": {},
     "output_type": "execute_result"
    }
   ],
   "source": [
    "net.__dict__"
   ]
  },
  {
   "cell_type": "code",
   "execution_count": 24,
   "metadata": {
    "ExecuteTime": {
     "end_time": "2019-09-16T16:58:59.912475Z",
     "start_time": "2019-09-16T16:58:59.901827Z"
    }
   },
   "outputs": [
    {
     "data": {
      "text/plain": [
       "{'_input': array([1]),\n",
       " 'parent': None,\n",
       " 'children': set(),\n",
       " 'function': <ufunc 'expit'>,\n",
       " 'bias': 1,\n",
       " 'coeff': 1,\n",
       " '_d': None}"
      ]
     },
     "execution_count": 24,
     "metadata": {},
     "output_type": "execute_result"
    }
   ],
   "source": [
    "net.root.__dict__"
   ]
  },
  {
   "cell_type": "code",
   "execution_count": 25,
   "metadata": {
    "ExecuteTime": {
     "end_time": "2019-09-16T16:59:00.602501Z",
     "start_time": "2019-09-16T16:59:00.589410Z"
    }
   },
   "outputs": [
    {
     "name": "stdout",
     "output_type": "stream",
     "text": [
      "calculate\n",
      "[0.95257413 0.98201379 0.73105858] [3 4 1] [2 3 0]\n"
     ]
    },
    {
     "data": {
      "text/plain": [
       "array([0.95257413, 0.98201379, 0.73105858])"
      ]
     },
     "execution_count": 25,
     "metadata": {},
     "output_type": "execute_result"
    }
   ],
   "source": [
    "net.calculate(_input=np.array([2,3,0]))"
   ]
  },
  {
   "cell_type": "code",
   "execution_count": 26,
   "metadata": {
    "ExecuteTime": {
     "end_time": "2019-09-16T16:59:01.583760Z",
     "start_time": "2019-09-16T16:59:01.576004Z"
    }
   },
   "outputs": [],
   "source": [
    "net.change_function(net.root, relu)"
   ]
  },
  {
   "cell_type": "code",
   "execution_count": 27,
   "metadata": {
    "ExecuteTime": {
     "end_time": "2019-09-16T16:59:02.770221Z",
     "start_time": "2019-09-16T16:59:02.749496Z"
    }
   },
   "outputs": [
    {
     "name": "stdout",
     "output_type": "stream",
     "text": [
      "calculate\n",
      "[2 0 1] [ 2 -1  1] [ 1 -2  0]\n"
     ]
    },
    {
     "data": {
      "text/plain": [
       "array([2, 0, 1])"
      ]
     },
     "execution_count": 27,
     "metadata": {},
     "output_type": "execute_result"
    }
   ],
   "source": [
    "net.calculate(_input=np.array([1,-2,0]))"
   ]
  },
  {
   "cell_type": "code",
   "execution_count": 28,
   "metadata": {
    "ExecuteTime": {
     "end_time": "2019-09-16T16:59:04.742676Z",
     "start_time": "2019-09-16T16:59:04.726929Z"
    }
   },
   "outputs": [
    {
     "name": "stdout",
     "output_type": "stream",
     "text": [
      "calculate\n",
      "[1] [1] [1]\n",
      "[0]  loss\n"
     ]
    },
    {
     "data": {
      "text/plain": [
       "array([0])"
      ]
     },
     "execution_count": 28,
     "metadata": {},
     "output_type": "execute_result"
    }
   ],
   "source": [
    "net.calculate_biases_coeffs_loss(np.array([0,1]))"
   ]
  },
  {
   "cell_type": "code",
   "execution_count": 29,
   "metadata": {
    "ExecuteTime": {
     "end_time": "2019-09-16T16:59:06.871006Z",
     "start_time": "2019-09-16T16:59:06.859523Z"
    }
   },
   "outputs": [
    {
     "name": "stdout",
     "output_type": "stream",
     "text": [
      "calculate\n",
      "[1] [1] [1]\n"
     ]
    },
    {
     "data": {
      "text/plain": [
       "array([1])"
      ]
     },
     "execution_count": 29,
     "metadata": {},
     "output_type": "execute_result"
    }
   ],
   "source": [
    "net.calculate()"
   ]
  },
  {
   "cell_type": "code",
   "execution_count": 30,
   "metadata": {
    "ExecuteTime": {
     "end_time": "2019-09-16T16:59:09.195814Z",
     "start_time": "2019-09-16T16:59:09.186136Z"
    }
   },
   "outputs": [
    {
     "data": {
      "text/plain": [
       "{'_input': array([1]),\n",
       " 'parent': None,\n",
       " 'children': set(),\n",
       " 'function': <function __main__.relu(x)>,\n",
       " 'bias': 0,\n",
       " 'coeff': 1,\n",
       " '_d': None}"
      ]
     },
     "execution_count": 30,
     "metadata": {},
     "output_type": "execute_result"
    }
   ],
   "source": [
    "net.root.__dict__"
   ]
  },
  {
   "cell_type": "code",
   "execution_count": 31,
   "metadata": {
    "ExecuteTime": {
     "end_time": "2019-09-16T16:59:10.311287Z",
     "start_time": "2019-09-16T16:59:10.305666Z"
    }
   },
   "outputs": [],
   "source": [
    "net = GenNet(2, [1])"
   ]
  },
  {
   "cell_type": "code",
   "execution_count": 32,
   "metadata": {
    "ExecuteTime": {
     "end_time": "2019-09-16T16:59:10.898549Z",
     "start_time": "2019-09-16T16:59:10.890346Z"
    }
   },
   "outputs": [
    {
     "name": "stdout",
     "output_type": "stream",
     "text": [
      "{'_input': array([1]), 'parent': <__main__.GenNode object at 0x118a94650>, 'children': set(), 'function': <ufunc 'absolute'>, 'bias': 1, 'coeff': 1, '_d': None}\n",
      "{'_input': array([1]), 'parent': None, 'children': {<__main__.GenNode object at 0x118ac32d0>}, 'function': <ufunc 'absolute'>, 'bias': 1, 'coeff': 1, '_d': None}\n"
     ]
    }
   ],
   "source": [
    "for node in net.all_nodes:\n",
    "    print(node.__dict__)"
   ]
  },
  {
   "cell_type": "code",
   "execution_count": 33,
   "metadata": {
    "ExecuteTime": {
     "end_time": "2019-09-16T16:59:11.686893Z",
     "start_time": "2019-09-16T16:59:11.668634Z"
    }
   },
   "outputs": [
    {
     "name": "stdout",
     "output_type": "stream",
     "text": [
      "calculate\n",
      "[1] [-1] [-2]\n",
      "calculate\n",
      "[2] [2] [1]\n"
     ]
    },
    {
     "data": {
      "text/plain": [
       "array([2])"
      ]
     },
     "execution_count": 33,
     "metadata": {},
     "output_type": "execute_result"
    }
   ],
   "source": [
    "net.calculate(np.array([-2]))"
   ]
  },
  {
   "cell_type": "code",
   "execution_count": 34,
   "metadata": {
    "ExecuteTime": {
     "end_time": "2019-09-16T16:59:12.122659Z",
     "start_time": "2019-09-16T16:59:12.116002Z"
    }
   },
   "outputs": [],
   "source": [
    "net = GenNet(3, [1])"
   ]
  },
  {
   "cell_type": "code",
   "execution_count": 35,
   "metadata": {
    "ExecuteTime": {
     "end_time": "2019-09-16T16:59:12.675461Z",
     "start_time": "2019-09-16T16:59:12.667323Z"
    }
   },
   "outputs": [
    {
     "name": "stdout",
     "output_type": "stream",
     "text": [
      "{'_input': array([1]), 'parent': <__main__.GenNode object at 0x118ac33d0>, 'children': {<__main__.GenNode object at 0x118ac37d0>}, 'function': <function linear at 0x1189d6b00>, 'bias': 1, 'coeff': 1, '_d': None}\n",
      "{'_input': array([1]), 'parent': <__main__.GenNode object at 0x118ac3c50>, 'children': set(), 'function': <function relu at 0x1113f47a0>, 'bias': 1, 'coeff': 1, '_d': None}\n",
      "{'_input': array([1]), 'parent': None, 'children': {<__main__.GenNode object at 0x118ac3c50>}, 'function': <ufunc 'tanh'>, 'bias': 1, 'coeff': 1, '_d': None}\n"
     ]
    }
   ],
   "source": [
    "for node in net.all_nodes:\n",
    "    print(node.__dict__)"
   ]
  },
  {
   "cell_type": "code",
   "execution_count": 36,
   "metadata": {
    "ExecuteTime": {
     "end_time": "2019-09-16T16:59:13.260304Z",
     "start_time": "2019-09-16T16:59:13.253702Z"
    }
   },
   "outputs": [],
   "source": [
    "subnet = net.clone_subnet(list(net.all_nodes)[1])"
   ]
  },
  {
   "cell_type": "code",
   "execution_count": 37,
   "metadata": {
    "ExecuteTime": {
     "end_time": "2019-09-16T16:59:13.842841Z",
     "start_time": "2019-09-16T16:59:13.833985Z"
    }
   },
   "outputs": [
    {
     "data": {
      "text/plain": [
       "{'all_nodes': {<__main__.GenNode at 0x118ac91d0>},\n",
       " 'start_depth': 0,\n",
       " 'root': <__main__.GenNode at 0x118ac91d0>,\n",
       " 'predict': [1],\n",
       " 'loss': 0}"
      ]
     },
     "execution_count": 37,
     "metadata": {},
     "output_type": "execute_result"
    }
   ],
   "source": [
    "subnet.__dict__"
   ]
  },
  {
   "cell_type": "code",
   "execution_count": 38,
   "metadata": {
    "ExecuteTime": {
     "end_time": "2019-09-16T16:59:14.358164Z",
     "start_time": "2019-09-16T16:59:14.343626Z"
    }
   },
   "outputs": [
    {
     "data": {
      "text/plain": [
       "set()"
      ]
     },
     "execution_count": 38,
     "metadata": {},
     "output_type": "execute_result"
    }
   ],
   "source": [
    "subnet.root.children"
   ]
  },
  {
   "cell_type": "code",
   "execution_count": 39,
   "metadata": {
    "ExecuteTime": {
     "end_time": "2019-09-16T16:59:16.254060Z",
     "start_time": "2019-09-16T16:59:16.235220Z"
    }
   },
   "outputs": [
    {
     "name": "stdout",
     "output_type": "stream",
     "text": [
      "calculate\n",
      "[2] [2] [1]\n",
      "calculate\n",
      "[3] [3] [2]\n",
      "calculate\n",
      "[0.9993293] [4] [3]\n"
     ]
    },
    {
     "data": {
      "text/plain": [
       "array([0.9993293])"
      ]
     },
     "execution_count": 39,
     "metadata": {},
     "output_type": "execute_result"
    }
   ],
   "source": [
    "net.calculate(_input=np.array([1]))"
   ]
  },
  {
   "cell_type": "code",
   "execution_count": 40,
   "metadata": {
    "ExecuteTime": {
     "end_time": "2019-09-16T16:59:59.989715Z",
     "start_time": "2019-09-16T16:59:59.970487Z"
    }
   },
   "outputs": [
    {
     "data": {
      "text/plain": [
       "0.10789500003278905"
      ]
     },
     "execution_count": 40,
     "metadata": {},
     "output_type": "execute_result"
    }
   ],
   "source": [
    "expit(np.tanh(2)+1) * (1 - expit(np.tanh(2)+1))"
   ]
  },
  {
   "cell_type": "code",
   "execution_count": 41,
   "metadata": {
    "ExecuteTime": {
     "end_time": "2019-09-16T17:00:39.375072Z",
     "start_time": "2019-09-16T17:00:39.353743Z"
    },
    "scrolled": true
   },
   "outputs": [
    {
     "name": "stdout",
     "output_type": "stream",
     "text": [
      "calculate\n",
      "[2] [2] [1]\n",
      "calculate\n",
      "[3] [3] [2]\n",
      "arg  [4]\n",
      "calculate\n",
      "[2] [2] [1]\n",
      "calculate\n",
      "[3] [3] [2]\n",
      "calculate\n",
      "[2] [2] [1]\n",
      "calculate\n",
      "[3] [3] [2]\n",
      "calculate\n",
      "[2] [2] [1]\n",
      "arg  [3]\n",
      "calculate\n",
      "[2] [2] [1]\n",
      "calculate\n",
      "[2] [2] [1]\n",
      "arg  [2]\n",
      "[0.00134095 0.00134095 0.00134095 0.0026819  0.00134095 0.00402285]  jacobian\n"
     ]
    }
   ],
   "source": [
    "jac = net.jac()"
   ]
  },
  {
   "cell_type": "code",
   "execution_count": 42,
   "metadata": {
    "ExecuteTime": {
     "end_time": "2019-09-16T17:00:46.869584Z",
     "start_time": "2019-09-16T17:00:46.860781Z"
    }
   },
   "outputs": [
    {
     "data": {
      "text/plain": [
       "array([0.00134095, 0.00134095, 0.00134095, 0.0026819 , 0.00134095,\n",
       "       0.00402285])"
      ]
     },
     "execution_count": 42,
     "metadata": {},
     "output_type": "execute_result"
    }
   ],
   "source": [
    "jac"
   ]
  },
  {
   "cell_type": "code",
   "execution_count": 45,
   "metadata": {
    "ExecuteTime": {
     "end_time": "2019-09-16T17:02:07.218166Z",
     "start_time": "2019-09-16T17:02:07.210546Z"
    }
   },
   "outputs": [],
   "source": [
    "net = GenNet(1, np.array([1]))\n",
    "net_2 = GenNet(2, np.array([2]))\n",
    "net_3 = GenNet(3, np.array([3]))\n",
    "net_4 = GenNet(4, np.array([4]))"
   ]
  },
  {
   "cell_type": "code",
   "execution_count": 46,
   "metadata": {
    "ExecuteTime": {
     "end_time": "2019-09-16T17:03:15.549462Z",
     "start_time": "2019-09-16T17:03:15.545356Z"
    }
   },
   "outputs": [],
   "source": [
    "nets = [\n",
    "    net,\n",
    "    net_2,\n",
    "    net_3,\n",
    "    net_4\n",
    "]"
   ]
  },
  {
   "cell_type": "code",
   "execution_count": 49,
   "metadata": {
    "ExecuteTime": {
     "end_time": "2019-09-16T17:04:42.355753Z",
     "start_time": "2019-09-16T17:04:42.332758Z"
    }
   },
   "outputs": [
    {
     "name": "stdout",
     "output_type": "stream",
     "text": [
      "{'_input': array([1]), 'parent': None, 'children': set(), 'function': <ufunc 'absolute'>, 'bias': 1, 'coeff': 1, '_d': None}\n",
      "\n",
      "calculate\n",
      "[2] [2] [1]\n",
      "[2]\n",
      "\n",
      "{'_input': array([1]), 'parent': <__main__.GenNode object at 0x118ad18d0>, 'children': set(), 'function': <ufunc 'absolute'>, 'bias': 1, 'coeff': 1, '_d': None}\n",
      "{'_input': array([1]), 'parent': None, 'children': {<__main__.GenNode object at 0x118ad1490>}, 'function': <function relu at 0x1113f47a0>, 'bias': 1, 'coeff': 1, '_d': None}\n",
      "\n",
      "calculate\n",
      "[2] [2] [1]\n",
      "calculate\n",
      "[3] [3] [2]\n",
      "[3]\n",
      "\n",
      "{'_input': array([1]), 'parent': <__main__.GenNode object at 0x118ad1350>, 'children': set(), 'function': <function neg at 0x1189e7830>, 'bias': 1, 'coeff': 1, '_d': None}\n",
      "{'_input': array([1]), 'parent': <__main__.GenNode object at 0x118ad1650>, 'children': {<__main__.GenNode object at 0x118ad1150>}, 'function': <function neg at 0x1189e7830>, 'bias': 1, 'coeff': 1, '_d': None}\n",
      "{'_input': array([1]), 'parent': None, 'children': {<__main__.GenNode object at 0x118ad1350>}, 'function': <ufunc 'tanh'>, 'bias': 1, 'coeff': 1, '_d': None}\n",
      "\n",
      "calculate\n",
      "[-2] [2] [1]\n",
      "calculate\n",
      "[1] [-1] [-2]\n",
      "calculate\n",
      "[0.96402758] [2] [1]\n",
      "[0.96402758]\n",
      "\n",
      "{'_input': array([1]), 'parent': <__main__.GenNode object at 0x118ad1050>, 'children': set(), 'function': <function linear at 0x1189d6b00>, 'bias': 1, 'coeff': 1, '_d': None}\n",
      "{'_input': array([1]), 'parent': None, 'children': {<__main__.GenNode object at 0x118ad1c50>}, 'function': <function linear at 0x1189d6b00>, 'bias': 1, 'coeff': 1, '_d': None}\n",
      "{'_input': array([1]), 'parent': <__main__.GenNode object at 0x118ad1c50>, 'children': {<__main__.GenNode object at 0x118ad1f50>}, 'function': <ufunc 'absolute'>, 'bias': 1, 'coeff': 1, '_d': None}\n",
      "{'_input': array([1]), 'parent': <__main__.GenNode object at 0x118ad1810>, 'children': {<__main__.GenNode object at 0x118ad1050>}, 'function': <function neg at 0x1189e7830>, 'bias': 1, 'coeff': 1, '_d': None}\n",
      "\n",
      "calculate\n",
      "[2] [2] [1]\n",
      "calculate\n",
      "[3] [3] [2]\n",
      "calculate\n",
      "[-4] [4] [3]\n",
      "calculate\n",
      "[-3] [-3] [-4]\n",
      "[-3]\n",
      "\n"
     ]
    }
   ],
   "source": [
    "for net_ in nets:\n",
    "    for node_ in net_.all_nodes:\n",
    "        print(node_.__dict__)\n",
    "    print()\n",
    "    print(net_.calculate())\n",
    "    print()"
   ]
  },
  {
   "cell_type": "markdown",
   "metadata": {},
   "source": [
    "---"
   ]
  },
  {
   "cell_type": "code",
   "execution_count": 63,
   "metadata": {
    "ExecuteTime": {
     "end_time": "2019-09-16T17:09:22.421358Z",
     "start_time": "2019-09-16T17:09:22.415610Z"
    }
   },
   "outputs": [],
   "source": [
    "population_size = 3\n",
    "depth = 10\n",
    "predict = np.array([1])"
   ]
  },
  {
   "cell_type": "code",
   "execution_count": 64,
   "metadata": {
    "ExecuteTime": {
     "end_time": "2019-09-16T17:09:22.826660Z",
     "start_time": "2019-09-16T17:09:22.815090Z"
    }
   },
   "outputs": [],
   "source": [
    "nets = [\n",
    "    GenNet(depth, predict) for _ in range(population_size)\n",
    "]"
   ]
  },
  {
   "cell_type": "code",
   "execution_count": 65,
   "metadata": {
    "ExecuteTime": {
     "end_time": "2019-09-16T17:09:23.212114Z",
     "start_time": "2019-09-16T17:09:23.197224Z"
    }
   },
   "outputs": [
    {
     "data": {
      "text/plain": [
       "[<__main__.GenNet at 0x118af8190>,\n",
       " <__main__.GenNet at 0x118af84d0>,\n",
       " <__main__.GenNet at 0x118af8790>]"
      ]
     },
     "execution_count": 65,
     "metadata": {},
     "output_type": "execute_result"
    }
   ],
   "source": [
    "nets"
   ]
  },
  {
   "cell_type": "code",
   "execution_count": 66,
   "metadata": {
    "ExecuteTime": {
     "end_time": "2019-09-16T17:09:23.957792Z",
     "start_time": "2019-09-16T17:09:23.949850Z"
    }
   },
   "outputs": [],
   "source": [
    "prob = [0.2, 0.4, 0.4]\n",
    "        \n",
    "action = np.random.choice(3, p=prob)"
   ]
  },
  {
   "cell_type": "code",
   "execution_count": 87,
   "metadata": {
    "ExecuteTime": {
     "end_time": "2019-09-16T17:18:34.483311Z",
     "start_time": "2019-09-16T17:18:34.468330Z"
    }
   },
   "outputs": [],
   "source": [
    "def mutate_net(nets, net_ind):\n",
    "    net = list(nets)[net_ind].clone()\n",
    "    for node_ in net.all_nodes:\n",
    "        print(node_.__dict__)\n",
    "    i = np.random.randint(len(net.all_nodes))\n",
    "    node = list(net.all_nodes)[i]\n",
    "    function_ind = np.random.randint(len(ACTIVATION_FUNCTIONS))\n",
    "    new_node = GenNode(_input=node._input, parent=node, \n",
    "                       function=ACTIVATION_FUNCTIONS[function_ind], bias=node.bias, coeff=node.coeff)\n",
    "    node.add_child(new_node)\n",
    "    print()\n",
    "    print(node.__dict__, node)\n",
    "    print()\n",
    "    net.all_nodes.add(new_node)\n",
    "    for node_ in net.all_nodes:\n",
    "        print(node_.__dict__)\n",
    "\n",
    "    return net"
   ]
  },
  {
   "cell_type": "code",
   "execution_count": 100,
   "metadata": {
    "ExecuteTime": {
     "end_time": "2019-09-16T17:27:22.472732Z",
     "start_time": "2019-09-16T17:27:22.467348Z"
    }
   },
   "outputs": [],
   "source": [
    "net__1 = GenNet(3, [1])\n",
    "net__2 = GenNet(3, [1])"
   ]
  },
  {
   "cell_type": "code",
   "execution_count": 101,
   "metadata": {
    "ExecuteTime": {
     "end_time": "2019-09-16T17:27:22.955115Z",
     "start_time": "2019-09-16T17:27:22.941453Z"
    },
    "scrolled": true
   },
   "outputs": [
    {
     "name": "stdout",
     "output_type": "stream",
     "text": [
      "\n",
      "{<__main__.GenNode object at 0x11a0ba590>}\n",
      "\n",
      "subnet\n",
      "{'_input': array([1]), 'parent': <__main__.GenNode object at 0x11a0ba050>, 'children': set(), 'function': <function neg at 0x1189e7830>, 'bias': 1, 'coeff': 1, '_d': None}\n",
      "subnet\n",
      "{'_input': array([1]), 'parent': <__main__.GenNode object at 0x11a0ba050>, 'children': set(), 'function': <function neg at 0x1189e7830>, 'bias': 1, 'coeff': 1, '_d': None}\n",
      "{'_input': array([1]), 'parent': <__main__.GenNode object at 0x11a0ba590>, 'children': {<__main__.GenNode object at 0x11a0ba410>}, 'function': <ufunc 'tanh'>, 'bias': 1, 'coeff': 1, '_d': None}\n",
      "full subnet\n",
      "{'_input': array([1]), 'parent': <__main__.GenNode object at 0x11a0ba050>, 'children': set(), 'function': <function neg at 0x1189e7830>, 'bias': 1, 'coeff': 1, '_d': None}\n",
      "{'_input': array([1]), 'parent': None, 'children': {<__main__.GenNode object at 0x11a0ba050>}, 'function': <function neg at 0x1189e7830>, 'bias': 1, 'coeff': 1, '_d': None}\n",
      "{'_input': array([1]), 'parent': <__main__.GenNode object at 0x11a0ba590>, 'children': {<__main__.GenNode object at 0x11a0ba410>}, 'function': <ufunc 'tanh'>, 'bias': 1, 'coeff': 1, '_d': None}\n",
      "{'_input': array([1]), 'parent': <__main__.GenNode object at 0x11a0ba050>, 'children': set(), 'function': <function neg at 0x1189e7830>, 'bias': 1, 'coeff': 1, '_d': None}\n",
      "{'_input': array([1]), 'parent': None, 'children': {<__main__.GenNode object at 0x11a0ba050>}, 'function': <function neg at 0x1189e7830>, 'bias': 1, 'coeff': 1, '_d': None}\n",
      "{'_input': array([1]), 'parent': <__main__.GenNode object at 0x11a0ba590>, 'children': {<__main__.GenNode object at 0x11a0ba410>}, 'function': <ufunc 'tanh'>, 'bias': 1, 'coeff': 1, '_d': None}\n",
      "\n",
      "{'_input': array([1]), 'parent': <__main__.GenNode object at 0x11a0ba590>, 'children': {<__main__.GenNode object at 0x11a0ba410>, <__main__.GenNode object at 0x119fa5a50>}, 'function': <ufunc 'tanh'>, 'bias': 1, 'coeff': 1, '_d': None} <__main__.GenNode object at 0x11a0ba050>\n",
      "\n",
      "{'_input': array([1]), 'parent': <__main__.GenNode object at 0x11a0ba050>, 'children': set(), 'function': <function neg at 0x1189e7830>, 'bias': 1, 'coeff': 1, '_d': None}\n",
      "{'_input': array([1]), 'parent': None, 'children': {<__main__.GenNode object at 0x11a0ba050>}, 'function': <function neg at 0x1189e7830>, 'bias': 1, 'coeff': 1, '_d': None}\n",
      "{'_input': array([1]), 'parent': <__main__.GenNode object at 0x11a0ba590>, 'children': {<__main__.GenNode object at 0x11a0ba410>, <__main__.GenNode object at 0x119fa5a50>}, 'function': <ufunc 'tanh'>, 'bias': 1, 'coeff': 1, '_d': None}\n",
      "{'_input': array([1]), 'parent': <__main__.GenNode object at 0x11a0ba050>, 'children': set(), 'function': <function neg at 0x1189e7830>, 'bias': 1, 'coeff': 1, '_d': None}\n"
     ]
    }
   ],
   "source": [
    "mutated_net = mutate_net([net__1], 0)"
   ]
  },
  {
   "cell_type": "code",
   "execution_count": 78,
   "metadata": {
    "ExecuteTime": {
     "end_time": "2019-09-16T17:14:30.165011Z",
     "start_time": "2019-09-16T17:14:30.155741Z"
    }
   },
   "outputs": [
    {
     "name": "stdout",
     "output_type": "stream",
     "text": [
      "{'_input': array([1]), 'parent': None, 'children': {<__main__.GenNode object at 0x11a09fa10>}, 'function': <ufunc 'expit'>, 'bias': 1, 'coeff': 1, '_d': None}\n",
      "{'_input': array([1]), 'parent': <__main__.GenNode object at 0x118ac5610>, 'children': {<__main__.GenNode object at 0x11a09f050>}, 'function': <ufunc 'expit'>, 'bias': 1, 'coeff': 1, '_d': None}\n",
      "{'_input': array([1]), 'parent': <__main__.GenNode object at 0x11a09fa10>, 'children': set(), 'function': <function linear at 0x1189d6b00>, 'bias': 1, 'coeff': 1, '_d': None}\n"
     ]
    }
   ],
   "source": [
    "for node_ in net__1.all_nodes:\n",
    "    print(node_.__dict__)"
   ]
  },
  {
   "cell_type": "code",
   "execution_count": 102,
   "metadata": {
    "ExecuteTime": {
     "end_time": "2019-09-16T17:27:37.984101Z",
     "start_time": "2019-09-16T17:27:37.973519Z"
    }
   },
   "outputs": [
    {
     "name": "stdout",
     "output_type": "stream",
     "text": [
      "{'_input': array([1]), 'parent': <__main__.GenNode object at 0x11a0ba050>, 'children': set(), 'function': <function neg at 0x1189e7830>, 'bias': 1, 'coeff': 1, '_d': None} <__main__.GenNode object at 0x11a0ba410>\n",
      "{'_input': array([1]), 'parent': None, 'children': {<__main__.GenNode object at 0x11a0ba050>}, 'function': <function neg at 0x1189e7830>, 'bias': 1, 'coeff': 1, '_d': None} <__main__.GenNode object at 0x11a0ba590>\n",
      "{'_input': array([1]), 'parent': <__main__.GenNode object at 0x11a0ba590>, 'children': {<__main__.GenNode object at 0x11a0ba410>, <__main__.GenNode object at 0x119fa5a50>}, 'function': <ufunc 'tanh'>, 'bias': 1, 'coeff': 1, '_d': None} <__main__.GenNode object at 0x11a0ba050>\n",
      "{'_input': array([1]), 'parent': <__main__.GenNode object at 0x11a0ba050>, 'children': set(), 'function': <function neg at 0x1189e7830>, 'bias': 1, 'coeff': 1, '_d': None} <__main__.GenNode object at 0x119fa5a50>\n"
     ]
    }
   ],
   "source": [
    "for node_ in mutated_net.all_nodes:\n",
    "    print(node_.__dict__, node_)"
   ]
  },
  {
   "cell_type": "code",
   "execution_count": 68,
   "metadata": {
    "ExecuteTime": {
     "end_time": "2019-09-16T17:09:25.043467Z",
     "start_time": "2019-09-16T17:09:25.028448Z"
    }
   },
   "outputs": [],
   "source": [
    "if action == 1:\n",
    "    i, j = np.random.randint(len(nets), size=2)\n",
    "\n",
    "    net_1 = list(nets)[i]\n",
    "    while len(net_1.all_nodes) == 1:\n",
    "        i = np.random.randint(len(nets))\n",
    "        net_1 = list(nets)[i]\n",
    "\n",
    "    net_2 = list(self.population)[j]\n",
    "    while len(net_2.all_nodes) == 1:\n",
    "        j = np.random.randint(len(nets))\n",
    "        net_2 = list(nets)[j]\n",
    "\n",
    "    new_net = self.cross(net_1, net_2)\n",
    "    if new_net:\n",
    "        self.population = list(np.concatenate((np.array(list(nets)), np.array(new_net))))\n",
    "\n",
    "elif action == 2:\n",
    "    i = np.random.randint(len(nets))\n",
    "    nets.append(mutate_net(nets, i))"
   ]
  },
  {
   "cell_type": "code",
   "execution_count": 69,
   "metadata": {
    "ExecuteTime": {
     "end_time": "2019-09-16T17:09:25.891515Z",
     "start_time": "2019-09-16T17:09:25.882949Z"
    }
   },
   "outputs": [
    {
     "data": {
      "text/plain": [
       "[<__main__.GenNet at 0x118af8190>,\n",
       " <__main__.GenNet at 0x118af84d0>,\n",
       " <__main__.GenNet at 0x118af8790>,\n",
       " <__main__.GenNet at 0x118af8a10>]"
      ]
     },
     "execution_count": 69,
     "metadata": {},
     "output_type": "execute_result"
    }
   ],
   "source": [
    "nets"
   ]
  },
  {
   "cell_type": "code",
   "execution_count": 109,
   "metadata": {
    "ExecuteTime": {
     "end_time": "2019-09-16T17:28:46.324664Z",
     "start_time": "2019-09-16T17:28:46.309202Z"
    },
    "scrolled": true
   },
   "outputs": [
    {
     "name": "stdout",
     "output_type": "stream",
     "text": [
      "{'_input': array([1]), 'parent': <__main__.GenNode object at 0x118ac53d0>, 'children': {<__main__.GenNode object at 0x118ac5450>}, 'function': <function relu at 0x1113f47a0>, 'bias': 1, 'coeff': 1, '_d': None}\n",
      "{'_input': array([1]), 'parent': <__main__.GenNode object at 0x118ac57d0>, 'children': {<__main__.GenNode object at 0x118ac5850>, <__main__.GenNode object at 0x118ac58d0>}, 'function': <function neg at 0x1189e7830>, 'bias': 1, 'coeff': 1, '_d': array([-0.4231454])}\n",
      "{'_input': array([1]), 'parent': <__main__.GenNode object at 0x118ac5410>, 'children': {<__main__.GenNode object at 0x118ac5490>}, 'function': <function neg at 0x1189e7830>, 'bias': 1, 'coeff': 1, '_d': None}\n",
      "{'_input': array([1]), 'parent': <__main__.GenNode object at 0x118ac5810>, 'children': {<__main__.GenNode object at 0x118ac5890>}, 'function': <ufunc 'tanh'>, 'bias': 1, 'coeff': 1, '_d': array([-0.00417477])}\n",
      "{'_input': array([1]), 'parent': <__main__.GenNode object at 0x118ac5450>, 'children': {<__main__.GenNode object at 0x118ac54d0>}, 'function': <ufunc 'expit'>, 'bias': 1, 'coeff': 1, '_d': None}\n",
      "{'_input': array([1]), 'parent': <__main__.GenNode object at 0x118ac5850>, 'children': set(), 'function': <ufunc 'absolute'>, 'bias': 1, 'coeff': 1, '_d': array([-0.00417477])}\n",
      "{'_input': array([1]), 'parent': <__main__.GenNode object at 0x118ac5750>, 'children': {<__main__.GenNode object at 0x118ac57d0>}, 'function': <function linear at 0x1189d6b00>, 'bias': 1, 'coeff': 1, '_d': array([-0.4231454])}\n",
      "{'_input': array([1]), 'parent': <__main__.GenNode object at 0x118ac5490>, 'children': {<__main__.GenNode object at 0x118ac5510>}, 'function': <function linear at 0x1189d6b00>, 'bias': 1, 'coeff': 1, '_d': None}\n",
      "{'_input': array([1]), 'parent': <__main__.GenNode object at 0x118ac5810>, 'children': set(), 'function': <function neg at 0x1189e7830>, 'bias': 1, 'coeff': 1, '_d': array([0.4231454])}\n",
      "{'_input': array([1]), 'parent': <__main__.GenNode object at 0x118ac54d0>, 'children': {<__main__.GenNode object at 0x118ac5550>}, 'function': <function relu at 0x1113f47a0>, 'bias': 1, 'coeff': 1, '_d': None}\n",
      "{'_input': array([1]), 'parent': <__main__.GenNode object at 0x118ac5510>, 'children': {<__main__.GenNode object at 0x118ac5590>}, 'function': <function linear at 0x1189d6b00>, 'bias': 1, 'coeff': 1, '_d': None}\n",
      "{'_input': array([1]), 'parent': <__main__.GenNode object at 0x118ac5550>, 'children': {<__main__.GenNode object at 0x118ac55d0>}, 'function': <function relu at 0x1113f47a0>, 'bias': 1, 'coeff': 1, '_d': None}\n",
      "{'_input': array([1]), 'parent': <__main__.GenNode object at 0x118ac5590>, 'children': set(), 'function': <function relu at 0x1113f47a0>, 'bias': 1, 'coeff': 1, '_d': None}\n",
      "{'_input': array([1]), 'parent': <__main__.GenNode object at 0x118ac5790>, 'children': {<__main__.GenNode object at 0x118ac5810>}, 'function': <function neg at 0x1189e7830>, 'bias': 1, 'coeff': 1, '_d': array([0.4231454])}\n",
      "{'_input': array([1]), 'parent': None, 'children': {<__main__.GenNode object at 0x118ac5690>}, 'function': <function neg at 0x1189e7830>, 'bias': 1, 'coeff': 1, '_d': array([-1])}\n",
      "{'_input': array([1]), 'parent': <__main__.GenNode object at 0x118ac5650>, 'children': {<__main__.GenNode object at 0x118ac56d0>}, 'function': <ufunc 'absolute'>, 'bias': 1, 'coeff': 1, '_d': array([-1])}\n",
      "{'_input': array([1]), 'parent': <__main__.GenNode object at 0x118ac5690>, 'children': {<__main__.GenNode object at 0x118ac5710>}, 'function': <function linear at 0x1189d6b00>, 'bias': 1, 'coeff': 1, '_d': array([-1])}\n",
      "{'_input': array([1]), 'parent': <__main__.GenNode object at 0x118ac56d0>, 'children': {<__main__.GenNode object at 0x118ac5750>}, 'function': <function relu at 0x1113f47a0>, 'bias': 1, 'coeff': 1, '_d': array([-1])}\n",
      "{'_input': array([1]), 'parent': <__main__.GenNode object at 0x118ac5710>, 'children': {<__main__.GenNode object at 0x118ac5790>}, 'function': <ufunc 'tanh'>, 'bias': 1, 'coeff': 1, '_d': array([-0.4231454])}\n",
      "{'_input': array([1]), 'parent': None, 'children': {<__main__.GenNode object at 0x118ac53d0>}, 'function': <ufunc 'absolute'>, 'bias': 1, 'coeff': 1, '_d': None}\n",
      "{'_input': array([1]), 'parent': <__main__.GenNode object at 0x118ac5390>, 'children': {<__main__.GenNode object at 0x118ac5410>}, 'function': <function neg at 0x1189e7830>, 'bias': 1, 'coeff': 1, '_d': None}\n"
     ]
    }
   ],
   "source": [
    "for node_ in nets[3].all_nodes:\n",
    "    print(node_.__dict__)"
   ]
  },
  {
   "cell_type": "code",
   "execution_count": 73,
   "metadata": {
    "ExecuteTime": {
     "end_time": "2019-09-16T17:11:17.061594Z",
     "start_time": "2019-09-16T17:11:16.247308Z"
    }
   },
   "outputs": [
    {
     "name": "stdout",
     "output_type": "stream",
     "text": [
      "{'_input': array([1]), 'parent': <__main__.GenNode object at 0x118af81d0>, 'children': {<__main__.GenNode object at 0x118af8250>}, 'function': <function relu at 0x1113f47a0>, 'bias': 1, 'coeff': 1, '_d': array([-0.01829339])}\n",
      "{'_input': array([1]), 'parent': <__main__.GenNode object at 0x118af83d0>, 'children': {<__main__.GenNode object at 0x118af8450>}, 'function': <function relu at 0x1113f47a0>, 'bias': 1, 'coeff': 1, '_d': array([-1.63593313e-05])}\n",
      "{'_input': array([1]), 'parent': <__main__.GenNode object at 0x118af8210>, 'children': {<__main__.GenNode object at 0x118af8310>}, 'function': <function relu at 0x1113f47a0>, 'bias': 1, 'coeff': 1, '_d': array([-0.01829339])}\n",
      "{'_input': array([1]), 'parent': None, 'children': {<__main__.GenNode object at 0x118af81d0>}, 'function': <function neg at 0x1189e7830>, 'bias': 1, 'coeff': 1, '_d': array([-1])}\n",
      "{'_input': array([1]), 'parent': <__main__.GenNode object at 0x118af8410>, 'children': set(), 'function': <ufunc 'expit'>, 'bias': 1, 'coeff': 1, '_d': array([-1.71762484e-06])}\n",
      "{'_input': array([1]), 'parent': <__main__.GenNode object at 0x118af8250>, 'children': {<__main__.GenNode object at 0x118af8350>}, 'function': <ufunc 'tanh'>, 'bias': 1, 'coeff': 1, '_d': array([-0.00130816])}\n",
      "{'_input': array([1]), 'parent': <__main__.GenNode object at 0x118af8390>, 'children': {<__main__.GenNode object at 0x118af8410>}, 'function': <ufunc 'tanh'>, 'bias': 1, 'coeff': 1, '_d': array([-1.63593313e-05])}\n",
      "{'_input': array([1]), 'parent': <__main__.GenNode object at 0x118af8310>, 'children': {<__main__.GenNode object at 0x118af8390>}, 'function': <ufunc 'absolute'>, 'bias': 1, 'coeff': 1, '_d': array([0.00130816])}\n",
      "{'_input': array([1]), 'parent': <__main__.GenNode object at 0x118af8350>, 'children': {<__main__.GenNode object at 0x118af83d0>}, 'function': <function neg at 0x1189e7830>, 'bias': 1, 'coeff': 1, '_d': array([-0.00130816])}\n",
      "{'_input': array([1]), 'parent': <__main__.GenNode object at 0x118af2450>, 'children': {<__main__.GenNode object at 0x118af8210>}, 'function': <ufunc 'expit'>, 'bias': 1, 'coeff': 1, '_d': array([-0.01829339])}\n",
      "\n",
      "calculate\n",
      "[0.88079708] [2] [1]\n",
      "calculate\n",
      "[1.88079708] [1.88079708] [0.88079708]\n",
      "calculate\n",
      "[0.99372755] [2.88079708] [1.88079708]\n",
      "calculate\n",
      "[-1.99372755] [1.99372755] [0.99372755]\n",
      "calculate\n",
      "[0.99372755] [-0.99372755] [-1.99372755]\n",
      "calculate\n",
      "[0.96358174] [1.99372755] [0.99372755]\n",
      "calculate\n",
      "[1.96358174] [1.96358174] [0.96358174]\n",
      "calculate\n",
      "[2.96358174] [2.96358174] [1.96358174]\n",
      "calculate\n",
      "[0.98135913] [3.96358174] [2.96358174]\n",
      "calculate\n",
      "[-1.98135913] [1.98135913] [0.98135913]\n",
      "calculate\n",
      "[0.88079708] [2] [1]\n",
      "calculate\n",
      "[1.88079708] [1.88079708] [0.88079708]\n",
      "calculate\n",
      "[0.99372755] [2.88079708] [1.88079708]\n",
      "calculate\n",
      "[-1.99372755] [1.99372755] [0.99372755]\n",
      "calculate\n",
      "[0.99372755] [-0.99372755] [-1.99372755]\n",
      "calculate\n",
      "[0.96358174] [1.99372755] [0.99372755]\n",
      "calculate\n",
      "[1.96358174] [1.96358174] [0.96358174]\n",
      "calculate\n",
      "[2.96358174] [2.96358174] [1.96358174]\n",
      "calculate\n",
      "[0.98135913] [3.96358174] [2.96358174]\n",
      "arg  [1.98135913]\n",
      "calculate\n",
      "[0.88079708] [2] [1]\n",
      "calculate\n",
      "[1.88079708] [1.88079708] [0.88079708]\n",
      "calculate\n",
      "[0.99372755] [2.88079708] [1.88079708]\n",
      "calculate\n",
      "[-1.99372755] [1.99372755] [0.99372755]\n",
      "calculate\n",
      "[0.99372755] [-0.99372755] [-1.99372755]\n",
      "calculate\n",
      "[0.96358174] [1.99372755] [0.99372755]\n",
      "calculate\n",
      "[1.96358174] [1.96358174] [0.96358174]\n",
      "calculate\n",
      "[2.96358174] [2.96358174] [1.96358174]\n",
      "calculate\n",
      "[0.98135913] [3.96358174] [2.96358174]\n",
      "calculate\n",
      "[0.88079708] [2] [1]\n",
      "calculate\n",
      "[1.88079708] [1.88079708] [0.88079708]\n",
      "calculate\n",
      "[0.99372755] [2.88079708] [1.88079708]\n",
      "calculate\n",
      "[-1.99372755] [1.99372755] [0.99372755]\n",
      "calculate\n",
      "[0.99372755] [-0.99372755] [-1.99372755]\n",
      "calculate\n",
      "[0.96358174] [1.99372755] [0.99372755]\n",
      "calculate\n",
      "[1.96358174] [1.96358174] [0.96358174]\n",
      "calculate\n",
      "[2.96358174] [2.96358174] [1.96358174]\n",
      "calculate\n",
      "[0.98135913] [3.96358174] [2.96358174]\n",
      "calculate\n",
      "[0.88079708] [2] [1]\n",
      "calculate\n",
      "[1.88079708] [1.88079708] [0.88079708]\n",
      "calculate\n",
      "[0.99372755] [2.88079708] [1.88079708]\n",
      "calculate\n",
      "[-1.99372755] [1.99372755] [0.99372755]\n",
      "calculate\n",
      "[0.99372755] [-0.99372755] [-1.99372755]\n",
      "calculate\n",
      "[0.96358174] [1.99372755] [0.99372755]\n",
      "calculate\n",
      "[1.96358174] [1.96358174] [0.96358174]\n",
      "calculate\n",
      "[2.96358174] [2.96358174] [1.96358174]\n",
      "arg  [3.96358174]\n",
      "calculate\n",
      "[0.88079708] [2] [1]\n",
      "calculate\n",
      "[1.88079708] [1.88079708] [0.88079708]\n",
      "calculate\n",
      "[0.99372755] [2.88079708] [1.88079708]\n",
      "calculate\n",
      "[-1.99372755] [1.99372755] [0.99372755]\n",
      "calculate\n",
      "[0.99372755] [-0.99372755] [-1.99372755]\n",
      "calculate\n",
      "[0.96358174] [1.99372755] [0.99372755]\n",
      "calculate\n",
      "[1.96358174] [1.96358174] [0.96358174]\n",
      "calculate\n",
      "[2.96358174] [2.96358174] [1.96358174]\n",
      "calculate\n",
      "[0.88079708] [2] [1]\n",
      "calculate\n",
      "[1.88079708] [1.88079708] [0.88079708]\n",
      "calculate\n",
      "[0.99372755] [2.88079708] [1.88079708]\n",
      "calculate\n",
      "[-1.99372755] [1.99372755] [0.99372755]\n",
      "calculate\n",
      "[0.99372755] [-0.99372755] [-1.99372755]\n",
      "calculate\n",
      "[0.96358174] [1.99372755] [0.99372755]\n",
      "calculate\n",
      "[1.96358174] [1.96358174] [0.96358174]\n",
      "calculate\n",
      "[2.96358174] [2.96358174] [1.96358174]\n",
      "calculate\n",
      "[0.88079708] [2] [1]\n",
      "calculate\n",
      "[1.88079708] [1.88079708] [0.88079708]\n",
      "calculate\n",
      "[0.99372755] [2.88079708] [1.88079708]\n",
      "calculate\n",
      "[-1.99372755] [1.99372755] [0.99372755]\n",
      "calculate\n",
      "[0.99372755] [-0.99372755] [-1.99372755]\n",
      "calculate\n",
      "[0.96358174] [1.99372755] [0.99372755]\n",
      "calculate\n",
      "[1.96358174] [1.96358174] [0.96358174]\n",
      "arg  [2.96358174]\n",
      "calculate\n",
      "[0.88079708] [2] [1]\n",
      "calculate\n",
      "[1.88079708] [1.88079708] [0.88079708]\n",
      "calculate\n",
      "[0.99372755] [2.88079708] [1.88079708]\n",
      "calculate\n",
      "[-1.99372755] [1.99372755] [0.99372755]\n",
      "calculate\n",
      "[0.99372755] [-0.99372755] [-1.99372755]\n",
      "calculate\n",
      "[0.96358174] [1.99372755] [0.99372755]\n",
      "calculate\n",
      "[1.96358174] [1.96358174] [0.96358174]\n",
      "calculate\n",
      "[0.88079708] [2] [1]\n",
      "calculate\n",
      "[1.88079708] [1.88079708] [0.88079708]\n",
      "calculate\n",
      "[0.99372755] [2.88079708] [1.88079708]\n",
      "calculate\n",
      "[-1.99372755] [1.99372755] [0.99372755]\n",
      "calculate\n",
      "[0.99372755] [-0.99372755] [-1.99372755]\n",
      "calculate\n",
      "[0.96358174] [1.99372755] [0.99372755]\n",
      "calculate\n",
      "[1.96358174] [1.96358174] [0.96358174]\n",
      "calculate\n",
      "[0.88079708] [2] [1]\n",
      "calculate\n",
      "[1.88079708] [1.88079708] [0.88079708]\n",
      "calculate\n",
      "[0.99372755] [2.88079708] [1.88079708]\n",
      "calculate\n",
      "[-1.99372755] [1.99372755] [0.99372755]\n",
      "calculate\n",
      "[0.99372755] [-0.99372755] [-1.99372755]\n",
      "calculate\n",
      "[0.96358174] [1.99372755] [0.99372755]\n",
      "arg  [1.96358174]\n",
      "calculate\n",
      "[0.88079708] [2] [1]\n",
      "calculate\n",
      "[1.88079708] [1.88079708] [0.88079708]\n",
      "calculate\n",
      "[0.99372755] [2.88079708] [1.88079708]\n",
      "calculate\n",
      "[-1.99372755] [1.99372755] [0.99372755]\n",
      "calculate\n",
      "[0.99372755] [-0.99372755] [-1.99372755]\n",
      "calculate\n",
      "[0.96358174] [1.99372755] [0.99372755]\n",
      "calculate\n",
      "[0.88079708] [2] [1]\n",
      "calculate\n",
      "[1.88079708] [1.88079708] [0.88079708]\n",
      "calculate\n",
      "[0.99372755] [2.88079708] [1.88079708]\n",
      "calculate\n",
      "[-1.99372755] [1.99372755] [0.99372755]\n",
      "calculate\n",
      "[0.99372755] [-0.99372755] [-1.99372755]\n",
      "calculate\n",
      "[0.96358174] [1.99372755] [0.99372755]\n",
      "calculate\n",
      "[0.88079708] [2] [1]\n",
      "calculate\n",
      "[1.88079708] [1.88079708] [0.88079708]\n",
      "calculate\n",
      "[0.99372755] [2.88079708] [1.88079708]\n",
      "calculate\n",
      "[-1.99372755] [1.99372755] [0.99372755]\n",
      "calculate\n",
      "[0.99372755] [-0.99372755] [-1.99372755]\n",
      "arg  [1.99372755]\n",
      "calculate\n",
      "[0.88079708] [2] [1]\n",
      "calculate\n",
      "[1.88079708] [1.88079708] [0.88079708]\n",
      "calculate\n",
      "[0.99372755] [2.88079708] [1.88079708]\n",
      "calculate\n",
      "[-1.99372755] [1.99372755] [0.99372755]\n",
      "calculate\n",
      "[0.99372755] [-0.99372755] [-1.99372755]\n",
      "calculate\n",
      "[0.88079708] [2] [1]\n",
      "calculate\n",
      "[1.88079708] [1.88079708] [0.88079708]\n",
      "calculate\n",
      "[0.99372755] [2.88079708] [1.88079708]\n",
      "calculate\n",
      "[-1.99372755] [1.99372755] [0.99372755]\n",
      "calculate\n",
      "[0.99372755] [-0.99372755] [-1.99372755]\n",
      "calculate\n",
      "[0.88079708] [2] [1]\n",
      "calculate\n",
      "[1.88079708] [1.88079708] [0.88079708]\n",
      "calculate\n",
      "[0.99372755] [2.88079708] [1.88079708]\n",
      "calculate\n",
      "[-1.99372755] [1.99372755] [0.99372755]\n",
      "arg  [-0.99372755]\n",
      "calculate\n",
      "[0.88079708] [2] [1]\n",
      "calculate\n",
      "[1.88079708] [1.88079708] [0.88079708]\n",
      "calculate\n",
      "[0.99372755] [2.88079708] [1.88079708]\n",
      "calculate\n",
      "[-1.99372755] [1.99372755] [0.99372755]\n",
      "calculate\n",
      "[0.88079708] [2] [1]\n",
      "calculate\n",
      "[1.88079708] [1.88079708] [0.88079708]\n",
      "calculate\n",
      "[0.99372755] [2.88079708] [1.88079708]\n",
      "calculate\n",
      "[-1.99372755] [1.99372755] [0.99372755]\n",
      "calculate\n",
      "[0.88079708] [2] [1]\n",
      "calculate\n",
      "[1.88079708] [1.88079708] [0.88079708]\n",
      "calculate\n",
      "[0.99372755] [2.88079708] [1.88079708]\n",
      "arg  [1.99372755]\n",
      "calculate\n",
      "[0.88079708] [2] [1]\n",
      "calculate\n",
      "[1.88079708] [1.88079708] [0.88079708]\n",
      "calculate\n",
      "[0.99372755] [2.88079708] [1.88079708]\n",
      "calculate\n",
      "[0.88079708] [2] [1]\n",
      "calculate\n",
      "[1.88079708] [1.88079708] [0.88079708]\n",
      "calculate\n",
      "[0.99372755] [2.88079708] [1.88079708]\n",
      "calculate\n",
      "[0.88079708] [2] [1]\n",
      "calculate\n",
      "[1.88079708] [1.88079708] [0.88079708]\n",
      "arg  [2.88079708]\n",
      "calculate\n",
      "[0.88079708] [2] [1]\n",
      "calculate\n",
      "[1.88079708] [1.88079708] [0.88079708]\n",
      "calculate\n",
      "[0.88079708] [2] [1]\n",
      "calculate\n",
      "[1.88079708] [1.88079708] [0.88079708]\n",
      "calculate\n",
      "[0.88079708] [2] [1]\n",
      "arg  [1.88079708]\n",
      "calculate\n",
      "[0.88079708] [2] [1]\n",
      "calculate\n",
      "[0.88079708] [2] [1]\n",
      "arg  [2]\n",
      "[-1.82933925e-02 -1.63593313e-05 -1.82933925e-02 -1.00000000e+00\n",
      " -1.71762484e-06 -1.30816485e-03 -1.63593313e-05  1.30816485e-03\n",
      " -1.30816485e-03 -1.82933925e-02 -3.59205715e-02 -1.44092512e-05\n",
      " -1.76271789e-02 -9.81359125e-01 -1.71762484e-06 -1.29995945e-03\n",
      " -3.07685824e-05 -2.60812430e-03 -1.29995945e-03 -5.42139640e-02]  jacobian\n",
      "[-1.98135913] [-1.82933925e-02 -1.63593313e-05 -1.82933925e-02 -1.00000000e+00\n",
      " -1.71762484e-06 -1.30816485e-03 -1.63593313e-05  1.30816485e-03\n",
      " -1.30816485e-03 -1.82933925e-02 -3.59205715e-02 -1.44092512e-05\n",
      " -1.76271789e-02 -9.81359125e-01 -1.71762484e-06 -1.29995945e-03\n",
      " -3.07685824e-05 -2.60812430e-03 -1.29995945e-03 -5.42139640e-02] 10\n",
      "\n",
      "{'_input': array([1]), 'parent': <__main__.GenNode object at 0x118af85d0>, 'children': {<__main__.GenNode object at 0x118af8650>}, 'function': <function linear at 0x1189d6b00>, 'bias': 1, 'coeff': 1, '_d': array([-0.00996361])}\n",
      "{'_input': array([1]), 'parent': <__main__.GenNode object at 0x118af8610>, 'children': {<__main__.GenNode object at 0x118af8690>}, 'function': <function neg at 0x1189e7830>, 'bias': 1, 'coeff': 1, '_d': array([0.00996361])}\n",
      "{'_input': array([1]), 'parent': None, 'children': {<__main__.GenNode object at 0x118af8510>}, 'function': <function neg at 0x1189e7830>, 'bias': 1, 'coeff': 1, '_d': array([-1])}\n",
      "{'_input': array([1]), 'parent': <__main__.GenNode object at 0x118af8650>, 'children': {<__main__.GenNode object at 0x118af86d0>}, 'function': <function neg at 0x1189e7830>, 'bias': 1, 'coeff': 1, '_d': array([-0.00996361])}\n",
      "{'_input': array([1]), 'parent': <__main__.GenNode object at 0x118af8690>, 'children': {<__main__.GenNode object at 0x118af8710>}, 'function': <ufunc 'tanh'>, 'bias': 1, 'coeff': 1, '_d': array([-9.83013617e-05])}\n",
      "{'_input': array([1]), 'parent': <__main__.GenNode object at 0x118af8490>, 'children': {<__main__.GenNode object at 0x118af8550>}, 'function': <ufunc 'absolute'>, 'bias': 1, 'coeff': 1, '_d': array([-1])}\n",
      "{'_input': array([1]), 'parent': <__main__.GenNode object at 0x118af86d0>, 'children': set(), 'function': <ufunc 'absolute'>, 'bias': 1, 'coeff': 1, '_d': array([-9.83013617e-05])}\n",
      "{'_input': array([1]), 'parent': <__main__.GenNode object at 0x118af8510>, 'children': {<__main__.GenNode object at 0x118af8590>}, 'function': <function linear at 0x1189d6b00>, 'bias': 1, 'coeff': 1, '_d': array([-1])}\n",
      "{'_input': array([1]), 'parent': <__main__.GenNode object at 0x118af8550>, 'children': {<__main__.GenNode object at 0x118af85d0>}, 'function': <function relu at 0x1113f47a0>, 'bias': 1, 'coeff': 1, '_d': array([-1])}\n",
      "{'_input': array([1]), 'parent': <__main__.GenNode object at 0x118af8590>, 'children': {<__main__.GenNode object at 0x118af8610>}, 'function': <ufunc 'tanh'>, 'bias': 1, 'coeff': 1, '_d': array([-0.00996361])}\n",
      "\n",
      "calculate\n",
      "[2] [2] [1]\n",
      "calculate\n",
      "[0.99505475] [3] [2]\n",
      "calculate\n",
      "[-1.99505475] [1.99505475] [0.99505475]\n",
      "calculate\n",
      "[0.99505475] [-0.99505475] [-1.99505475]\n",
      "calculate\n",
      "[1.99505475] [1.99505475] [0.99505475]\n",
      "calculate\n",
      "[0.99500572] [2.99505475] [1.99505475]\n",
      "calculate\n",
      "[1.99500572] [1.99500572] [0.99500572]\n",
      "calculate\n",
      "[2.99500572] [2.99500572] [1.99500572]\n",
      "calculate\n",
      "[3.99500572] [3.99500572] [2.99500572]\n",
      "calculate\n",
      "[-4.99500572] [4.99500572] [3.99500572]\n",
      "calculate\n",
      "[2] [2] [1]\n",
      "calculate\n",
      "[0.99505475] [3] [2]\n",
      "calculate\n",
      "[-1.99505475] [1.99505475] [0.99505475]\n",
      "calculate\n",
      "[0.99505475] [-0.99505475] [-1.99505475]\n",
      "calculate\n",
      "[1.99505475] [1.99505475] [0.99505475]\n",
      "calculate\n",
      "[0.99500572] [2.99505475] [1.99505475]\n",
      "calculate\n",
      "[1.99500572] [1.99500572] [0.99500572]\n",
      "calculate\n",
      "[2.99500572] [2.99500572] [1.99500572]\n",
      "calculate\n"
     ]
    },
    {
     "name": "stdout",
     "output_type": "stream",
     "text": [
      "[3.99500572] [3.99500572] [2.99500572]\n",
      "arg  [4.99500572]\n",
      "calculate\n",
      "[2] [2] [1]\n",
      "calculate\n",
      "[0.99505475] [3] [2]\n",
      "calculate\n",
      "[-1.99505475] [1.99505475] [0.99505475]\n",
      "calculate\n",
      "[0.99505475] [-0.99505475] [-1.99505475]\n",
      "calculate\n",
      "[1.99505475] [1.99505475] [0.99505475]\n",
      "calculate\n",
      "[0.99500572] [2.99505475] [1.99505475]\n",
      "calculate\n",
      "[1.99500572] [1.99500572] [0.99500572]\n",
      "calculate\n",
      "[2.99500572] [2.99500572] [1.99500572]\n",
      "calculate\n",
      "[3.99500572] [3.99500572] [2.99500572]\n",
      "calculate\n",
      "[2] [2] [1]\n",
      "calculate\n",
      "[0.99505475] [3] [2]\n",
      "calculate\n",
      "[-1.99505475] [1.99505475] [0.99505475]\n",
      "calculate\n",
      "[0.99505475] [-0.99505475] [-1.99505475]\n",
      "calculate\n",
      "[1.99505475] [1.99505475] [0.99505475]\n",
      "calculate\n",
      "[0.99500572] [2.99505475] [1.99505475]\n",
      "calculate\n",
      "[1.99500572] [1.99500572] [0.99500572]\n",
      "calculate\n",
      "[2.99500572] [2.99500572] [1.99500572]\n",
      "calculate\n",
      "[3.99500572] [3.99500572] [2.99500572]\n",
      "calculate\n",
      "[2] [2] [1]\n",
      "calculate\n",
      "[0.99505475] [3] [2]\n",
      "calculate\n",
      "[-1.99505475] [1.99505475] [0.99505475]\n",
      "calculate\n",
      "[0.99505475] [-0.99505475] [-1.99505475]\n",
      "calculate\n",
      "[1.99505475] [1.99505475] [0.99505475]\n",
      "calculate\n",
      "[0.99500572] [2.99505475] [1.99505475]\n",
      "calculate\n",
      "[1.99500572] [1.99500572] [0.99500572]\n",
      "calculate\n",
      "[2.99500572] [2.99500572] [1.99500572]\n",
      "arg  [3.99500572]\n",
      "calculate\n",
      "[2] [2] [1]\n",
      "calculate\n",
      "[0.99505475] [3] [2]\n",
      "calculate\n",
      "[-1.99505475] [1.99505475] [0.99505475]\n",
      "calculate\n",
      "[0.99505475] [-0.99505475] [-1.99505475]\n",
      "calculate\n",
      "[1.99505475] [1.99505475] [0.99505475]\n",
      "calculate\n",
      "[0.99500572] [2.99505475] [1.99505475]\n",
      "calculate\n",
      "[1.99500572] [1.99500572] [0.99500572]\n",
      "calculate\n",
      "[2.99500572] [2.99500572] [1.99500572]\n",
      "calculate\n",
      "[2] [2] [1]\n",
      "calculate\n",
      "[0.99505475] [3] [2]\n",
      "calculate\n",
      "[-1.99505475] [1.99505475] [0.99505475]\n",
      "calculate\n",
      "[0.99505475] [-0.99505475] [-1.99505475]\n",
      "calculate\n",
      "[1.99505475] [1.99505475] [0.99505475]\n",
      "calculate\n",
      "[0.99500572] [2.99505475] [1.99505475]\n",
      "calculate\n",
      "[1.99500572] [1.99500572] [0.99500572]\n",
      "calculate\n",
      "[2.99500572] [2.99500572] [1.99500572]\n",
      "calculate\n",
      "[2] [2] [1]\n",
      "calculate\n",
      "[0.99505475] [3] [2]\n",
      "calculate\n",
      "[-1.99505475] [1.99505475] [0.99505475]\n",
      "calculate\n",
      "[0.99505475] [-0.99505475] [-1.99505475]\n",
      "calculate\n",
      "[1.99505475] [1.99505475] [0.99505475]\n",
      "calculate\n",
      "[0.99500572] [2.99505475] [1.99505475]\n",
      "calculate\n",
      "[1.99500572] [1.99500572] [0.99500572]\n",
      "arg  [2.99500572]\n",
      "calculate\n",
      "[2] [2] [1]\n",
      "calculate\n",
      "[0.99505475] [3] [2]\n",
      "calculate\n",
      "[-1.99505475] [1.99505475] [0.99505475]\n",
      "calculate\n",
      "[0.99505475] [-0.99505475] [-1.99505475]\n",
      "calculate\n",
      "[1.99505475] [1.99505475] [0.99505475]\n",
      "calculate\n",
      "[0.99500572] [2.99505475] [1.99505475]\n",
      "calculate\n",
      "[1.99500572] [1.99500572] [0.99500572]\n",
      "calculate\n",
      "[2] [2] [1]\n",
      "calculate\n",
      "[0.99505475] [3] [2]\n",
      "calculate\n",
      "[-1.99505475] [1.99505475] [0.99505475]\n",
      "calculate\n",
      "[0.99505475] [-0.99505475] [-1.99505475]\n",
      "calculate\n",
      "[1.99505475] [1.99505475] [0.99505475]\n",
      "calculate\n",
      "[0.99500572] [2.99505475] [1.99505475]\n",
      "calculate\n",
      "[1.99500572] [1.99500572] [0.99500572]\n",
      "calculate\n",
      "[2] [2] [1]\n",
      "calculate\n",
      "[0.99505475] [3] [2]\n",
      "calculate\n",
      "[-1.99505475] [1.99505475] [0.99505475]\n",
      "calculate\n",
      "[0.99505475] [-0.99505475] [-1.99505475]\n",
      "calculate\n",
      "[1.99505475] [1.99505475] [0.99505475]\n",
      "calculate\n",
      "[0.99500572] [2.99505475] [1.99505475]\n",
      "arg  [1.99500572]\n",
      "calculate\n",
      "[2] [2] [1]\n",
      "calculate\n",
      "[0.99505475] [3] [2]\n",
      "calculate\n",
      "[-1.99505475] [1.99505475] [0.99505475]\n",
      "calculate\n",
      "[0.99505475] [-0.99505475] [-1.99505475]\n",
      "calculate\n",
      "[1.99505475] [1.99505475] [0.99505475]\n",
      "calculate\n",
      "[0.99500572] [2.99505475] [1.99505475]\n",
      "calculate\n",
      "[2] [2] [1]\n",
      "calculate\n",
      "[0.99505475] [3] [2]\n",
      "calculate\n",
      "[-1.99505475] [1.99505475] [0.99505475]\n",
      "calculate\n",
      "[0.99505475] [-0.99505475] [-1.99505475]\n",
      "calculate\n",
      "[1.99505475] [1.99505475] [0.99505475]\n",
      "calculate\n",
      "[0.99500572] [2.99505475] [1.99505475]\n",
      "calculate\n",
      "[2] [2] [1]\n",
      "calculate\n",
      "[0.99505475] [3] [2]\n",
      "calculate\n",
      "[-1.99505475] [1.99505475] [0.99505475]\n",
      "calculate\n",
      "[0.99505475] [-0.99505475] [-1.99505475]\n",
      "calculate\n",
      "[1.99505475] [1.99505475] [0.99505475]\n",
      "arg  [2.99505475]\n",
      "calculate\n",
      "[2] [2] [1]\n",
      "calculate\n",
      "[0.99505475] [3] [2]\n",
      "calculate\n",
      "[-1.99505475] [1.99505475] [0.99505475]\n",
      "calculate\n",
      "[0.99505475] [-0.99505475] [-1.99505475]\n",
      "calculate\n",
      "[1.99505475] [1.99505475] [0.99505475]\n",
      "calculate\n",
      "[2] [2] [1]\n",
      "calculate\n",
      "[0.99505475] [3] [2]\n",
      "calculate\n",
      "[-1.99505475] [1.99505475] [0.99505475]\n",
      "calculate\n",
      "[0.99505475] [-0.99505475] [-1.99505475]\n",
      "calculate\n",
      "[1.99505475] [1.99505475] [0.99505475]\n",
      "calculate\n",
      "[2] [2] [1]\n",
      "calculate\n",
      "[0.99505475] [3] [2]\n",
      "calculate\n",
      "[-1.99505475] [1.99505475] [0.99505475]\n",
      "calculate\n",
      "[0.99505475] [-0.99505475] [-1.99505475]\n",
      "arg  [1.99505475]\n",
      "calculate\n",
      "[2] [2] [1]\n",
      "calculate\n",
      "[0.99505475] [3] [2]\n",
      "calculate\n",
      "[-1.99505475] [1.99505475] [0.99505475]\n",
      "calculate\n",
      "[0.99505475] [-0.99505475] [-1.99505475]\n",
      "calculate\n",
      "[2] [2] [1]\n",
      "calculate\n",
      "[0.99505475] [3] [2]\n",
      "calculate\n",
      "[-1.99505475] [1.99505475] [0.99505475]\n",
      "calculate\n",
      "[0.99505475] [-0.99505475] [-1.99505475]\n",
      "calculate\n",
      "[2] [2] [1]\n",
      "calculate\n",
      "[0.99505475] [3] [2]\n",
      "calculate\n",
      "[-1.99505475] [1.99505475] [0.99505475]\n",
      "arg  [-0.99505475]\n",
      "calculate\n",
      "[2] [2] [1]\n",
      "calculate\n",
      "[0.99505475] [3] [2]\n",
      "calculate\n",
      "[-1.99505475] [1.99505475] [0.99505475]\n",
      "calculate\n",
      "[2] [2] [1]\n",
      "calculate\n",
      "[0.99505475] [3] [2]\n",
      "calculate\n",
      "[-1.99505475] [1.99505475] [0.99505475]\n",
      "calculate\n",
      "[2] [2] [1]\n",
      "calculate\n",
      "[0.99505475] [3] [2]\n",
      "arg  [1.99505475]\n",
      "calculate\n",
      "[2] [2] [1]\n",
      "calculate\n",
      "[0.99505475] [3] [2]\n",
      "calculate\n",
      "[2] [2] [1]\n",
      "calculate\n",
      "[0.99505475] [3] [2]\n",
      "calculate\n",
      "[2] [2] [1]\n",
      "arg  [3]\n",
      "calculate\n",
      "[2] [2] [1]\n",
      "calculate\n",
      "[2] [2] [1]\n",
      "arg  [2]\n",
      "[-9.96361153e-03  9.96361153e-03 -1.00000000e+00 -9.96361153e-03\n",
      " -9.83013617e-05 -1.00000000e+00 -9.83013617e-05 -1.00000000e+00\n",
      " -1.00000000e+00 -9.96361153e-03 -9.91433902e-03 -1.98779506e-02\n",
      " -3.99500572e+00 -9.91433902e-03 -1.96602723e-04 -2.99500572e+00\n",
      " -9.83013617e-05 -1.99500572e+00 -9.95005723e-01 -1.98779506e-02]  jacobian\n",
      "[-4.99500572] [-9.96361153e-03  9.96361153e-03 -1.00000000e+00 -9.96361153e-03\n",
      " -9.83013617e-05 -1.00000000e+00 -9.83013617e-05 -1.00000000e+00\n",
      " -1.00000000e+00 -9.96361153e-03 -9.91433902e-03 -1.98779506e-02\n",
      " -3.99500572e+00 -9.91433902e-03 -1.96602723e-04 -2.99500572e+00\n",
      " -9.83013617e-05 -1.99500572e+00 -9.95005723e-01 -1.98779506e-02] 10\n",
      "\n",
      "{'_input': array([1]), 'parent': <__main__.GenNode object at 0x118af87d0>, 'children': {<__main__.GenNode object at 0x118af8850>}, 'function': <function neg at 0x1189e7830>, 'bias': 1, 'coeff': 1, '_d': array([-0.45779597])}\n",
      "{'_input': array([1]), 'parent': <__main__.GenNode object at 0x118af8810>, 'children': {<__main__.GenNode object at 0x118af8890>}, 'function': <ufunc 'tanh'>, 'bias': 1, 'coeff': 1, '_d': array([-0.05117765])}\n",
      "{'_input': array([1]), 'parent': <__main__.GenNode object at 0x118af8850>, 'children': {<__main__.GenNode object at 0x118af88d0>}, 'function': <ufunc 'absolute'>, 'bias': 1, 'coeff': 1, '_d': array([-0.05117765])}\n",
      "{'_input': array([1]), 'parent': <__main__.GenNode object at 0x118af8890>, 'children': {<__main__.GenNode object at 0x118af8910>}, 'function': <function neg at 0x1189e7830>, 'bias': 1, 'coeff': 1, '_d': array([0.05117765])}\n",
      "{'_input': array([1]), 'parent': <__main__.GenNode object at 0x118af88d0>, 'children': {<__main__.GenNode object at 0x118af8950>}, 'function': <ufunc 'tanh'>, 'bias': 1, 'coeff': 1, '_d': array([0.02165559])}\n",
      "{'_input': array([1]), 'parent': None, 'children': {<__main__.GenNode object at 0x118af87d0>}, 'function': <function relu at 0x1113f47a0>, 'bias': 1, 'coeff': 1, '_d': array([1])}\n",
      "{'_input': array([1]), 'parent': <__main__.GenNode object at 0x118af8910>, 'children': {<__main__.GenNode object at 0x118af8990>}, 'function': <function neg at 0x1189e7830>, 'bias': 1, 'coeff': 1, '_d': array([-0.02165559])}\n",
      "{'_input': array([1]), 'parent': <__main__.GenNode object at 0x118af8990>, 'children': set(), 'function': <ufunc 'absolute'>, 'bias': 1, 'coeff': 1, '_d': array([-0.00021365])}\n",
      "{'_input': array([1]), 'parent': <__main__.GenNode object at 0x118af8950>, 'children': {<__main__.GenNode object at 0x118af89d0>}, 'function': <ufunc 'tanh'>, 'bias': 1, 'coeff': 1, '_d': array([-0.00021365])}\n",
      "{'_input': array([1]), 'parent': <__main__.GenNode object at 0x118af8750>, 'children': {<__main__.GenNode object at 0x118af8810>}, 'function': <ufunc 'tanh'>, 'bias': 1, 'coeff': 1, '_d': array([0.45779597])}\n",
      "\n",
      "calculate\n",
      "[2] [2] [1]\n",
      "calculate\n",
      "[0.99505475] [3] [2]\n",
      "calculate\n",
      "[-1.99505475] [1.99505475] [0.99505475]\n",
      "calculate\n",
      "[-0.75950944] [-0.99505475] [-1.99505475]\n",
      "calculate\n",
      "[-0.24049056] [0.24049056] [-0.75950944]\n",
      "calculate\n",
      "[0.75950944] [0.75950944] [-0.24049056]\n",
      "calculate\n",
      "[0.94244819] [1.75950944] [0.75950944]\n",
      "calculate\n",
      "[-1.94244819] [1.94244819] [0.94244819]\n",
      "calculate\n",
      "[-0.73634505] [-0.94244819] [-1.94244819]\n",
      "calculate\n",
      "[0.26365495] [0.26365495] [-0.73634505]\n",
      "calculate\n",
      "[2] [2] [1]\n",
      "calculate\n",
      "[0.99505475] [3] [2]\n",
      "calculate\n",
      "[-1.99505475] [1.99505475] [0.99505475]\n",
      "calculate\n",
      "[-0.75950944] [-0.99505475] [-1.99505475]\n",
      "calculate\n",
      "[-0.24049056] [0.24049056] [-0.75950944]\n",
      "calculate\n",
      "[0.75950944] [0.75950944] [-0.24049056]\n",
      "calculate\n",
      "[0.94244819] [1.75950944] [0.75950944]\n",
      "calculate\n",
      "[-1.94244819] [1.94244819] [0.94244819]\n",
      "calculate\n",
      "[-0.73634505] [-0.94244819] [-1.94244819]\n",
      "arg  [0.26365495]\n",
      "calculate\n",
      "[2] [2] [1]\n",
      "calculate\n",
      "[0.99505475] [3] [2]\n",
      "calculate\n",
      "[-1.99505475] [1.99505475] [0.99505475]\n",
      "calculate\n",
      "[-0.75950944] [-0.99505475] [-1.99505475]\n",
      "calculate\n",
      "[-0.24049056] [0.24049056] [-0.75950944]\n",
      "calculate\n",
      "[0.75950944] [0.75950944] [-0.24049056]\n",
      "calculate\n",
      "[0.94244819] [1.75950944] [0.75950944]\n",
      "calculate\n",
      "[-1.94244819] [1.94244819] [0.94244819]\n",
      "calculate\n",
      "[-0.73634505] [-0.94244819] [-1.94244819]\n",
      "calculate\n",
      "[2] [2] [1]\n",
      "calculate\n",
      "[0.99505475] [3] [2]\n",
      "calculate\n",
      "[-1.99505475] [1.99505475] [0.99505475]\n",
      "calculate\n",
      "[-0.75950944] [-0.99505475] [-1.99505475]\n",
      "calculate\n",
      "[-0.24049056] [0.24049056] [-0.75950944]\n",
      "calculate\n",
      "[0.75950944] [0.75950944] [-0.24049056]\n",
      "calculate\n",
      "[0.94244819] [1.75950944] [0.75950944]\n",
      "calculate\n"
     ]
    },
    {
     "name": "stdout",
     "output_type": "stream",
     "text": [
      "[-1.94244819] [1.94244819] [0.94244819]\n",
      "calculate\n",
      "[-0.73634505] [-0.94244819] [-1.94244819]\n",
      "calculate\n",
      "[2] [2] [1]\n",
      "calculate\n",
      "[0.99505475] [3] [2]\n",
      "calculate\n",
      "[-1.99505475] [1.99505475] [0.99505475]\n",
      "calculate\n",
      "[-0.75950944] [-0.99505475] [-1.99505475]\n",
      "calculate\n",
      "[-0.24049056] [0.24049056] [-0.75950944]\n",
      "calculate\n",
      "[0.75950944] [0.75950944] [-0.24049056]\n",
      "calculate\n",
      "[0.94244819] [1.75950944] [0.75950944]\n",
      "calculate\n",
      "[-1.94244819] [1.94244819] [0.94244819]\n",
      "arg  [-0.94244819]\n",
      "calculate\n",
      "[2] [2] [1]\n",
      "calculate\n",
      "[0.99505475] [3] [2]\n",
      "calculate\n",
      "[-1.99505475] [1.99505475] [0.99505475]\n",
      "calculate\n",
      "[-0.75950944] [-0.99505475] [-1.99505475]\n",
      "calculate\n",
      "[-0.24049056] [0.24049056] [-0.75950944]\n",
      "calculate\n",
      "[0.75950944] [0.75950944] [-0.24049056]\n",
      "calculate\n",
      "[0.94244819] [1.75950944] [0.75950944]\n",
      "calculate\n",
      "[-1.94244819] [1.94244819] [0.94244819]\n",
      "calculate\n",
      "[2] [2] [1]\n",
      "calculate\n",
      "[0.99505475] [3] [2]\n",
      "calculate\n",
      "[-1.99505475] [1.99505475] [0.99505475]\n",
      "calculate\n",
      "[-0.75950944] [-0.99505475] [-1.99505475]\n",
      "calculate\n",
      "[-0.24049056] [0.24049056] [-0.75950944]\n",
      "calculate\n",
      "[0.75950944] [0.75950944] [-0.24049056]\n",
      "calculate\n",
      "[0.94244819] [1.75950944] [0.75950944]\n",
      "calculate\n",
      "[-1.94244819] [1.94244819] [0.94244819]\n",
      "calculate\n",
      "[2] [2] [1]\n",
      "calculate\n",
      "[0.99505475] [3] [2]\n",
      "calculate\n",
      "[-1.99505475] [1.99505475] [0.99505475]\n",
      "calculate\n",
      "[-0.75950944] [-0.99505475] [-1.99505475]\n",
      "calculate\n",
      "[-0.24049056] [0.24049056] [-0.75950944]\n",
      "calculate\n",
      "[0.75950944] [0.75950944] [-0.24049056]\n",
      "calculate\n",
      "[0.94244819] [1.75950944] [0.75950944]\n",
      "arg  [1.94244819]\n",
      "calculate\n",
      "[2] [2] [1]\n",
      "calculate\n",
      "[0.99505475] [3] [2]\n",
      "calculate\n",
      "[-1.99505475] [1.99505475] [0.99505475]\n",
      "calculate\n",
      "[-0.75950944] [-0.99505475] [-1.99505475]\n",
      "calculate\n",
      "[-0.24049056] [0.24049056] [-0.75950944]\n",
      "calculate\n",
      "[0.75950944] [0.75950944] [-0.24049056]\n",
      "calculate\n",
      "[0.94244819] [1.75950944] [0.75950944]\n",
      "calculate\n",
      "[2] [2] [1]\n",
      "calculate\n",
      "[0.99505475] [3] [2]\n",
      "calculate\n",
      "[-1.99505475] [1.99505475] [0.99505475]\n",
      "calculate\n",
      "[-0.75950944] [-0.99505475] [-1.99505475]\n",
      "calculate\n",
      "[-0.24049056] [0.24049056] [-0.75950944]\n",
      "calculate\n",
      "[0.75950944] [0.75950944] [-0.24049056]\n",
      "calculate\n",
      "[0.94244819] [1.75950944] [0.75950944]\n",
      "calculate\n",
      "[2] [2] [1]\n",
      "calculate\n",
      "[0.99505475] [3] [2]\n",
      "calculate\n",
      "[-1.99505475] [1.99505475] [0.99505475]\n",
      "calculate\n",
      "[-0.75950944] [-0.99505475] [-1.99505475]\n",
      "calculate\n",
      "[-0.24049056] [0.24049056] [-0.75950944]\n",
      "calculate\n",
      "[0.75950944] [0.75950944] [-0.24049056]\n",
      "arg  [1.75950944]\n",
      "calculate\n",
      "[2] [2] [1]\n",
      "calculate\n",
      "[0.99505475] [3] [2]\n",
      "calculate\n",
      "[-1.99505475] [1.99505475] [0.99505475]\n",
      "calculate\n",
      "[-0.75950944] [-0.99505475] [-1.99505475]\n",
      "calculate\n",
      "[-0.24049056] [0.24049056] [-0.75950944]\n",
      "calculate\n",
      "[0.75950944] [0.75950944] [-0.24049056]\n",
      "calculate\n",
      "[2] [2] [1]\n",
      "calculate\n",
      "[0.99505475] [3] [2]\n",
      "calculate\n",
      "[-1.99505475] [1.99505475] [0.99505475]\n",
      "calculate\n",
      "[-0.75950944] [-0.99505475] [-1.99505475]\n",
      "calculate\n",
      "[-0.24049056] [0.24049056] [-0.75950944]\n",
      "calculate\n",
      "[0.75950944] [0.75950944] [-0.24049056]\n",
      "calculate\n",
      "[2] [2] [1]\n",
      "calculate\n",
      "[0.99505475] [3] [2]\n",
      "calculate\n",
      "[-1.99505475] [1.99505475] [0.99505475]\n",
      "calculate\n",
      "[-0.75950944] [-0.99505475] [-1.99505475]\n",
      "calculate\n",
      "[-0.24049056] [0.24049056] [-0.75950944]\n",
      "arg  [0.75950944]\n",
      "calculate\n",
      "[2] [2] [1]\n",
      "calculate\n",
      "[0.99505475] [3] [2]\n",
      "calculate\n",
      "[-1.99505475] [1.99505475] [0.99505475]\n",
      "calculate\n",
      "[-0.75950944] [-0.99505475] [-1.99505475]\n",
      "calculate\n",
      "[-0.24049056] [0.24049056] [-0.75950944]\n",
      "calculate\n",
      "[2] [2] [1]\n",
      "calculate\n",
      "[0.99505475] [3] [2]\n",
      "calculate\n",
      "[-1.99505475] [1.99505475] [0.99505475]\n",
      "calculate\n",
      "[-0.75950944] [-0.99505475] [-1.99505475]\n",
      "calculate\n",
      "[-0.24049056] [0.24049056] [-0.75950944]\n",
      "calculate\n",
      "[2] [2] [1]\n",
      "calculate\n",
      "[0.99505475] [3] [2]\n",
      "calculate\n",
      "[-1.99505475] [1.99505475] [0.99505475]\n",
      "calculate\n",
      "[-0.75950944] [-0.99505475] [-1.99505475]\n",
      "arg  [0.24049056]\n",
      "calculate\n",
      "[2] [2] [1]\n",
      "calculate\n",
      "[0.99505475] [3] [2]\n",
      "calculate\n",
      "[-1.99505475] [1.99505475] [0.99505475]\n",
      "calculate\n",
      "[-0.75950944] [-0.99505475] [-1.99505475]\n",
      "calculate\n",
      "[2] [2] [1]\n",
      "calculate\n",
      "[0.99505475] [3] [2]\n",
      "calculate\n",
      "[-1.99505475] [1.99505475] [0.99505475]\n",
      "calculate\n",
      "[-0.75950944] [-0.99505475] [-1.99505475]\n",
      "calculate\n",
      "[2] [2] [1]\n",
      "calculate\n",
      "[0.99505475] [3] [2]\n",
      "calculate\n",
      "[-1.99505475] [1.99505475] [0.99505475]\n",
      "arg  [-0.99505475]\n",
      "calculate\n",
      "[2] [2] [1]\n",
      "calculate\n",
      "[0.99505475] [3] [2]\n",
      "calculate\n",
      "[-1.99505475] [1.99505475] [0.99505475]\n",
      "calculate\n",
      "[2] [2] [1]\n",
      "calculate\n",
      "[0.99505475] [3] [2]\n",
      "calculate\n",
      "[-1.99505475] [1.99505475] [0.99505475]\n",
      "calculate\n",
      "[2] [2] [1]\n",
      "calculate\n",
      "[0.99505475] [3] [2]\n",
      "arg  [1.99505475]\n",
      "calculate\n",
      "[2] [2] [1]\n",
      "calculate\n",
      "[0.99505475] [3] [2]\n",
      "calculate\n",
      "[2] [2] [1]\n",
      "calculate\n",
      "[0.99505475] [3] [2]\n",
      "calculate\n",
      "[2] [2] [1]\n",
      "arg  [3]\n",
      "calculate\n",
      "[2] [2] [1]\n",
      "calculate\n",
      "[2] [2] [1]\n",
      "arg  [2]\n",
      "[-4.57795970e-01 -5.11776535e-02 -5.11776535e-02  5.11776535e-02\n",
      "  2.16555888e-02  1.00000000e+00 -2.16555888e-02 -2.13654844e-04\n",
      " -2.13654844e-04  4.57795970e-01 -4.31448985e-01 -3.88699112e-02\n",
      "  1.23077423e-02 -3.88699112e-02 -4.32040854e-02 -7.36345048e-01\n",
      " -2.15484966e-02 -2.13654844e-04 -4.27309688e-04 -8.89244956e-01]  jacobian\n",
      "[0.26365495] [-4.57795970e-01 -5.11776535e-02 -5.11776535e-02  5.11776535e-02\n",
      "  2.16555888e-02  1.00000000e+00 -2.16555888e-02 -2.13654844e-04\n",
      " -2.13654844e-04  4.57795970e-01 -4.31448985e-01 -3.88699112e-02\n",
      "  1.23077423e-02 -3.88699112e-02 -4.32040854e-02 -7.36345048e-01\n",
      " -2.15484966e-02 -2.13654844e-04 -4.27309688e-04 -8.89244956e-01] 10\n",
      "\n",
      "{'_input': array([1]), 'parent': <__main__.GenNode object at 0x118ac53d0>, 'children': {<__main__.GenNode object at 0x118ac5450>}, 'function': <function relu at 0x1113f47a0>, 'bias': 1, 'coeff': 1, '_d': None}\n",
      "{'_input': array([1]), 'parent': <__main__.GenNode object at 0x118ac57d0>, 'children': {<__main__.GenNode object at 0x118ac5850>, <__main__.GenNode object at 0x118ac58d0>}, 'function': <function neg at 0x1189e7830>, 'bias': 1, 'coeff': 1, '_d': array([-0.4231454])}\n",
      "{'_input': array([1]), 'parent': <__main__.GenNode object at 0x118ac5410>, 'children': {<__main__.GenNode object at 0x118ac5490>}, 'function': <function neg at 0x1189e7830>, 'bias': 1, 'coeff': 1, '_d': None}\n",
      "{'_input': array([1]), 'parent': <__main__.GenNode object at 0x118ac5810>, 'children': {<__main__.GenNode object at 0x118ac5890>}, 'function': <ufunc 'tanh'>, 'bias': 1, 'coeff': 1, '_d': array([-0.00417477])}\n",
      "{'_input': array([1]), 'parent': <__main__.GenNode object at 0x118ac5450>, 'children': {<__main__.GenNode object at 0x118ac54d0>}, 'function': <ufunc 'expit'>, 'bias': 1, 'coeff': 1, '_d': None}\n",
      "{'_input': array([1]), 'parent': <__main__.GenNode object at 0x118ac5850>, 'children': set(), 'function': <ufunc 'absolute'>, 'bias': 1, 'coeff': 1, '_d': array([-0.00417477])}\n",
      "{'_input': array([1]), 'parent': <__main__.GenNode object at 0x118ac5750>, 'children': {<__main__.GenNode object at 0x118ac57d0>}, 'function': <function linear at 0x1189d6b00>, 'bias': 1, 'coeff': 1, '_d': array([-0.4231454])}\n",
      "{'_input': array([1]), 'parent': <__main__.GenNode object at 0x118ac5490>, 'children': {<__main__.GenNode object at 0x118ac5510>}, 'function': <function linear at 0x1189d6b00>, 'bias': 1, 'coeff': 1, '_d': None}\n",
      "{'_input': array([1]), 'parent': <__main__.GenNode object at 0x118ac5810>, 'children': set(), 'function': <function neg at 0x1189e7830>, 'bias': 1, 'coeff': 1, '_d': array([0.4231454])}\n",
      "{'_input': array([1]), 'parent': <__main__.GenNode object at 0x118ac54d0>, 'children': {<__main__.GenNode object at 0x118ac5550>}, 'function': <function relu at 0x1113f47a0>, 'bias': 1, 'coeff': 1, '_d': None}\n",
      "{'_input': array([1]), 'parent': <__main__.GenNode object at 0x118ac5510>, 'children': {<__main__.GenNode object at 0x118ac5590>}, 'function': <function linear at 0x1189d6b00>, 'bias': 1, 'coeff': 1, '_d': None}\n",
      "{'_input': array([1]), 'parent': <__main__.GenNode object at 0x118ac5550>, 'children': {<__main__.GenNode object at 0x118ac55d0>}, 'function': <function relu at 0x1113f47a0>, 'bias': 1, 'coeff': 1, '_d': None}\n",
      "{'_input': array([1]), 'parent': <__main__.GenNode object at 0x118ac5590>, 'children': set(), 'function': <function relu at 0x1113f47a0>, 'bias': 1, 'coeff': 1, '_d': None}\n",
      "{'_input': array([1]), 'parent': <__main__.GenNode object at 0x118ac5790>, 'children': {<__main__.GenNode object at 0x118ac5810>}, 'function': <function neg at 0x1189e7830>, 'bias': 1, 'coeff': 1, '_d': array([0.4231454])}\n",
      "{'_input': array([1]), 'parent': None, 'children': {<__main__.GenNode object at 0x118ac5690>}, 'function': <function neg at 0x1189e7830>, 'bias': 1, 'coeff': 1, '_d': array([-1])}\n",
      "{'_input': array([1]), 'parent': <__main__.GenNode object at 0x118ac5650>, 'children': {<__main__.GenNode object at 0x118ac56d0>}, 'function': <ufunc 'absolute'>, 'bias': 1, 'coeff': 1, '_d': array([-1])}\n",
      "{'_input': array([1]), 'parent': <__main__.GenNode object at 0x118ac5690>, 'children': {<__main__.GenNode object at 0x118ac5710>}, 'function': <function linear at 0x1189d6b00>, 'bias': 1, 'coeff': 1, '_d': array([-1])}\n",
      "{'_input': array([1]), 'parent': <__main__.GenNode object at 0x118ac56d0>, 'children': {<__main__.GenNode object at 0x118ac5750>}, 'function': <function relu at 0x1113f47a0>, 'bias': 1, 'coeff': 1, '_d': array([-1])}\n",
      "{'_input': array([1]), 'parent': <__main__.GenNode object at 0x118ac5710>, 'children': {<__main__.GenNode object at 0x118ac5790>}, 'function': <ufunc 'tanh'>, 'bias': 1, 'coeff': 1, '_d': array([-0.4231454])}\n",
      "{'_input': array([1]), 'parent': None, 'children': {<__main__.GenNode object at 0x118ac53d0>}, 'function': <ufunc 'absolute'>, 'bias': 1, 'coeff': 1, '_d': None}\n",
      "{'_input': array([1]), 'parent': <__main__.GenNode object at 0x118ac5390>, 'children': {<__main__.GenNode object at 0x118ac5410>}, 'function': <function neg at 0x1189e7830>, 'bias': 1, 'coeff': 1, '_d': None}\n",
      "\n",
      "calculate\n",
      "[2] [2] [1]\n",
      "calculate\n",
      "[0.99505475] [3] [2]\n",
      "calculate\n",
      "[-2] [2] [1]\n",
      "calculate\n",
      "[0.00494525] [-0.00494525] [-1.00494525]\n",
      "calculate\n",
      "[-1.00494525] [1.00494525] [0.00494525]\n",
      "calculate\n",
      "[-0.00494525] [-0.00494525] [-1.00494525]\n",
      "calculate\n",
      "[0.75950944] [0.99505475] [-0.00494525]\n",
      "calculate\n",
      "[1.75950944] [1.75950944] [0.75950944]\n",
      "calculate\n",
      "[2.75950944] [2.75950944] [1.75950944]\n",
      "calculate\n",
      "[3.75950944] [3.75950944] [2.75950944]\n",
      "calculate\n",
      "[-4.75950944] [4.75950944] [3.75950944]\n",
      "calculate\n",
      "[2] [2] [1]\n",
      "calculate\n",
      "[0.99505475] [3] [2]\n",
      "calculate\n",
      "[-2] [2] [1]\n",
      "calculate\n",
      "[0.00494525] [-0.00494525] [-1.00494525]\n",
      "calculate\n",
      "[-1.00494525] [1.00494525] [0.00494525]\n",
      "calculate\n",
      "[-0.00494525] [-0.00494525] [-1.00494525]\n",
      "calculate\n",
      "[0.75950944] [0.99505475] [-0.00494525]\n",
      "calculate\n",
      "[1.75950944] [1.75950944] [0.75950944]\n",
      "calculate\n",
      "[2.75950944] [2.75950944] [1.75950944]\n",
      "calculate\n",
      "[3.75950944] [3.75950944] [2.75950944]\n",
      "arg  [4.75950944]\n",
      "calculate\n",
      "[2] [2] [1]\n",
      "calculate\n",
      "[0.99505475] [3] [2]\n",
      "calculate\n",
      "[-2] [2] [1]\n",
      "calculate\n",
      "[0.00494525] [-0.00494525] [-1.00494525]\n",
      "calculate\n",
      "[-1.00494525] [1.00494525] [0.00494525]\n",
      "calculate\n",
      "[-0.00494525] [-0.00494525] [-1.00494525]\n",
      "calculate\n",
      "[0.75950944] [0.99505475] [-0.00494525]\n",
      "calculate\n",
      "[1.75950944] [1.75950944] [0.75950944]\n",
      "calculate\n",
      "[2.75950944] [2.75950944] [1.75950944]\n",
      "calculate\n",
      "[3.75950944] [3.75950944] [2.75950944]\n",
      "calculate\n",
      "[2] [2] [1]\n",
      "calculate\n",
      "[0.99505475] [3] [2]\n",
      "calculate\n",
      "[-2] [2] [1]\n",
      "calculate\n",
      "[0.00494525] [-0.00494525] [-1.00494525]\n",
      "calculate\n",
      "[-1.00494525] [1.00494525] [0.00494525]\n",
      "calculate\n",
      "[-0.00494525] [-0.00494525] [-1.00494525]\n",
      "calculate\n",
      "[0.75950944] [0.99505475] [-0.00494525]\n",
      "calculate\n",
      "[1.75950944] [1.75950944] [0.75950944]\n",
      "calculate\n",
      "[2.75950944] [2.75950944] [1.75950944]\n",
      "calculate\n"
     ]
    },
    {
     "name": "stdout",
     "output_type": "stream",
     "text": [
      "[3.75950944] [3.75950944] [2.75950944]\n",
      "calculate\n",
      "[2] [2] [1]\n",
      "calculate\n",
      "[0.99505475] [3] [2]\n",
      "calculate\n",
      "[-2] [2] [1]\n",
      "calculate\n",
      "[0.00494525] [-0.00494525] [-1.00494525]\n",
      "calculate\n",
      "[-1.00494525] [1.00494525] [0.00494525]\n",
      "calculate\n",
      "[-0.00494525] [-0.00494525] [-1.00494525]\n",
      "calculate\n",
      "[0.75950944] [0.99505475] [-0.00494525]\n",
      "calculate\n",
      "[1.75950944] [1.75950944] [0.75950944]\n",
      "calculate\n",
      "[2.75950944] [2.75950944] [1.75950944]\n",
      "arg  [3.75950944]\n",
      "calculate\n",
      "[2] [2] [1]\n",
      "calculate\n",
      "[0.99505475] [3] [2]\n",
      "calculate\n",
      "[-2] [2] [1]\n",
      "calculate\n",
      "[0.00494525] [-0.00494525] [-1.00494525]\n",
      "calculate\n",
      "[-1.00494525] [1.00494525] [0.00494525]\n",
      "calculate\n",
      "[-0.00494525] [-0.00494525] [-1.00494525]\n",
      "calculate\n",
      "[0.75950944] [0.99505475] [-0.00494525]\n",
      "calculate\n",
      "[1.75950944] [1.75950944] [0.75950944]\n",
      "calculate\n",
      "[2.75950944] [2.75950944] [1.75950944]\n",
      "calculate\n",
      "[2] [2] [1]\n",
      "calculate\n",
      "[0.99505475] [3] [2]\n",
      "calculate\n",
      "[-2] [2] [1]\n",
      "calculate\n",
      "[0.00494525] [-0.00494525] [-1.00494525]\n",
      "calculate\n",
      "[-1.00494525] [1.00494525] [0.00494525]\n",
      "calculate\n",
      "[-0.00494525] [-0.00494525] [-1.00494525]\n",
      "calculate\n",
      "[0.75950944] [0.99505475] [-0.00494525]\n",
      "calculate\n",
      "[1.75950944] [1.75950944] [0.75950944]\n",
      "calculate\n",
      "[2.75950944] [2.75950944] [1.75950944]\n",
      "calculate\n",
      "[2] [2] [1]\n",
      "calculate\n",
      "[0.99505475] [3] [2]\n",
      "calculate\n",
      "[-2] [2] [1]\n",
      "calculate\n",
      "[0.00494525] [-0.00494525] [-1.00494525]\n",
      "calculate\n",
      "[-1.00494525] [1.00494525] [0.00494525]\n",
      "calculate\n",
      "[-0.00494525] [-0.00494525] [-1.00494525]\n",
      "calculate\n",
      "[0.75950944] [0.99505475] [-0.00494525]\n",
      "calculate\n",
      "[1.75950944] [1.75950944] [0.75950944]\n",
      "arg  [2.75950944]\n",
      "calculate\n",
      "[2] [2] [1]\n",
      "calculate\n",
      "[0.99505475] [3] [2]\n",
      "calculate\n",
      "[-2] [2] [1]\n",
      "calculate\n",
      "[0.00494525] [-0.00494525] [-1.00494525]\n",
      "calculate\n",
      "[-1.00494525] [1.00494525] [0.00494525]\n",
      "calculate\n",
      "[-0.00494525] [-0.00494525] [-1.00494525]\n",
      "calculate\n",
      "[0.75950944] [0.99505475] [-0.00494525]\n",
      "calculate\n",
      "[1.75950944] [1.75950944] [0.75950944]\n",
      "calculate\n",
      "[2] [2] [1]\n",
      "calculate\n",
      "[0.99505475] [3] [2]\n",
      "calculate\n",
      "[-2] [2] [1]\n",
      "calculate\n",
      "[0.00494525] [-0.00494525] [-1.00494525]\n",
      "calculate\n",
      "[-1.00494525] [1.00494525] [0.00494525]\n",
      "calculate\n",
      "[-0.00494525] [-0.00494525] [-1.00494525]\n",
      "calculate\n",
      "[0.75950944] [0.99505475] [-0.00494525]\n",
      "calculate\n",
      "[1.75950944] [1.75950944] [0.75950944]\n",
      "calculate\n",
      "[2] [2] [1]\n",
      "calculate\n",
      "[0.99505475] [3] [2]\n",
      "calculate\n",
      "[-2] [2] [1]\n",
      "calculate\n",
      "[0.00494525] [-0.00494525] [-1.00494525]\n",
      "calculate\n",
      "[-1.00494525] [1.00494525] [0.00494525]\n",
      "calculate\n",
      "[-0.00494525] [-0.00494525] [-1.00494525]\n",
      "calculate\n",
      "[0.75950944] [0.99505475] [-0.00494525]\n",
      "arg  [1.75950944]\n",
      "calculate\n",
      "[2] [2] [1]\n",
      "calculate\n",
      "[0.99505475] [3] [2]\n",
      "calculate\n",
      "[-2] [2] [1]\n",
      "calculate\n",
      "[0.00494525] [-0.00494525] [-1.00494525]\n",
      "calculate\n",
      "[-1.00494525] [1.00494525] [0.00494525]\n",
      "calculate\n",
      "[-0.00494525] [-0.00494525] [-1.00494525]\n",
      "calculate\n",
      "[0.75950944] [0.99505475] [-0.00494525]\n",
      "calculate\n",
      "[2] [2] [1]\n",
      "calculate\n",
      "[0.99505475] [3] [2]\n",
      "calculate\n",
      "[-2] [2] [1]\n",
      "calculate\n",
      "[0.00494525] [-0.00494525] [-1.00494525]\n",
      "calculate\n",
      "[-1.00494525] [1.00494525] [0.00494525]\n",
      "calculate\n",
      "[-0.00494525] [-0.00494525] [-1.00494525]\n",
      "calculate\n",
      "[0.75950944] [0.99505475] [-0.00494525]\n",
      "calculate\n",
      "[2] [2] [1]\n",
      "calculate\n",
      "[0.99505475] [3] [2]\n",
      "calculate\n",
      "[-2] [2] [1]\n",
      "calculate\n",
      "[0.00494525] [-0.00494525] [-1.00494525]\n",
      "calculate\n",
      "[-1.00494525] [1.00494525] [0.00494525]\n",
      "calculate\n",
      "[-0.00494525] [-0.00494525] [-1.00494525]\n",
      "arg  [0.99505475]\n",
      "calculate\n",
      "[2] [2] [1]\n",
      "calculate\n",
      "[0.99505475] [3] [2]\n",
      "calculate\n",
      "[-2] [2] [1]\n",
      "calculate\n",
      "[0.00494525] [-0.00494525] [-1.00494525]\n",
      "calculate\n",
      "[-1.00494525] [1.00494525] [0.00494525]\n",
      "calculate\n",
      "[-0.00494525] [-0.00494525] [-1.00494525]\n",
      "calculate\n",
      "[2] [2] [1]\n",
      "calculate\n",
      "[0.99505475] [3] [2]\n",
      "calculate\n",
      "[-2] [2] [1]\n",
      "calculate\n",
      "[0.00494525] [-0.00494525] [-1.00494525]\n",
      "calculate\n",
      "[-1.00494525] [1.00494525] [0.00494525]\n",
      "calculate\n",
      "[-0.00494525] [-0.00494525] [-1.00494525]\n",
      "calculate\n",
      "[2] [2] [1]\n",
      "calculate\n",
      "[0.99505475] [3] [2]\n",
      "calculate\n",
      "[-2] [2] [1]\n",
      "calculate\n",
      "[0.00494525] [-0.00494525] [-1.00494525]\n",
      "calculate\n",
      "[-1.00494525] [1.00494525] [0.00494525]\n",
      "arg  [-0.00494525]\n",
      "calculate\n",
      "[2] [2] [1]\n",
      "calculate\n",
      "[0.99505475] [3] [2]\n",
      "calculate\n",
      "[-2] [2] [1]\n",
      "calculate\n",
      "[0.00494525] [-0.00494525] [-1.00494525]\n",
      "calculate\n",
      "[-1.00494525] [1.00494525] [0.00494525]\n",
      "calculate\n",
      "[2] [2] [1]\n",
      "calculate\n",
      "[0.99505475] [3] [2]\n",
      "calculate\n",
      "[-2] [2] [1]\n",
      "calculate\n",
      "[0.00494525] [-0.00494525] [-1.00494525]\n",
      "calculate\n",
      "[-1.00494525] [1.00494525] [0.00494525]\n",
      "calculate\n",
      "[2] [2] [1]\n",
      "calculate\n",
      "[0.99505475] [3] [2]\n",
      "calculate\n",
      "[-2] [2] [1]\n",
      "calculate\n",
      "[0.00494525] [-0.00494525] [-1.00494525]\n",
      "arg  [1.00494525]\n",
      "calculate\n",
      "[2] [2] [1]\n",
      "calculate\n",
      "[0.99505475] [3] [2]\n",
      "calculate\n",
      "[-2] [2] [1]\n",
      "calculate\n",
      "[0.00494525] [-0.00494525] [-1.00494525]\n",
      "calculate\n",
      "[2] [2] [1]\n",
      "calculate\n",
      "[0.99505475] [3] [2]\n",
      "calculate\n",
      "[-2] [2] [1]\n",
      "calculate\n",
      "[0.00494525] [-0.00494525] [-1.00494525]\n",
      "calculate\n",
      "[2] [2] [1]\n",
      "calculate\n",
      "[0.99505475] [3] [2]\n",
      "calculate\n",
      "[-2] [2] [1]\n",
      "arg  [-0.00494525]\n",
      "calculate\n",
      "[2] [2] [1]\n",
      "calculate\n",
      "[0.99505475] [3] [2]\n",
      "calculate\n",
      "[-2] [2] [1]\n",
      "calculate\n",
      "[2] [2] [1]\n",
      "calculate\n",
      "[0.99505475] [3] [2]\n",
      "calculate\n",
      "[-2] [2] [1]\n",
      "calculate\n",
      "[2] [2] [1]\n",
      "arg  [3]\n",
      "calculate\n",
      "[2] [2] [1]\n",
      "calculate\n",
      "[2] [2] [1]\n",
      "arg  [2]\n",
      "arg  [2]\n",
      "[-4.23145403e-01 -4.17476827e-03 -4.17476827e-03 -4.23145403e-01\n",
      "  4.23145403e-01  4.23145403e-01 -1.00000000e+00 -1.00000000e+00\n",
      " -1.00000000e+00 -1.00000000e+00 -4.23145403e-01  4.25237962e-01\n",
      " -8.34953655e-03 -4.17476827e-03  4.25237962e-01  4.23145403e-01\n",
      "  2.09255825e-03 -3.75950944e+00 -2.75950944e+00 -1.75950944e+00\n",
      " -7.59509445e-01  2.09255825e-03]  jacobian\n",
      "[-4.75950944] [-4.23145403e-01 -4.17476827e-03 -4.17476827e-03 -4.23145403e-01\n",
      "  4.23145403e-01  4.23145403e-01 -1.00000000e+00 -1.00000000e+00\n",
      " -1.00000000e+00 -1.00000000e+00 -4.23145403e-01  4.25237962e-01\n",
      " -8.34953655e-03 -4.17476827e-03  4.25237962e-01  4.23145403e-01\n",
      "  2.09255825e-03 -3.75950944e+00 -2.75950944e+00 -1.75950944e+00\n",
      " -7.59509445e-01  2.09255825e-03] 21\n",
      "\n"
     ]
    }
   ],
   "source": [
    "for net_ in nets:\n",
    "    for node_ in net_.all_nodes:\n",
    "        print(node_.__dict__)\n",
    "    print()\n",
    "    print(net_.calculate(), net_.jac(), len(net_.all_nodes))\n",
    "    print()"
   ]
  },
  {
   "cell_type": "markdown",
   "metadata": {},
   "source": [
    "---"
   ]
  },
  {
   "cell_type": "code",
   "execution_count": 104,
   "metadata": {
    "ExecuteTime": {
     "end_time": "2019-09-16T17:28:15.224664Z",
     "start_time": "2019-09-16T17:28:15.182404Z"
    }
   },
   "outputs": [],
   "source": [
    "class GenGenetic:\n",
    "    def __init__(self, population_size=100, max_depth=10,\n",
    "                 nets_amount=10, functions=ACTIVATION_FUNCTIONS):\n",
    "        self.population_size = population_size\n",
    "        self.population = set()\n",
    "        \n",
    "        self.functions = functions\n",
    "        self.max_depth = max_depth\n",
    "        self.nets_amount = nets_amount\n",
    "        \n",
    "    def create_population(self, predict):\n",
    "        for _ in range(self.population_size):\n",
    "            j = np.random.randint(1, self.max_depth+1)\n",
    "            self.population.add(GenNet(j, predict))\n",
    "        \n",
    "    def clone(self, i): ### UPDATE ENVIRONMENT\n",
    "        pass\n",
    "    \n",
    "    def cross(self, net_1, net_2):\n",
    "        net_1 = net_1.clone()\n",
    "        net_2 = net_2.clone()\n",
    "        \n",
    "        i = np.random.randint(len(net_1.all_nodes))\n",
    "        j = np.random.randint(len(net_2.all_nodes))\n",
    "        \n",
    "        node_1 = list(net_1.all_nodes)[i]\n",
    "        node_2 = list(net_2.all_nodes)[j]\n",
    "        \n",
    "        while node_1.parent is None:\n",
    "            i = np.random.randint(len(net_1.all_nodes))\n",
    "            node_1 = list(net_1.all_nodes)[i]\n",
    "\n",
    "        while node_2.parent is None:\n",
    "            j = np.random.randint(len(net_2.all_nodes))\n",
    "            node_2 = list(net_2.all_nodes)[j]\n",
    "        \n",
    "        subnet_1 = net_1.clone_subnet(node_1)\n",
    "        subnet_2 = net_2.clone_subnet(node_2)\n",
    "        \n",
    "        net_1.add_subnet(node_1.parent, node_1, subnet_2)\n",
    "        net_2.add_subnet(node_2.parent, node_2, subnet_1)\n",
    "        \n",
    "        return [net_1, net_2]\n",
    "    \n",
    "    def mutate(self, net_ind):\n",
    "        net = list(self.population)[net_ind].clone()\n",
    "        i = np.random.randint(len(net.all_nodes))\n",
    "        node = list(net.all_nodes)[i]\n",
    "        function_ind = np.random.randint(len(ACTIVATION_FUNCTIONS))\n",
    "        new_node = GenNode(_input=node._input, parent=node, \n",
    "                           function=ACTIVATION_FUNCTIONS[function_ind], bias=node.bias, coeff=node.coeff)\n",
    "        node.add_child(new_node)\n",
    "        net.all_nodes.add(new_node)\n",
    "        \n",
    "        return net\n",
    "        \n",
    "    def step(self, prob=0.25):\n",
    "        if not isinstance(prob, list):\n",
    "            prob = [1 - prob * 2] + [prob] * 2\n",
    "        \n",
    "        action = np.random.choice(3, p=prob)\n",
    "        print(action)\n",
    "        if action == 1:\n",
    "            i, j = np.random.randint(len(self.population), size=2)\n",
    "\n",
    "            net_1 = list(self.population)[i]\n",
    "            while len(net_1.all_nodes) == 1:\n",
    "                i = np.random.randint(len(self.population))\n",
    "                net_1 = list(self.population)[i]\n",
    "\n",
    "            net_2 = list(self.population)[j]\n",
    "            while len(net_2.all_nodes) == 1:\n",
    "                j = np.random.randint(len(self.population))\n",
    "                net_2 = list(self.population)[j]\n",
    "                \n",
    "            new_net = self.cross(net_1, net_2)\n",
    "            if new_net:\n",
    "                self.population = list(np.concatenate((np.array(list(self.population)), np.array(new_net))))\n",
    "\n",
    "        elif action == 2:\n",
    "            i = np.random.randint(len(self.population))\n",
    "            self.population.add(self.mutate(i))\n",
    "            \n",
    "    def calculate_result(self, _input):\n",
    "        results = []\n",
    "        for net in self.population:\n",
    "            results.append(net.calculate(_input))\n",
    "        return results\n",
    "    \n",
    "    def run(self, _input, predict, num_steps=50, prob=0.25, i=1):\n",
    "        self.create_population(predict)\n",
    "        for step in range(num_steps):\n",
    "            self.step(prob=prob)\n",
    "\n",
    "        for net in self.population:\n",
    "            x0 = [1 for _ in range(len(net.all_nodes) * 2)]\n",
    "            opt_biases_coeff = minimize(net.calculate_biases_coeffs_loss, x0, method='BFGS', jac=net.jac)\n",
    "            opt_biases = opt_biases_coeff[:len(opt_biases_coeff)//2]\n",
    "            opt_coeffs = opt_biases_coeff[len(opt_biases_coeff)//2:]\n",
    "            net.biases_coeffs_inference(opt_biases, opt_coeffs)\n",
    "        \n",
    "        results = self.calculate_result(_input)\n",
    "        losses = np.array([loss(result) for result in results])\n",
    "        best_ind = losses.argsort()[-1 * self.nets_amount:][::-1]\n",
    "        self.population = np.array(self.population)[best_ind].tolist()\n",
    "            \n",
    "        return self.population, best_ind"
   ]
  },
  {
   "cell_type": "code",
   "execution_count": 105,
   "metadata": {
    "ExecuteTime": {
     "end_time": "2019-09-16T17:28:16.938349Z",
     "start_time": "2019-09-16T17:28:16.931949Z"
    }
   },
   "outputs": [],
   "source": [
    "genetic_3 = GenGenetic(population_size=1, max_depth=5)"
   ]
  },
  {
   "cell_type": "code",
   "execution_count": 107,
   "metadata": {
    "ExecuteTime": {
     "end_time": "2019-09-16T17:28:28.822856Z",
     "start_time": "2019-09-16T17:28:28.816915Z"
    }
   },
   "outputs": [],
   "source": [
    "_input = np.array([1])"
   ]
  },
  {
   "cell_type": "code",
   "execution_count": 108,
   "metadata": {
    "ExecuteTime": {
     "end_time": "2019-09-16T17:28:29.377370Z",
     "start_time": "2019-09-16T17:28:29.275683Z"
    }
   },
   "outputs": [
    {
     "name": "stdout",
     "output_type": "stream",
     "text": [
      "0\n",
      "0\n",
      "calculate\n",
      "[2. 2. 2. 2. 2. 2. 2. 2.] [2. 2. 2. 2. 2. 2. 2. 2.] [1. 1. 1. 1. 1. 1. 1. 1.]\n",
      "calculate\n",
      "[3. 3. 3. 3. 3. 3. 3. 3.] [3. 3. 3. 3. 3. 3. 3. 3.] [2. 2. 2. 2. 2. 2. 2. 2.]\n",
      "calculate\n",
      "[0.98201379 0.98201379 0.98201379 0.98201379 0.98201379 0.98201379\n",
      " 0.98201379 0.98201379] [4. 4. 4. 4. 4. 4. 4. 4.] [3. 3. 3. 3. 3. 3. 3. 3.]\n",
      "arg  [1.98201379 1.98201379 1.98201379 1.98201379 1.98201379 1.98201379\n",
      " 1.98201379 1.98201379]\n",
      "calculate\n",
      "[2. 2. 2. 2. 2. 2. 2. 2.] [2. 2. 2. 2. 2. 2. 2. 2.] [1. 1. 1. 1. 1. 1. 1. 1.]\n",
      "calculate\n",
      "[3. 3. 3. 3. 3. 3. 3. 3.] [3. 3. 3. 3. 3. 3. 3. 3.] [2. 2. 2. 2. 2. 2. 2. 2.]\n",
      "calculate\n",
      "[0.98201379 0.98201379 0.98201379 0.98201379 0.98201379 0.98201379\n",
      " 0.98201379 0.98201379] [4. 4. 4. 4. 4. 4. 4. 4.] [3. 3. 3. 3. 3. 3. 3. 3.]\n",
      "calculate\n",
      "[2. 2. 2. 2. 2. 2. 2. 2.] [2. 2. 2. 2. 2. 2. 2. 2.] [1. 1. 1. 1. 1. 1. 1. 1.]\n",
      "calculate\n",
      "[3. 3. 3. 3. 3. 3. 3. 3.] [3. 3. 3. 3. 3. 3. 3. 3.] [2. 2. 2. 2. 2. 2. 2. 2.]\n",
      "calculate\n",
      "[0.98201379 0.98201379 0.98201379 0.98201379 0.98201379 0.98201379\n",
      " 0.98201379 0.98201379] [4. 4. 4. 4. 4. 4. 4. 4.] [3. 3. 3. 3. 3. 3. 3. 3.]\n",
      "calculate\n",
      "[2. 2. 2. 2. 2. 2. 2. 2.] [2. 2. 2. 2. 2. 2. 2. 2.] [1. 1. 1. 1. 1. 1. 1. 1.]\n",
      "calculate\n",
      "[3. 3. 3. 3. 3. 3. 3. 3.] [3. 3. 3. 3. 3. 3. 3. 3.] [2. 2. 2. 2. 2. 2. 2. 2.]\n",
      "arg  [4. 4. 4. 4. 4. 4. 4. 4.]\n",
      "calculate\n",
      "[2. 2. 2. 2. 2. 2. 2. 2.] [2. 2. 2. 2. 2. 2. 2. 2.] [1. 1. 1. 1. 1. 1. 1. 1.]\n",
      "calculate\n",
      "[3. 3. 3. 3. 3. 3. 3. 3.] [3. 3. 3. 3. 3. 3. 3. 3.] [2. 2. 2. 2. 2. 2. 2. 2.]\n",
      "calculate\n",
      "[2. 2. 2. 2. 2. 2. 2. 2.] [2. 2. 2. 2. 2. 2. 2. 2.] [1. 1. 1. 1. 1. 1. 1. 1.]\n",
      "calculate\n",
      "[3. 3. 3. 3. 3. 3. 3. 3.] [3. 3. 3. 3. 3. 3. 3. 3.] [2. 2. 2. 2. 2. 2. 2. 2.]\n",
      "calculate\n",
      "[2. 2. 2. 2. 2. 2. 2. 2.] [2. 2. 2. 2. 2. 2. 2. 2.] [1. 1. 1. 1. 1. 1. 1. 1.]\n",
      "arg  [3. 3. 3. 3. 3. 3. 3. 3.]\n",
      "calculate\n",
      "[2. 2. 2. 2. 2. 2. 2. 2.] [2. 2. 2. 2. 2. 2. 2. 2.] [1. 1. 1. 1. 1. 1. 1. 1.]\n",
      "calculate\n",
      "[2. 2. 2. 2. 2. 2. 2. 2.] [2. 2. 2. 2. 2. 2. 2. 2.] [1. 1. 1. 1. 1. 1. 1. 1.]\n",
      "arg  [2. 2. 2. 2. 2. 2. 2. 2.]\n"
     ]
    },
    {
     "ename": "ValueError",
     "evalue": "The truth value of an array with more than one element is ambiguous. Use a.any() or a.all()",
     "output_type": "error",
     "traceback": [
      "\u001b[0;31m---------------------------------------------------------------------------\u001b[0m",
      "\u001b[0;31mValueError\u001b[0m                                Traceback (most recent call last)",
      "\u001b[0;32m<ipython-input-108-e43bd625ec24>\u001b[0m in \u001b[0;36m<module>\u001b[0;34m\u001b[0m\n\u001b[0;32m----> 1\u001b[0;31m \u001b[0mgenetic_3\u001b[0m\u001b[0;34m.\u001b[0m\u001b[0mrun\u001b[0m\u001b[0;34m(\u001b[0m\u001b[0m_input\u001b[0m\u001b[0;34m,\u001b[0m \u001b[0mpredict\u001b[0m\u001b[0;34m=\u001b[0m\u001b[0mnp\u001b[0m\u001b[0;34m.\u001b[0m\u001b[0marray\u001b[0m\u001b[0;34m(\u001b[0m\u001b[0;34m[\u001b[0m\u001b[0;36m1\u001b[0m\u001b[0;34m]\u001b[0m\u001b[0;34m)\u001b[0m\u001b[0;34m,\u001b[0m \u001b[0mnum_steps\u001b[0m\u001b[0;34m=\u001b[0m\u001b[0;36m2\u001b[0m\u001b[0;34m,\u001b[0m \u001b[0mprob\u001b[0m\u001b[0;34m=\u001b[0m\u001b[0;36m0\u001b[0m\u001b[0;34m)\u001b[0m\u001b[0;34m\u001b[0m\u001b[0;34m\u001b[0m\u001b[0m\n\u001b[0m",
      "\u001b[0;32m<ipython-input-104-3b28d9602853>\u001b[0m in \u001b[0;36mrun\u001b[0;34m(self, _input, predict, num_steps, prob, i)\u001b[0m\n\u001b[1;32m     95\u001b[0m         \u001b[0;32mfor\u001b[0m \u001b[0mnet\u001b[0m \u001b[0;32min\u001b[0m \u001b[0mself\u001b[0m\u001b[0;34m.\u001b[0m\u001b[0mpopulation\u001b[0m\u001b[0;34m:\u001b[0m\u001b[0;34m\u001b[0m\u001b[0;34m\u001b[0m\u001b[0m\n\u001b[1;32m     96\u001b[0m             \u001b[0mx0\u001b[0m \u001b[0;34m=\u001b[0m \u001b[0;34m[\u001b[0m\u001b[0;36m1\u001b[0m \u001b[0;32mfor\u001b[0m \u001b[0m_\u001b[0m \u001b[0;32min\u001b[0m \u001b[0mrange\u001b[0m\u001b[0;34m(\u001b[0m\u001b[0mlen\u001b[0m\u001b[0;34m(\u001b[0m\u001b[0mnet\u001b[0m\u001b[0;34m.\u001b[0m\u001b[0mall_nodes\u001b[0m\u001b[0;34m)\u001b[0m \u001b[0;34m*\u001b[0m \u001b[0;36m2\u001b[0m\u001b[0;34m)\u001b[0m\u001b[0;34m]\u001b[0m\u001b[0;34m\u001b[0m\u001b[0;34m\u001b[0m\u001b[0m\n\u001b[0;32m---> 97\u001b[0;31m             \u001b[0mopt_biases_coeff\u001b[0m \u001b[0;34m=\u001b[0m \u001b[0mminimize\u001b[0m\u001b[0;34m(\u001b[0m\u001b[0mnet\u001b[0m\u001b[0;34m.\u001b[0m\u001b[0mcalculate_biases_coeffs_loss\u001b[0m\u001b[0;34m,\u001b[0m \u001b[0mx0\u001b[0m\u001b[0;34m,\u001b[0m \u001b[0mmethod\u001b[0m\u001b[0;34m=\u001b[0m\u001b[0;34m'BFGS'\u001b[0m\u001b[0;34m,\u001b[0m \u001b[0mjac\u001b[0m\u001b[0;34m=\u001b[0m\u001b[0mnet\u001b[0m\u001b[0;34m.\u001b[0m\u001b[0mjac\u001b[0m\u001b[0;34m)\u001b[0m\u001b[0;34m\u001b[0m\u001b[0;34m\u001b[0m\u001b[0m\n\u001b[0m\u001b[1;32m     98\u001b[0m             \u001b[0mopt_biases\u001b[0m \u001b[0;34m=\u001b[0m \u001b[0mopt_biases_coeff\u001b[0m\u001b[0;34m[\u001b[0m\u001b[0;34m:\u001b[0m\u001b[0mlen\u001b[0m\u001b[0;34m(\u001b[0m\u001b[0mopt_biases_coeff\u001b[0m\u001b[0;34m)\u001b[0m\u001b[0;34m//\u001b[0m\u001b[0;36m2\u001b[0m\u001b[0;34m]\u001b[0m\u001b[0;34m\u001b[0m\u001b[0;34m\u001b[0m\u001b[0m\n\u001b[1;32m     99\u001b[0m             \u001b[0mopt_coeffs\u001b[0m \u001b[0;34m=\u001b[0m \u001b[0mopt_biases_coeff\u001b[0m\u001b[0;34m[\u001b[0m\u001b[0mlen\u001b[0m\u001b[0;34m(\u001b[0m\u001b[0mopt_biases_coeff\u001b[0m\u001b[0;34m)\u001b[0m\u001b[0;34m//\u001b[0m\u001b[0;36m2\u001b[0m\u001b[0;34m:\u001b[0m\u001b[0;34m]\u001b[0m\u001b[0;34m\u001b[0m\u001b[0;34m\u001b[0m\u001b[0m\n",
      "\u001b[0;32m/usr/local/lib/python3.7/site-packages/scipy/optimize/_minimize.py\u001b[0m in \u001b[0;36mminimize\u001b[0;34m(fun, x0, args, method, jac, hess, hessp, bounds, constraints, tol, callback, options)\u001b[0m\n\u001b[1;32m    592\u001b[0m         \u001b[0;32mreturn\u001b[0m \u001b[0m_minimize_cg\u001b[0m\u001b[0;34m(\u001b[0m\u001b[0mfun\u001b[0m\u001b[0;34m,\u001b[0m \u001b[0mx0\u001b[0m\u001b[0;34m,\u001b[0m \u001b[0margs\u001b[0m\u001b[0;34m,\u001b[0m \u001b[0mjac\u001b[0m\u001b[0;34m,\u001b[0m \u001b[0mcallback\u001b[0m\u001b[0;34m,\u001b[0m \u001b[0;34m**\u001b[0m\u001b[0moptions\u001b[0m\u001b[0;34m)\u001b[0m\u001b[0;34m\u001b[0m\u001b[0;34m\u001b[0m\u001b[0m\n\u001b[1;32m    593\u001b[0m     \u001b[0;32melif\u001b[0m \u001b[0mmeth\u001b[0m \u001b[0;34m==\u001b[0m \u001b[0;34m'bfgs'\u001b[0m\u001b[0;34m:\u001b[0m\u001b[0;34m\u001b[0m\u001b[0;34m\u001b[0m\u001b[0m\n\u001b[0;32m--> 594\u001b[0;31m         \u001b[0;32mreturn\u001b[0m \u001b[0m_minimize_bfgs\u001b[0m\u001b[0;34m(\u001b[0m\u001b[0mfun\u001b[0m\u001b[0;34m,\u001b[0m \u001b[0mx0\u001b[0m\u001b[0;34m,\u001b[0m \u001b[0margs\u001b[0m\u001b[0;34m,\u001b[0m \u001b[0mjac\u001b[0m\u001b[0;34m,\u001b[0m \u001b[0mcallback\u001b[0m\u001b[0;34m,\u001b[0m \u001b[0;34m**\u001b[0m\u001b[0moptions\u001b[0m\u001b[0;34m)\u001b[0m\u001b[0;34m\u001b[0m\u001b[0;34m\u001b[0m\u001b[0m\n\u001b[0m\u001b[1;32m    595\u001b[0m     \u001b[0;32melif\u001b[0m \u001b[0mmeth\u001b[0m \u001b[0;34m==\u001b[0m \u001b[0;34m'newton-cg'\u001b[0m\u001b[0;34m:\u001b[0m\u001b[0;34m\u001b[0m\u001b[0;34m\u001b[0m\u001b[0m\n\u001b[1;32m    596\u001b[0m         return _minimize_newtoncg(fun, x0, args, jac, hess, hessp, callback,\n",
      "\u001b[0;32m/usr/local/lib/python3.7/site-packages/scipy/optimize/optimize.py\u001b[0m in \u001b[0;36m_minimize_bfgs\u001b[0;34m(fun, x0, args, jac, callback, gtol, norm, eps, maxiter, disp, return_all, **unknown_options)\u001b[0m\n\u001b[1;32m    994\u001b[0m     \u001b[0;32melse\u001b[0m\u001b[0;34m:\u001b[0m\u001b[0;34m\u001b[0m\u001b[0;34m\u001b[0m\u001b[0m\n\u001b[1;32m    995\u001b[0m         \u001b[0mgrad_calls\u001b[0m\u001b[0;34m,\u001b[0m \u001b[0mmyfprime\u001b[0m \u001b[0;34m=\u001b[0m \u001b[0mwrap_function\u001b[0m\u001b[0;34m(\u001b[0m\u001b[0mfprime\u001b[0m\u001b[0;34m,\u001b[0m \u001b[0margs\u001b[0m\u001b[0;34m)\u001b[0m\u001b[0;34m\u001b[0m\u001b[0;34m\u001b[0m\u001b[0m\n\u001b[0;32m--> 996\u001b[0;31m     \u001b[0mgfk\u001b[0m \u001b[0;34m=\u001b[0m \u001b[0mmyfprime\u001b[0m\u001b[0;34m(\u001b[0m\u001b[0mx0\u001b[0m\u001b[0;34m)\u001b[0m\u001b[0;34m\u001b[0m\u001b[0;34m\u001b[0m\u001b[0m\n\u001b[0m\u001b[1;32m    997\u001b[0m     \u001b[0mk\u001b[0m \u001b[0;34m=\u001b[0m \u001b[0;36m0\u001b[0m\u001b[0;34m\u001b[0m\u001b[0;34m\u001b[0m\u001b[0m\n\u001b[1;32m    998\u001b[0m     \u001b[0mN\u001b[0m \u001b[0;34m=\u001b[0m \u001b[0mlen\u001b[0m\u001b[0;34m(\u001b[0m\u001b[0mx0\u001b[0m\u001b[0;34m)\u001b[0m\u001b[0;34m\u001b[0m\u001b[0;34m\u001b[0m\u001b[0m\n",
      "\u001b[0;32m/usr/local/lib/python3.7/site-packages/scipy/optimize/optimize.py\u001b[0m in \u001b[0;36mfunction_wrapper\u001b[0;34m(*wrapper_args)\u001b[0m\n\u001b[1;32m    324\u001b[0m     \u001b[0;32mdef\u001b[0m \u001b[0mfunction_wrapper\u001b[0m\u001b[0;34m(\u001b[0m\u001b[0;34m*\u001b[0m\u001b[0mwrapper_args\u001b[0m\u001b[0;34m)\u001b[0m\u001b[0;34m:\u001b[0m\u001b[0;34m\u001b[0m\u001b[0;34m\u001b[0m\u001b[0m\n\u001b[1;32m    325\u001b[0m         \u001b[0mncalls\u001b[0m\u001b[0;34m[\u001b[0m\u001b[0;36m0\u001b[0m\u001b[0;34m]\u001b[0m \u001b[0;34m+=\u001b[0m \u001b[0;36m1\u001b[0m\u001b[0;34m\u001b[0m\u001b[0;34m\u001b[0m\u001b[0m\n\u001b[0;32m--> 326\u001b[0;31m         \u001b[0;32mreturn\u001b[0m \u001b[0mfunction\u001b[0m\u001b[0;34m(\u001b[0m\u001b[0;34m*\u001b[0m\u001b[0;34m(\u001b[0m\u001b[0mwrapper_args\u001b[0m \u001b[0;34m+\u001b[0m \u001b[0margs\u001b[0m\u001b[0;34m)\u001b[0m\u001b[0;34m)\u001b[0m\u001b[0;34m\u001b[0m\u001b[0;34m\u001b[0m\u001b[0m\n\u001b[0m\u001b[1;32m    327\u001b[0m \u001b[0;34m\u001b[0m\u001b[0m\n\u001b[1;32m    328\u001b[0m     \u001b[0;32mreturn\u001b[0m \u001b[0mncalls\u001b[0m\u001b[0;34m,\u001b[0m \u001b[0mfunction_wrapper\u001b[0m\u001b[0;34m\u001b[0m\u001b[0;34m\u001b[0m\u001b[0m\n",
      "\u001b[0;32m<ipython-input-103-c250ef04bce4>\u001b[0m in \u001b[0;36mjac\u001b[0;34m(self, _input)\u001b[0m\n\u001b[1;32m     87\u001b[0m \u001b[0;34m\u001b[0m\u001b[0m\n\u001b[1;32m     88\u001b[0m         \u001b[0mself\u001b[0m\u001b[0;34m.\u001b[0m\u001b[0mroot\u001b[0m\u001b[0;34m.\u001b[0m\u001b[0m_d\u001b[0m \u001b[0;34m=\u001b[0m \u001b[0mnp\u001b[0m\u001b[0;34m.\u001b[0m\u001b[0marray\u001b[0m\u001b[0;34m(\u001b[0m\u001b[0;34m[\u001b[0m\u001b[0;36m1\u001b[0m\u001b[0;34m]\u001b[0m\u001b[0;34m)\u001b[0m\u001b[0;34m\u001b[0m\u001b[0;34m\u001b[0m\u001b[0m\n\u001b[0;32m---> 89\u001b[0;31m         \u001b[0mbiases_jac\u001b[0m\u001b[0;34m,\u001b[0m \u001b[0mcoeffs_jac\u001b[0m \u001b[0;34m=\u001b[0m \u001b[0mself\u001b[0m\u001b[0;34m.\u001b[0m\u001b[0mcalculate_d\u001b[0m\u001b[0;34m(\u001b[0m\u001b[0mself\u001b[0m\u001b[0;34m.\u001b[0m\u001b[0mroot\u001b[0m\u001b[0;34m,\u001b[0m \u001b[0m_input\u001b[0m\u001b[0;34m)\u001b[0m\u001b[0;34m\u001b[0m\u001b[0;34m\u001b[0m\u001b[0m\n\u001b[0m\u001b[1;32m     90\u001b[0m \u001b[0;34m\u001b[0m\u001b[0m\n\u001b[1;32m     91\u001b[0m         \u001b[0;32mif\u001b[0m \u001b[0mself\u001b[0m\u001b[0;34m.\u001b[0m\u001b[0mloss\u001b[0m \u001b[0;34m<\u001b[0m \u001b[0;36m0\u001b[0m\u001b[0;34m:\u001b[0m\u001b[0;34m\u001b[0m\u001b[0;34m\u001b[0m\u001b[0m\n",
      "\u001b[0;32m<ipython-input-103-c250ef04bce4>\u001b[0m in \u001b[0;36mcalculate_d\u001b[0;34m(self, node, _input)\u001b[0m\n\u001b[1;32m    114\u001b[0m \u001b[0;34m\u001b[0m\u001b[0m\n\u001b[1;32m    115\u001b[0m         \u001b[0;32mfor\u001b[0m \u001b[0mchild\u001b[0m \u001b[0;32min\u001b[0m \u001b[0mnode\u001b[0m\u001b[0;34m.\u001b[0m\u001b[0mchildren\u001b[0m\u001b[0;34m:\u001b[0m\u001b[0;34m\u001b[0m\u001b[0;34m\u001b[0m\u001b[0m\n\u001b[0;32m--> 116\u001b[0;31m             \u001b[0mnew_biases_jac\u001b[0m\u001b[0;34m,\u001b[0m \u001b[0mnew_coeffs_jac\u001b[0m \u001b[0;34m=\u001b[0m \u001b[0mself\u001b[0m\u001b[0;34m.\u001b[0m\u001b[0mcalculate_d\u001b[0m\u001b[0;34m(\u001b[0m\u001b[0mchild\u001b[0m\u001b[0;34m,\u001b[0m \u001b[0m_input\u001b[0m\u001b[0;34m)\u001b[0m\u001b[0;34m\u001b[0m\u001b[0;34m\u001b[0m\u001b[0m\n\u001b[0m\u001b[1;32m    117\u001b[0m             \u001b[0mbiases_jac\u001b[0m\u001b[0;34m.\u001b[0m\u001b[0mupdate\u001b[0m\u001b[0;34m(\u001b[0m\u001b[0mnew_biases_jac\u001b[0m\u001b[0;34m)\u001b[0m\u001b[0;34m\u001b[0m\u001b[0;34m\u001b[0m\u001b[0m\n\u001b[1;32m    118\u001b[0m             \u001b[0mcoeffs_jac\u001b[0m\u001b[0;34m.\u001b[0m\u001b[0mupdate\u001b[0m\u001b[0;34m(\u001b[0m\u001b[0mnew_coeffs_jac\u001b[0m\u001b[0;34m)\u001b[0m\u001b[0;34m\u001b[0m\u001b[0;34m\u001b[0m\u001b[0m\n",
      "\u001b[0;32m<ipython-input-103-c250ef04bce4>\u001b[0m in \u001b[0;36mcalculate_d\u001b[0;34m(self, node, _input)\u001b[0m\n\u001b[1;32m    114\u001b[0m \u001b[0;34m\u001b[0m\u001b[0m\n\u001b[1;32m    115\u001b[0m         \u001b[0;32mfor\u001b[0m \u001b[0mchild\u001b[0m \u001b[0;32min\u001b[0m \u001b[0mnode\u001b[0m\u001b[0;34m.\u001b[0m\u001b[0mchildren\u001b[0m\u001b[0;34m:\u001b[0m\u001b[0;34m\u001b[0m\u001b[0;34m\u001b[0m\u001b[0m\n\u001b[0;32m--> 116\u001b[0;31m             \u001b[0mnew_biases_jac\u001b[0m\u001b[0;34m,\u001b[0m \u001b[0mnew_coeffs_jac\u001b[0m \u001b[0;34m=\u001b[0m \u001b[0mself\u001b[0m\u001b[0;34m.\u001b[0m\u001b[0mcalculate_d\u001b[0m\u001b[0;34m(\u001b[0m\u001b[0mchild\u001b[0m\u001b[0;34m,\u001b[0m \u001b[0m_input\u001b[0m\u001b[0;34m)\u001b[0m\u001b[0;34m\u001b[0m\u001b[0;34m\u001b[0m\u001b[0m\n\u001b[0m\u001b[1;32m    117\u001b[0m             \u001b[0mbiases_jac\u001b[0m\u001b[0;34m.\u001b[0m\u001b[0mupdate\u001b[0m\u001b[0;34m(\u001b[0m\u001b[0mnew_biases_jac\u001b[0m\u001b[0;34m)\u001b[0m\u001b[0;34m\u001b[0m\u001b[0;34m\u001b[0m\u001b[0m\n\u001b[1;32m    118\u001b[0m             \u001b[0mcoeffs_jac\u001b[0m\u001b[0;34m.\u001b[0m\u001b[0mupdate\u001b[0m\u001b[0;34m(\u001b[0m\u001b[0mnew_coeffs_jac\u001b[0m\u001b[0;34m)\u001b[0m\u001b[0;34m\u001b[0m\u001b[0;34m\u001b[0m\u001b[0m\n",
      "\u001b[0;32m<ipython-input-103-c250ef04bce4>\u001b[0m in \u001b[0;36mcalculate_d\u001b[0;34m(self, node, _input)\u001b[0m\n\u001b[1;32m    114\u001b[0m \u001b[0;34m\u001b[0m\u001b[0m\n\u001b[1;32m    115\u001b[0m         \u001b[0;32mfor\u001b[0m \u001b[0mchild\u001b[0m \u001b[0;32min\u001b[0m \u001b[0mnode\u001b[0m\u001b[0;34m.\u001b[0m\u001b[0mchildren\u001b[0m\u001b[0;34m:\u001b[0m\u001b[0;34m\u001b[0m\u001b[0;34m\u001b[0m\u001b[0m\n\u001b[0;32m--> 116\u001b[0;31m             \u001b[0mnew_biases_jac\u001b[0m\u001b[0;34m,\u001b[0m \u001b[0mnew_coeffs_jac\u001b[0m \u001b[0;34m=\u001b[0m \u001b[0mself\u001b[0m\u001b[0;34m.\u001b[0m\u001b[0mcalculate_d\u001b[0m\u001b[0;34m(\u001b[0m\u001b[0mchild\u001b[0m\u001b[0;34m,\u001b[0m \u001b[0m_input\u001b[0m\u001b[0;34m)\u001b[0m\u001b[0;34m\u001b[0m\u001b[0;34m\u001b[0m\u001b[0m\n\u001b[0m\u001b[1;32m    117\u001b[0m             \u001b[0mbiases_jac\u001b[0m\u001b[0;34m.\u001b[0m\u001b[0mupdate\u001b[0m\u001b[0;34m(\u001b[0m\u001b[0mnew_biases_jac\u001b[0m\u001b[0;34m)\u001b[0m\u001b[0;34m\u001b[0m\u001b[0;34m\u001b[0m\u001b[0m\n\u001b[1;32m    118\u001b[0m             \u001b[0mcoeffs_jac\u001b[0m\u001b[0;34m.\u001b[0m\u001b[0mupdate\u001b[0m\u001b[0;34m(\u001b[0m\u001b[0mnew_coeffs_jac\u001b[0m\u001b[0;34m)\u001b[0m\u001b[0;34m\u001b[0m\u001b[0;34m\u001b[0m\u001b[0m\n",
      "\u001b[0;32m<ipython-input-103-c250ef04bce4>\u001b[0m in \u001b[0;36mcalculate_d\u001b[0;34m(self, node, _input)\u001b[0m\n\u001b[1;32m    108\u001b[0m         \u001b[0mcoeffs_jac\u001b[0m \u001b[0;34m=\u001b[0m \u001b[0;34m{\u001b[0m\u001b[0;34m}\u001b[0m\u001b[0;34m\u001b[0m\u001b[0;34m\u001b[0m\u001b[0m\n\u001b[1;32m    109\u001b[0m         \u001b[0mprint\u001b[0m\u001b[0;34m(\u001b[0m\u001b[0;34m'arg '\u001b[0m\u001b[0;34m,\u001b[0m \u001b[0mnode\u001b[0m\u001b[0;34m.\u001b[0m\u001b[0mcalculate_arg\u001b[0m\u001b[0;34m(\u001b[0m\u001b[0m_input\u001b[0m\u001b[0;34m)\u001b[0m\u001b[0;34m)\u001b[0m\u001b[0;34m\u001b[0m\u001b[0;34m\u001b[0m\u001b[0m\n\u001b[0;32m--> 110\u001b[0;31m         \u001b[0mcalculated\u001b[0m \u001b[0;34m=\u001b[0m \u001b[0mstatic_part\u001b[0m \u001b[0;34m*\u001b[0m \u001b[0mDERIVATIVES\u001b[0m\u001b[0;34m[\u001b[0m\u001b[0mnode\u001b[0m\u001b[0;34m.\u001b[0m\u001b[0mfunction\u001b[0m\u001b[0;34m]\u001b[0m\u001b[0;34m(\u001b[0m\u001b[0mnode\u001b[0m\u001b[0;34m.\u001b[0m\u001b[0mcalculate_arg\u001b[0m\u001b[0;34m(\u001b[0m\u001b[0m_input\u001b[0m\u001b[0;34m)\u001b[0m\u001b[0;34m)\u001b[0m\u001b[0;34m\u001b[0m\u001b[0;34m\u001b[0m\u001b[0m\n\u001b[0m\u001b[1;32m    111\u001b[0m         \u001b[0mbiases_jac\u001b[0m\u001b[0;34m[\u001b[0m\u001b[0mind\u001b[0m\u001b[0;34m]\u001b[0m \u001b[0;34m=\u001b[0m \u001b[0mcalculated\u001b[0m\u001b[0;34m\u001b[0m\u001b[0;34m\u001b[0m\u001b[0m\n\u001b[1;32m    112\u001b[0m         \u001b[0mcoeffs_jac\u001b[0m\u001b[0;34m[\u001b[0m\u001b[0mind\u001b[0m\u001b[0;34m]\u001b[0m \u001b[0;34m=\u001b[0m \u001b[0mcalculated\u001b[0m \u001b[0;34m*\u001b[0m \u001b[0mnode\u001b[0m\u001b[0;34m.\u001b[0m\u001b[0mcalculate_next\u001b[0m\u001b[0;34m(\u001b[0m\u001b[0m_input\u001b[0m\u001b[0;34m)\u001b[0m\u001b[0;34m\u001b[0m\u001b[0;34m\u001b[0m\u001b[0m\n",
      "\u001b[0;32m<ipython-input-4-de2e32d0c797>\u001b[0m in \u001b[0;36mabs_der\u001b[0;34m(x)\u001b[0m\n\u001b[1;32m     27\u001b[0m     \u001b[0;32mfor\u001b[0m \u001b[0mx_\u001b[0m \u001b[0;32min\u001b[0m \u001b[0mx\u001b[0m\u001b[0;34m:\u001b[0m\u001b[0;34m\u001b[0m\u001b[0;34m\u001b[0m\u001b[0m\n\u001b[1;32m     28\u001b[0m         \u001b[0;32mif\u001b[0m \u001b[0mx_\u001b[0m\u001b[0;34m:\u001b[0m\u001b[0;34m\u001b[0m\u001b[0;34m\u001b[0m\u001b[0m\n\u001b[0;32m---> 29\u001b[0;31m             \u001b[0mreturned\u001b[0m\u001b[0;34m.\u001b[0m\u001b[0mappend\u001b[0m\u001b[0;34m(\u001b[0m\u001b[0;36m1\u001b[0m \u001b[0;32mif\u001b[0m \u001b[0mx\u001b[0m \u001b[0;34m>\u001b[0m \u001b[0;36m0\u001b[0m \u001b[0;32melse\u001b[0m \u001b[0;34m-\u001b[0m\u001b[0;36m1\u001b[0m\u001b[0;34m)\u001b[0m\u001b[0;34m\u001b[0m\u001b[0;34m\u001b[0m\u001b[0m\n\u001b[0m\u001b[1;32m     30\u001b[0m         \u001b[0;32melse\u001b[0m\u001b[0;34m:\u001b[0m\u001b[0;34m\u001b[0m\u001b[0;34m\u001b[0m\u001b[0m\n\u001b[1;32m     31\u001b[0m             \u001b[0mreturned\u001b[0m\u001b[0;34m.\u001b[0m\u001b[0mappend\u001b[0m\u001b[0;34m(\u001b[0m\u001b[0;36m0\u001b[0m\u001b[0;34m)\u001b[0m\u001b[0;34m\u001b[0m\u001b[0;34m\u001b[0m\u001b[0m\n",
      "\u001b[0;31mValueError\u001b[0m: The truth value of an array with more than one element is ambiguous. Use a.any() or a.all()"
     ]
    }
   ],
   "source": [
    "genetic_3.run(_input, predict=np.array([1]), num_steps=2, prob=0)"
   ]
  },
  {
   "cell_type": "code",
   "execution_count": 229,
   "metadata": {
    "ExecuteTime": {
     "end_time": "2019-09-15T14:55:01.632141Z",
     "start_time": "2019-09-15T14:55:01.626394Z"
    }
   },
   "outputs": [],
   "source": [
    "genetic_2 = GenGenetic(population_size=1, max_depth=5)"
   ]
  },
  {
   "cell_type": "code",
   "execution_count": 227,
   "metadata": {
    "ExecuteTime": {
     "end_time": "2019-09-15T14:53:37.907857Z",
     "start_time": "2019-09-15T14:53:37.898597Z"
    }
   },
   "outputs": [
    {
     "data": {
      "text/plain": [
       "array([1])"
      ]
     },
     "execution_count": 227,
     "metadata": {},
     "output_type": "execute_result"
    }
   ],
   "source": [
    "_input"
   ]
  },
  {
   "cell_type": "code",
   "execution_count": 230,
   "metadata": {
    "ExecuteTime": {
     "end_time": "2019-09-15T14:55:02.389694Z",
     "start_time": "2019-09-15T14:55:02.320482Z"
    }
   },
   "outputs": [
    {
     "name": "stdout",
     "output_type": "stream",
     "text": [
      "0\n",
      "0\n",
      "children  {<__main__.GenNode object at 0x120206d90>}\n",
      "calculate\n",
      "[2. 2. 2. 2.] [2. 2. 2. 2.] [1. 1. 1. 1.]\n",
      "[2. 2. 2. 2.]\n",
      "calculate\n",
      "[2. 2. 2. 2.] [2. 2. 2. 2.] [1. 1. 1. 1.]\n",
      "children result  [[2. 2. 2. 2.]]\n",
      "calculate\n",
      "[2. 2. 2. 2.] [2. 2. 2. 2.] [1. 1. 1. 1.]\n",
      "result  [2. 2. 2. 2.]\n",
      "calculate\n",
      "[2. 2. 2. 2.] [2. 2. 2. 2.] [1. 1. 1. 1.]\n",
      "return  [3. 3. 3. 3.]\n",
      "arg  [3. 3. 3. 3.]\n",
      "children  {<__main__.GenNode object at 0x120206d90>}\n",
      "calculate\n",
      "[2. 2. 2. 2.] [2. 2. 2. 2.] [1. 1. 1. 1.]\n",
      "[2. 2. 2. 2.]\n",
      "calculate\n",
      "[2. 2. 2. 2.] [2. 2. 2. 2.] [1. 1. 1. 1.]\n",
      "children result  [[2. 2. 2. 2.]]\n",
      "calculate\n",
      "[2. 2. 2. 2.] [2. 2. 2. 2.] [1. 1. 1. 1.]\n",
      "result  [2. 2. 2. 2.]\n",
      "calculate\n",
      "[2. 2. 2. 2.] [2. 2. 2. 2.] [1. 1. 1. 1.]\n",
      "return  [3. 3. 3. 3.]\n",
      "calculate\n",
      "[2. 2. 2. 2.] [2. 2. 2. 2.] [1. 1. 1. 1.]\n",
      "res = input [1. 1. 1. 1.]\n",
      "return  [2. 2. 2. 2.]\n",
      "arg  [2. 2. 2. 2.]\n",
      "res = input [1. 1. 1. 1.]\n",
      "return  [2. 2. 2. 2.]\n",
      "[0.00986604 0.00986604 0.00986604 0.00986604 0.00986604 0.00986604\n",
      " 0.00986604 0.00986604 0.01973207 0.01973207 0.01973207 0.01973207\n",
      " 0.00986604 0.00986604 0.00986604 0.00986604]  jacobian\n",
      "calculate\n",
      "[2.] [2.] [1]\n",
      "calculate\n",
      "[0.99505475] [3.] [2.]\n",
      "[0.00494525]  loss\n"
     ]
    },
    {
     "ename": "ValueError",
     "evalue": "shapes (4,4) and (16,) not aligned: 4 (dim 1) != 16 (dim 0)",
     "output_type": "error",
     "traceback": [
      "\u001b[0;31m---------------------------------------------------------------------------\u001b[0m",
      "\u001b[0;31mValueError\u001b[0m                                Traceback (most recent call last)",
      "\u001b[0;32m<ipython-input-230-1ee8c24a602f>\u001b[0m in \u001b[0;36m<module>\u001b[0;34m\u001b[0m\n\u001b[0;32m----> 1\u001b[0;31m \u001b[0mgenetic_2\u001b[0m\u001b[0;34m.\u001b[0m\u001b[0mrun\u001b[0m\u001b[0;34m(\u001b[0m\u001b[0m_input\u001b[0m\u001b[0;34m,\u001b[0m \u001b[0mpredict\u001b[0m\u001b[0;34m=\u001b[0m\u001b[0mnp\u001b[0m\u001b[0;34m.\u001b[0m\u001b[0marray\u001b[0m\u001b[0;34m(\u001b[0m\u001b[0;34m[\u001b[0m\u001b[0;36m1\u001b[0m\u001b[0;34m]\u001b[0m\u001b[0;34m)\u001b[0m\u001b[0;34m,\u001b[0m \u001b[0mnum_steps\u001b[0m\u001b[0;34m=\u001b[0m\u001b[0;36m2\u001b[0m\u001b[0;34m,\u001b[0m \u001b[0mprob\u001b[0m\u001b[0;34m=\u001b[0m\u001b[0;36m0\u001b[0m\u001b[0;34m)\u001b[0m\u001b[0;34m\u001b[0m\u001b[0;34m\u001b[0m\u001b[0m\n\u001b[0m",
      "\u001b[0;32m<ipython-input-181-3b28d9602853>\u001b[0m in \u001b[0;36mrun\u001b[0;34m(self, _input, predict, num_steps, prob, i)\u001b[0m\n\u001b[1;32m     95\u001b[0m         \u001b[0;32mfor\u001b[0m \u001b[0mnet\u001b[0m \u001b[0;32min\u001b[0m \u001b[0mself\u001b[0m\u001b[0;34m.\u001b[0m\u001b[0mpopulation\u001b[0m\u001b[0;34m:\u001b[0m\u001b[0;34m\u001b[0m\u001b[0;34m\u001b[0m\u001b[0m\n\u001b[1;32m     96\u001b[0m             \u001b[0mx0\u001b[0m \u001b[0;34m=\u001b[0m \u001b[0;34m[\u001b[0m\u001b[0;36m1\u001b[0m \u001b[0;32mfor\u001b[0m \u001b[0m_\u001b[0m \u001b[0;32min\u001b[0m \u001b[0mrange\u001b[0m\u001b[0;34m(\u001b[0m\u001b[0mlen\u001b[0m\u001b[0;34m(\u001b[0m\u001b[0mnet\u001b[0m\u001b[0;34m.\u001b[0m\u001b[0mall_nodes\u001b[0m\u001b[0;34m)\u001b[0m \u001b[0;34m*\u001b[0m \u001b[0;36m2\u001b[0m\u001b[0;34m)\u001b[0m\u001b[0;34m]\u001b[0m\u001b[0;34m\u001b[0m\u001b[0;34m\u001b[0m\u001b[0m\n\u001b[0;32m---> 97\u001b[0;31m             \u001b[0mopt_biases_coeff\u001b[0m \u001b[0;34m=\u001b[0m \u001b[0mminimize\u001b[0m\u001b[0;34m(\u001b[0m\u001b[0mnet\u001b[0m\u001b[0;34m.\u001b[0m\u001b[0mcalculate_biases_coeffs_loss\u001b[0m\u001b[0;34m,\u001b[0m \u001b[0mx0\u001b[0m\u001b[0;34m,\u001b[0m \u001b[0mmethod\u001b[0m\u001b[0;34m=\u001b[0m\u001b[0;34m'BFGS'\u001b[0m\u001b[0;34m,\u001b[0m \u001b[0mjac\u001b[0m\u001b[0;34m=\u001b[0m\u001b[0mnet\u001b[0m\u001b[0;34m.\u001b[0m\u001b[0mjac\u001b[0m\u001b[0;34m)\u001b[0m\u001b[0;34m\u001b[0m\u001b[0;34m\u001b[0m\u001b[0m\n\u001b[0m\u001b[1;32m     98\u001b[0m             \u001b[0mopt_biases\u001b[0m \u001b[0;34m=\u001b[0m \u001b[0mopt_biases_coeff\u001b[0m\u001b[0;34m[\u001b[0m\u001b[0;34m:\u001b[0m\u001b[0mlen\u001b[0m\u001b[0;34m(\u001b[0m\u001b[0mopt_biases_coeff\u001b[0m\u001b[0;34m)\u001b[0m\u001b[0;34m//\u001b[0m\u001b[0;36m2\u001b[0m\u001b[0;34m]\u001b[0m\u001b[0;34m\u001b[0m\u001b[0;34m\u001b[0m\u001b[0m\n\u001b[1;32m     99\u001b[0m             \u001b[0mopt_coeffs\u001b[0m \u001b[0;34m=\u001b[0m \u001b[0mopt_biases_coeff\u001b[0m\u001b[0;34m[\u001b[0m\u001b[0mlen\u001b[0m\u001b[0;34m(\u001b[0m\u001b[0mopt_biases_coeff\u001b[0m\u001b[0;34m)\u001b[0m\u001b[0;34m//\u001b[0m\u001b[0;36m2\u001b[0m\u001b[0;34m:\u001b[0m\u001b[0;34m]\u001b[0m\u001b[0;34m\u001b[0m\u001b[0;34m\u001b[0m\u001b[0m\n",
      "\u001b[0;32m/usr/local/lib/python3.7/site-packages/scipy/optimize/_minimize.py\u001b[0m in \u001b[0;36mminimize\u001b[0;34m(fun, x0, args, method, jac, hess, hessp, bounds, constraints, tol, callback, options)\u001b[0m\n\u001b[1;32m    592\u001b[0m         \u001b[0;32mreturn\u001b[0m \u001b[0m_minimize_cg\u001b[0m\u001b[0;34m(\u001b[0m\u001b[0mfun\u001b[0m\u001b[0;34m,\u001b[0m \u001b[0mx0\u001b[0m\u001b[0;34m,\u001b[0m \u001b[0margs\u001b[0m\u001b[0;34m,\u001b[0m \u001b[0mjac\u001b[0m\u001b[0;34m,\u001b[0m \u001b[0mcallback\u001b[0m\u001b[0;34m,\u001b[0m \u001b[0;34m**\u001b[0m\u001b[0moptions\u001b[0m\u001b[0;34m)\u001b[0m\u001b[0;34m\u001b[0m\u001b[0;34m\u001b[0m\u001b[0m\n\u001b[1;32m    593\u001b[0m     \u001b[0;32melif\u001b[0m \u001b[0mmeth\u001b[0m \u001b[0;34m==\u001b[0m \u001b[0;34m'bfgs'\u001b[0m\u001b[0;34m:\u001b[0m\u001b[0;34m\u001b[0m\u001b[0;34m\u001b[0m\u001b[0m\n\u001b[0;32m--> 594\u001b[0;31m         \u001b[0;32mreturn\u001b[0m \u001b[0m_minimize_bfgs\u001b[0m\u001b[0;34m(\u001b[0m\u001b[0mfun\u001b[0m\u001b[0;34m,\u001b[0m \u001b[0mx0\u001b[0m\u001b[0;34m,\u001b[0m \u001b[0margs\u001b[0m\u001b[0;34m,\u001b[0m \u001b[0mjac\u001b[0m\u001b[0;34m,\u001b[0m \u001b[0mcallback\u001b[0m\u001b[0;34m,\u001b[0m \u001b[0;34m**\u001b[0m\u001b[0moptions\u001b[0m\u001b[0;34m)\u001b[0m\u001b[0;34m\u001b[0m\u001b[0;34m\u001b[0m\u001b[0m\n\u001b[0m\u001b[1;32m    595\u001b[0m     \u001b[0;32melif\u001b[0m \u001b[0mmeth\u001b[0m \u001b[0;34m==\u001b[0m \u001b[0;34m'newton-cg'\u001b[0m\u001b[0;34m:\u001b[0m\u001b[0;34m\u001b[0m\u001b[0;34m\u001b[0m\u001b[0m\n\u001b[1;32m    596\u001b[0m         return _minimize_newtoncg(fun, x0, args, jac, hess, hessp, callback,\n",
      "\u001b[0;32m/usr/local/lib/python3.7/site-packages/scipy/optimize/optimize.py\u001b[0m in \u001b[0;36m_minimize_bfgs\u001b[0;34m(fun, x0, args, jac, callback, gtol, norm, eps, maxiter, disp, return_all, **unknown_options)\u001b[0m\n\u001b[1;32m   1010\u001b[0m     \u001b[0mgnorm\u001b[0m \u001b[0;34m=\u001b[0m \u001b[0mvecnorm\u001b[0m\u001b[0;34m(\u001b[0m\u001b[0mgfk\u001b[0m\u001b[0;34m,\u001b[0m \u001b[0mord\u001b[0m\u001b[0;34m=\u001b[0m\u001b[0mnorm\u001b[0m\u001b[0;34m)\u001b[0m\u001b[0;34m\u001b[0m\u001b[0;34m\u001b[0m\u001b[0m\n\u001b[1;32m   1011\u001b[0m     \u001b[0;32mwhile\u001b[0m \u001b[0;34m(\u001b[0m\u001b[0mgnorm\u001b[0m \u001b[0;34m>\u001b[0m \u001b[0mgtol\u001b[0m\u001b[0;34m)\u001b[0m \u001b[0;32mand\u001b[0m \u001b[0;34m(\u001b[0m\u001b[0mk\u001b[0m \u001b[0;34m<\u001b[0m \u001b[0mmaxiter\u001b[0m\u001b[0;34m)\u001b[0m\u001b[0;34m:\u001b[0m\u001b[0;34m\u001b[0m\u001b[0;34m\u001b[0m\u001b[0m\n\u001b[0;32m-> 1012\u001b[0;31m         \u001b[0mpk\u001b[0m \u001b[0;34m=\u001b[0m \u001b[0;34m-\u001b[0m\u001b[0mnumpy\u001b[0m\u001b[0;34m.\u001b[0m\u001b[0mdot\u001b[0m\u001b[0;34m(\u001b[0m\u001b[0mHk\u001b[0m\u001b[0;34m,\u001b[0m \u001b[0mgfk\u001b[0m\u001b[0;34m)\u001b[0m\u001b[0;34m\u001b[0m\u001b[0;34m\u001b[0m\u001b[0m\n\u001b[0m\u001b[1;32m   1013\u001b[0m         \u001b[0;32mtry\u001b[0m\u001b[0;34m:\u001b[0m\u001b[0;34m\u001b[0m\u001b[0;34m\u001b[0m\u001b[0m\n\u001b[1;32m   1014\u001b[0m             \u001b[0malpha_k\u001b[0m\u001b[0;34m,\u001b[0m \u001b[0mfc\u001b[0m\u001b[0;34m,\u001b[0m \u001b[0mgc\u001b[0m\u001b[0;34m,\u001b[0m \u001b[0mold_fval\u001b[0m\u001b[0;34m,\u001b[0m \u001b[0mold_old_fval\u001b[0m\u001b[0;34m,\u001b[0m \u001b[0mgfkp1\u001b[0m \u001b[0;34m=\u001b[0m\u001b[0;31m \u001b[0m\u001b[0;31m\\\u001b[0m\u001b[0;34m\u001b[0m\u001b[0;34m\u001b[0m\u001b[0m\n",
      "\u001b[0;32m<__array_function__ internals>\u001b[0m in \u001b[0;36mdot\u001b[0;34m(*args, **kwargs)\u001b[0m\n",
      "\u001b[0;31mValueError\u001b[0m: shapes (4,4) and (16,) not aligned: 4 (dim 1) != 16 (dim 0)"
     ]
    }
   ],
   "source": [
    "genetic_2.run(_input, predict=np.array([1]), num_steps=2, prob=0)"
   ]
  },
  {
   "cell_type": "code",
   "execution_count": 205,
   "metadata": {
    "ExecuteTime": {
     "end_time": "2019-09-15T14:47:24.968595Z",
     "start_time": "2019-09-15T14:47:24.960762Z"
    }
   },
   "outputs": [],
   "source": [
    "genetic = GenGenetic(population_size=1, max_depth=5)"
   ]
  },
  {
   "cell_type": "code",
   "execution_count": 201,
   "metadata": {
    "ExecuteTime": {
     "end_time": "2019-09-15T14:45:18.347048Z",
     "start_time": "2019-09-15T14:45:18.341971Z"
    }
   },
   "outputs": [],
   "source": [
    "new_genetic = GenGenetic(population_size=2, max_depth=3)"
   ]
  },
  {
   "cell_type": "code",
   "execution_count": 203,
   "metadata": {
    "ExecuteTime": {
     "end_time": "2019-09-15T14:45:34.191566Z",
     "start_time": "2019-09-15T14:45:34.182713Z"
    }
   },
   "outputs": [
    {
     "data": {
      "text/plain": [
       "{<__main__.GenNet at 0x11f95ca50>, <__main__.GenNet at 0x12020fc10>}"
      ]
     },
     "execution_count": 203,
     "metadata": {},
     "output_type": "execute_result"
    }
   ],
   "source": [
    "new_genetic.population"
   ]
  },
  {
   "cell_type": "code",
   "execution_count": 202,
   "metadata": {
    "ExecuteTime": {
     "end_time": "2019-09-15T14:45:18.636483Z",
     "start_time": "2019-09-15T14:45:18.562114Z"
    },
    "scrolled": true
   },
   "outputs": [
    {
     "name": "stdout",
     "output_type": "stream",
     "text": [
      "0\n",
      "0\n",
      "arg  [1.95257413 1.95257413 1.95257413 1.95257413 1.95257413 1.95257413]\n",
      "arg  [3. 3. 3. 3. 3. 3.]\n",
      "arg  [2. 2. 2. 2. 2. 2.]\n"
     ]
    },
    {
     "ename": "ValueError",
     "evalue": "The truth value of an array with more than one element is ambiguous. Use a.any() or a.all()",
     "output_type": "error",
     "traceback": [
      "\u001b[0;31m---------------------------------------------------------------------------\u001b[0m",
      "\u001b[0;31mValueError\u001b[0m                                Traceback (most recent call last)",
      "\u001b[0;32m<ipython-input-202-fe1b696e520f>\u001b[0m in \u001b[0;36m<module>\u001b[0;34m\u001b[0m\n\u001b[0;32m----> 1\u001b[0;31m \u001b[0mnew_genetic\u001b[0m\u001b[0;34m.\u001b[0m\u001b[0mrun\u001b[0m\u001b[0;34m(\u001b[0m\u001b[0m_input\u001b[0m\u001b[0;34m,\u001b[0m \u001b[0mpredict\u001b[0m\u001b[0;34m=\u001b[0m\u001b[0mnp\u001b[0m\u001b[0;34m.\u001b[0m\u001b[0marray\u001b[0m\u001b[0;34m(\u001b[0m\u001b[0;34m[\u001b[0m\u001b[0;36m1\u001b[0m\u001b[0;34m]\u001b[0m\u001b[0;34m)\u001b[0m\u001b[0;34m,\u001b[0m \u001b[0mnum_steps\u001b[0m\u001b[0;34m=\u001b[0m\u001b[0;36m2\u001b[0m\u001b[0;34m,\u001b[0m \u001b[0mprob\u001b[0m\u001b[0;34m=\u001b[0m\u001b[0;36m0\u001b[0m\u001b[0;34m)\u001b[0m\u001b[0;34m\u001b[0m\u001b[0;34m\u001b[0m\u001b[0m\n\u001b[0m",
      "\u001b[0;32m<ipython-input-181-3b28d9602853>\u001b[0m in \u001b[0;36mrun\u001b[0;34m(self, _input, predict, num_steps, prob, i)\u001b[0m\n\u001b[1;32m     95\u001b[0m         \u001b[0;32mfor\u001b[0m \u001b[0mnet\u001b[0m \u001b[0;32min\u001b[0m \u001b[0mself\u001b[0m\u001b[0;34m.\u001b[0m\u001b[0mpopulation\u001b[0m\u001b[0;34m:\u001b[0m\u001b[0;34m\u001b[0m\u001b[0;34m\u001b[0m\u001b[0m\n\u001b[1;32m     96\u001b[0m             \u001b[0mx0\u001b[0m \u001b[0;34m=\u001b[0m \u001b[0;34m[\u001b[0m\u001b[0;36m1\u001b[0m \u001b[0;32mfor\u001b[0m \u001b[0m_\u001b[0m \u001b[0;32min\u001b[0m \u001b[0mrange\u001b[0m\u001b[0;34m(\u001b[0m\u001b[0mlen\u001b[0m\u001b[0;34m(\u001b[0m\u001b[0mnet\u001b[0m\u001b[0;34m.\u001b[0m\u001b[0mall_nodes\u001b[0m\u001b[0;34m)\u001b[0m \u001b[0;34m*\u001b[0m \u001b[0;36m2\u001b[0m\u001b[0;34m)\u001b[0m\u001b[0;34m]\u001b[0m\u001b[0;34m\u001b[0m\u001b[0;34m\u001b[0m\u001b[0m\n\u001b[0;32m---> 97\u001b[0;31m             \u001b[0mopt_biases_coeff\u001b[0m \u001b[0;34m=\u001b[0m \u001b[0mminimize\u001b[0m\u001b[0;34m(\u001b[0m\u001b[0mnet\u001b[0m\u001b[0;34m.\u001b[0m\u001b[0mcalculate_biases_coeffs_loss\u001b[0m\u001b[0;34m,\u001b[0m \u001b[0mx0\u001b[0m\u001b[0;34m,\u001b[0m \u001b[0mmethod\u001b[0m\u001b[0;34m=\u001b[0m\u001b[0;34m'BFGS'\u001b[0m\u001b[0;34m,\u001b[0m \u001b[0mjac\u001b[0m\u001b[0;34m=\u001b[0m\u001b[0mnet\u001b[0m\u001b[0;34m.\u001b[0m\u001b[0mjac\u001b[0m\u001b[0;34m)\u001b[0m\u001b[0;34m\u001b[0m\u001b[0;34m\u001b[0m\u001b[0m\n\u001b[0m\u001b[1;32m     98\u001b[0m             \u001b[0mopt_biases\u001b[0m \u001b[0;34m=\u001b[0m \u001b[0mopt_biases_coeff\u001b[0m\u001b[0;34m[\u001b[0m\u001b[0;34m:\u001b[0m\u001b[0mlen\u001b[0m\u001b[0;34m(\u001b[0m\u001b[0mopt_biases_coeff\u001b[0m\u001b[0;34m)\u001b[0m\u001b[0;34m//\u001b[0m\u001b[0;36m2\u001b[0m\u001b[0;34m]\u001b[0m\u001b[0;34m\u001b[0m\u001b[0;34m\u001b[0m\u001b[0m\n\u001b[1;32m     99\u001b[0m             \u001b[0mopt_coeffs\u001b[0m \u001b[0;34m=\u001b[0m \u001b[0mopt_biases_coeff\u001b[0m\u001b[0;34m[\u001b[0m\u001b[0mlen\u001b[0m\u001b[0;34m(\u001b[0m\u001b[0mopt_biases_coeff\u001b[0m\u001b[0;34m)\u001b[0m\u001b[0;34m//\u001b[0m\u001b[0;36m2\u001b[0m\u001b[0;34m:\u001b[0m\u001b[0;34m]\u001b[0m\u001b[0;34m\u001b[0m\u001b[0;34m\u001b[0m\u001b[0m\n",
      "\u001b[0;32m/usr/local/lib/python3.7/site-packages/scipy/optimize/_minimize.py\u001b[0m in \u001b[0;36mminimize\u001b[0;34m(fun, x0, args, method, jac, hess, hessp, bounds, constraints, tol, callback, options)\u001b[0m\n\u001b[1;32m    592\u001b[0m         \u001b[0;32mreturn\u001b[0m \u001b[0m_minimize_cg\u001b[0m\u001b[0;34m(\u001b[0m\u001b[0mfun\u001b[0m\u001b[0;34m,\u001b[0m \u001b[0mx0\u001b[0m\u001b[0;34m,\u001b[0m \u001b[0margs\u001b[0m\u001b[0;34m,\u001b[0m \u001b[0mjac\u001b[0m\u001b[0;34m,\u001b[0m \u001b[0mcallback\u001b[0m\u001b[0;34m,\u001b[0m \u001b[0;34m**\u001b[0m\u001b[0moptions\u001b[0m\u001b[0;34m)\u001b[0m\u001b[0;34m\u001b[0m\u001b[0;34m\u001b[0m\u001b[0m\n\u001b[1;32m    593\u001b[0m     \u001b[0;32melif\u001b[0m \u001b[0mmeth\u001b[0m \u001b[0;34m==\u001b[0m \u001b[0;34m'bfgs'\u001b[0m\u001b[0;34m:\u001b[0m\u001b[0;34m\u001b[0m\u001b[0;34m\u001b[0m\u001b[0m\n\u001b[0;32m--> 594\u001b[0;31m         \u001b[0;32mreturn\u001b[0m \u001b[0m_minimize_bfgs\u001b[0m\u001b[0;34m(\u001b[0m\u001b[0mfun\u001b[0m\u001b[0;34m,\u001b[0m \u001b[0mx0\u001b[0m\u001b[0;34m,\u001b[0m \u001b[0margs\u001b[0m\u001b[0;34m,\u001b[0m \u001b[0mjac\u001b[0m\u001b[0;34m,\u001b[0m \u001b[0mcallback\u001b[0m\u001b[0;34m,\u001b[0m \u001b[0;34m**\u001b[0m\u001b[0moptions\u001b[0m\u001b[0;34m)\u001b[0m\u001b[0;34m\u001b[0m\u001b[0;34m\u001b[0m\u001b[0m\n\u001b[0m\u001b[1;32m    595\u001b[0m     \u001b[0;32melif\u001b[0m \u001b[0mmeth\u001b[0m \u001b[0;34m==\u001b[0m \u001b[0;34m'newton-cg'\u001b[0m\u001b[0;34m:\u001b[0m\u001b[0;34m\u001b[0m\u001b[0;34m\u001b[0m\u001b[0m\n\u001b[1;32m    596\u001b[0m         return _minimize_newtoncg(fun, x0, args, jac, hess, hessp, callback,\n",
      "\u001b[0;32m/usr/local/lib/python3.7/site-packages/scipy/optimize/optimize.py\u001b[0m in \u001b[0;36m_minimize_bfgs\u001b[0;34m(fun, x0, args, jac, callback, gtol, norm, eps, maxiter, disp, return_all, **unknown_options)\u001b[0m\n\u001b[1;32m    994\u001b[0m     \u001b[0;32melse\u001b[0m\u001b[0;34m:\u001b[0m\u001b[0;34m\u001b[0m\u001b[0;34m\u001b[0m\u001b[0m\n\u001b[1;32m    995\u001b[0m         \u001b[0mgrad_calls\u001b[0m\u001b[0;34m,\u001b[0m \u001b[0mmyfprime\u001b[0m \u001b[0;34m=\u001b[0m \u001b[0mwrap_function\u001b[0m\u001b[0;34m(\u001b[0m\u001b[0mfprime\u001b[0m\u001b[0;34m,\u001b[0m \u001b[0margs\u001b[0m\u001b[0;34m)\u001b[0m\u001b[0;34m\u001b[0m\u001b[0;34m\u001b[0m\u001b[0m\n\u001b[0;32m--> 996\u001b[0;31m     \u001b[0mgfk\u001b[0m \u001b[0;34m=\u001b[0m \u001b[0mmyfprime\u001b[0m\u001b[0;34m(\u001b[0m\u001b[0mx0\u001b[0m\u001b[0;34m)\u001b[0m\u001b[0;34m\u001b[0m\u001b[0;34m\u001b[0m\u001b[0m\n\u001b[0m\u001b[1;32m    997\u001b[0m     \u001b[0mk\u001b[0m \u001b[0;34m=\u001b[0m \u001b[0;36m0\u001b[0m\u001b[0;34m\u001b[0m\u001b[0;34m\u001b[0m\u001b[0m\n\u001b[1;32m    998\u001b[0m     \u001b[0mN\u001b[0m \u001b[0;34m=\u001b[0m \u001b[0mlen\u001b[0m\u001b[0;34m(\u001b[0m\u001b[0mx0\u001b[0m\u001b[0;34m)\u001b[0m\u001b[0;34m\u001b[0m\u001b[0;34m\u001b[0m\u001b[0m\n",
      "\u001b[0;32m/usr/local/lib/python3.7/site-packages/scipy/optimize/optimize.py\u001b[0m in \u001b[0;36mfunction_wrapper\u001b[0;34m(*wrapper_args)\u001b[0m\n\u001b[1;32m    324\u001b[0m     \u001b[0;32mdef\u001b[0m \u001b[0mfunction_wrapper\u001b[0m\u001b[0;34m(\u001b[0m\u001b[0;34m*\u001b[0m\u001b[0mwrapper_args\u001b[0m\u001b[0;34m)\u001b[0m\u001b[0;34m:\u001b[0m\u001b[0;34m\u001b[0m\u001b[0;34m\u001b[0m\u001b[0m\n\u001b[1;32m    325\u001b[0m         \u001b[0mncalls\u001b[0m\u001b[0;34m[\u001b[0m\u001b[0;36m0\u001b[0m\u001b[0;34m]\u001b[0m \u001b[0;34m+=\u001b[0m \u001b[0;36m1\u001b[0m\u001b[0;34m\u001b[0m\u001b[0;34m\u001b[0m\u001b[0m\n\u001b[0;32m--> 326\u001b[0;31m         \u001b[0;32mreturn\u001b[0m \u001b[0mfunction\u001b[0m\u001b[0;34m(\u001b[0m\u001b[0;34m*\u001b[0m\u001b[0;34m(\u001b[0m\u001b[0mwrapper_args\u001b[0m \u001b[0;34m+\u001b[0m \u001b[0margs\u001b[0m\u001b[0;34m)\u001b[0m\u001b[0;34m)\u001b[0m\u001b[0;34m\u001b[0m\u001b[0;34m\u001b[0m\u001b[0m\n\u001b[0m\u001b[1;32m    327\u001b[0m \u001b[0;34m\u001b[0m\u001b[0m\n\u001b[1;32m    328\u001b[0m     \u001b[0;32mreturn\u001b[0m \u001b[0mncalls\u001b[0m\u001b[0;34m,\u001b[0m \u001b[0mfunction_wrapper\u001b[0m\u001b[0;34m\u001b[0m\u001b[0;34m\u001b[0m\u001b[0m\n",
      "\u001b[0;32m<ipython-input-194-66960e88f645>\u001b[0m in \u001b[0;36mjac\u001b[0;34m(self, _input)\u001b[0m\n\u001b[1;32m     85\u001b[0m \u001b[0;34m\u001b[0m\u001b[0m\n\u001b[1;32m     86\u001b[0m         \u001b[0mself\u001b[0m\u001b[0;34m.\u001b[0m\u001b[0mroot\u001b[0m\u001b[0;34m.\u001b[0m\u001b[0m_d\u001b[0m \u001b[0;34m=\u001b[0m \u001b[0mnp\u001b[0m\u001b[0;34m.\u001b[0m\u001b[0marray\u001b[0m\u001b[0;34m(\u001b[0m\u001b[0;34m[\u001b[0m\u001b[0;36m1\u001b[0m\u001b[0;34m]\u001b[0m\u001b[0;34m)\u001b[0m\u001b[0;34m\u001b[0m\u001b[0;34m\u001b[0m\u001b[0m\n\u001b[0;32m---> 87\u001b[0;31m         \u001b[0mbiases_jac\u001b[0m\u001b[0;34m,\u001b[0m \u001b[0mcoeffs_jac\u001b[0m \u001b[0;34m=\u001b[0m \u001b[0mself\u001b[0m\u001b[0;34m.\u001b[0m\u001b[0mcalculate_d\u001b[0m\u001b[0;34m(\u001b[0m\u001b[0mself\u001b[0m\u001b[0;34m.\u001b[0m\u001b[0mroot\u001b[0m\u001b[0;34m,\u001b[0m \u001b[0m_input\u001b[0m\u001b[0;34m)\u001b[0m\u001b[0;34m\u001b[0m\u001b[0;34m\u001b[0m\u001b[0m\n\u001b[0m\u001b[1;32m     88\u001b[0m \u001b[0;34m\u001b[0m\u001b[0m\n\u001b[1;32m     89\u001b[0m         \u001b[0;32mif\u001b[0m \u001b[0mself\u001b[0m\u001b[0;34m.\u001b[0m\u001b[0mloss\u001b[0m \u001b[0;34m<\u001b[0m \u001b[0;36m0\u001b[0m\u001b[0;34m:\u001b[0m\u001b[0;34m\u001b[0m\u001b[0;34m\u001b[0m\u001b[0m\n",
      "\u001b[0;32m<ipython-input-194-66960e88f645>\u001b[0m in \u001b[0;36mcalculate_d\u001b[0;34m(self, node, _input)\u001b[0m\n\u001b[1;32m    112\u001b[0m \u001b[0;34m\u001b[0m\u001b[0m\n\u001b[1;32m    113\u001b[0m         \u001b[0;32mfor\u001b[0m \u001b[0mchild\u001b[0m \u001b[0;32min\u001b[0m \u001b[0mnode\u001b[0m\u001b[0;34m.\u001b[0m\u001b[0mchildren\u001b[0m\u001b[0;34m:\u001b[0m\u001b[0;34m\u001b[0m\u001b[0;34m\u001b[0m\u001b[0m\n\u001b[0;32m--> 114\u001b[0;31m             \u001b[0mnew_biases_jac\u001b[0m\u001b[0;34m,\u001b[0m \u001b[0mnew_coeffs_jac\u001b[0m \u001b[0;34m=\u001b[0m \u001b[0mself\u001b[0m\u001b[0;34m.\u001b[0m\u001b[0mcalculate_d\u001b[0m\u001b[0;34m(\u001b[0m\u001b[0mchild\u001b[0m\u001b[0;34m,\u001b[0m \u001b[0m_input\u001b[0m\u001b[0;34m)\u001b[0m\u001b[0;34m\u001b[0m\u001b[0;34m\u001b[0m\u001b[0m\n\u001b[0m\u001b[1;32m    115\u001b[0m             \u001b[0mbiases_jac\u001b[0m\u001b[0;34m.\u001b[0m\u001b[0mupdate\u001b[0m\u001b[0;34m(\u001b[0m\u001b[0mnew_biases_jac\u001b[0m\u001b[0;34m)\u001b[0m\u001b[0;34m\u001b[0m\u001b[0;34m\u001b[0m\u001b[0m\n\u001b[1;32m    116\u001b[0m             \u001b[0mcoeffs_jac\u001b[0m\u001b[0;34m.\u001b[0m\u001b[0mupdate\u001b[0m\u001b[0;34m(\u001b[0m\u001b[0mnew_coeffs_jac\u001b[0m\u001b[0;34m)\u001b[0m\u001b[0;34m\u001b[0m\u001b[0;34m\u001b[0m\u001b[0m\n",
      "\u001b[0;32m<ipython-input-194-66960e88f645>\u001b[0m in \u001b[0;36mcalculate_d\u001b[0;34m(self, node, _input)\u001b[0m\n\u001b[1;32m    112\u001b[0m \u001b[0;34m\u001b[0m\u001b[0m\n\u001b[1;32m    113\u001b[0m         \u001b[0;32mfor\u001b[0m \u001b[0mchild\u001b[0m \u001b[0;32min\u001b[0m \u001b[0mnode\u001b[0m\u001b[0;34m.\u001b[0m\u001b[0mchildren\u001b[0m\u001b[0;34m:\u001b[0m\u001b[0;34m\u001b[0m\u001b[0;34m\u001b[0m\u001b[0m\n\u001b[0;32m--> 114\u001b[0;31m             \u001b[0mnew_biases_jac\u001b[0m\u001b[0;34m,\u001b[0m \u001b[0mnew_coeffs_jac\u001b[0m \u001b[0;34m=\u001b[0m \u001b[0mself\u001b[0m\u001b[0;34m.\u001b[0m\u001b[0mcalculate_d\u001b[0m\u001b[0;34m(\u001b[0m\u001b[0mchild\u001b[0m\u001b[0;34m,\u001b[0m \u001b[0m_input\u001b[0m\u001b[0;34m)\u001b[0m\u001b[0;34m\u001b[0m\u001b[0;34m\u001b[0m\u001b[0m\n\u001b[0m\u001b[1;32m    115\u001b[0m             \u001b[0mbiases_jac\u001b[0m\u001b[0;34m.\u001b[0m\u001b[0mupdate\u001b[0m\u001b[0;34m(\u001b[0m\u001b[0mnew_biases_jac\u001b[0m\u001b[0;34m)\u001b[0m\u001b[0;34m\u001b[0m\u001b[0;34m\u001b[0m\u001b[0m\n\u001b[1;32m    116\u001b[0m             \u001b[0mcoeffs_jac\u001b[0m\u001b[0;34m.\u001b[0m\u001b[0mupdate\u001b[0m\u001b[0;34m(\u001b[0m\u001b[0mnew_coeffs_jac\u001b[0m\u001b[0;34m)\u001b[0m\u001b[0;34m\u001b[0m\u001b[0;34m\u001b[0m\u001b[0m\n",
      "\u001b[0;32m<ipython-input-194-66960e88f645>\u001b[0m in \u001b[0;36mcalculate_d\u001b[0;34m(self, node, _input)\u001b[0m\n\u001b[1;32m    106\u001b[0m         \u001b[0mcoeffs_jac\u001b[0m \u001b[0;34m=\u001b[0m \u001b[0;34m{\u001b[0m\u001b[0;34m}\u001b[0m\u001b[0;34m\u001b[0m\u001b[0;34m\u001b[0m\u001b[0m\n\u001b[1;32m    107\u001b[0m         \u001b[0mprint\u001b[0m\u001b[0;34m(\u001b[0m\u001b[0;34m'arg '\u001b[0m\u001b[0;34m,\u001b[0m \u001b[0mnode\u001b[0m\u001b[0;34m.\u001b[0m\u001b[0mcalculate_arg\u001b[0m\u001b[0;34m(\u001b[0m\u001b[0m_input\u001b[0m\u001b[0;34m)\u001b[0m\u001b[0;34m)\u001b[0m\u001b[0;34m\u001b[0m\u001b[0;34m\u001b[0m\u001b[0m\n\u001b[0;32m--> 108\u001b[0;31m         \u001b[0mcalculated\u001b[0m \u001b[0;34m=\u001b[0m \u001b[0mstatic_part\u001b[0m \u001b[0;34m*\u001b[0m \u001b[0mDERIVATIVES\u001b[0m\u001b[0;34m[\u001b[0m\u001b[0mnode\u001b[0m\u001b[0;34m.\u001b[0m\u001b[0mfunction\u001b[0m\u001b[0;34m]\u001b[0m\u001b[0;34m(\u001b[0m\u001b[0mnode\u001b[0m\u001b[0;34m.\u001b[0m\u001b[0mcalculate_arg\u001b[0m\u001b[0;34m(\u001b[0m\u001b[0m_input\u001b[0m\u001b[0;34m)\u001b[0m\u001b[0;34m)\u001b[0m\u001b[0;34m\u001b[0m\u001b[0;34m\u001b[0m\u001b[0m\n\u001b[0m\u001b[1;32m    109\u001b[0m         \u001b[0mbiases_jac\u001b[0m\u001b[0;34m[\u001b[0m\u001b[0mind\u001b[0m\u001b[0;34m]\u001b[0m \u001b[0;34m=\u001b[0m \u001b[0mcalculated\u001b[0m\u001b[0;34m\u001b[0m\u001b[0;34m\u001b[0m\u001b[0m\n\u001b[1;32m    110\u001b[0m         \u001b[0mcoeffs_jac\u001b[0m\u001b[0;34m[\u001b[0m\u001b[0mind\u001b[0m\u001b[0;34m]\u001b[0m \u001b[0;34m=\u001b[0m \u001b[0mcalculated\u001b[0m \u001b[0;34m*\u001b[0m \u001b[0mnode\u001b[0m\u001b[0;34m.\u001b[0m\u001b[0mcalculate_next\u001b[0m\u001b[0;34m(\u001b[0m\u001b[0m_input\u001b[0m\u001b[0;34m)\u001b[0m\u001b[0;34m\u001b[0m\u001b[0;34m\u001b[0m\u001b[0m\n",
      "\u001b[0;32m<ipython-input-4-de2e32d0c797>\u001b[0m in \u001b[0;36mrelu_der\u001b[0;34m(x)\u001b[0m\n\u001b[1;32m      2\u001b[0m     \u001b[0mreturned\u001b[0m \u001b[0;34m=\u001b[0m \u001b[0;34m[\u001b[0m\u001b[0;34m]\u001b[0m\u001b[0;34m\u001b[0m\u001b[0;34m\u001b[0m\u001b[0m\n\u001b[1;32m      3\u001b[0m     \u001b[0;32mfor\u001b[0m \u001b[0mx_\u001b[0m \u001b[0;32min\u001b[0m \u001b[0mx\u001b[0m\u001b[0;34m:\u001b[0m\u001b[0;34m\u001b[0m\u001b[0;34m\u001b[0m\u001b[0m\n\u001b[0;32m----> 4\u001b[0;31m         \u001b[0mreturned\u001b[0m\u001b[0;34m.\u001b[0m\u001b[0mappend\u001b[0m\u001b[0;34m(\u001b[0m\u001b[0;36m1\u001b[0m \u001b[0;32mif\u001b[0m \u001b[0mx\u001b[0m \u001b[0;34m>\u001b[0m \u001b[0;36m0\u001b[0m \u001b[0;32melse\u001b[0m \u001b[0;36m0\u001b[0m\u001b[0;34m)\u001b[0m\u001b[0;34m\u001b[0m\u001b[0;34m\u001b[0m\u001b[0m\n\u001b[0m\u001b[1;32m      5\u001b[0m     \u001b[0;32mreturn\u001b[0m \u001b[0mreturned\u001b[0m\u001b[0;34m\u001b[0m\u001b[0;34m\u001b[0m\u001b[0m\n\u001b[1;32m      6\u001b[0m \u001b[0;34m\u001b[0m\u001b[0m\n",
      "\u001b[0;31mValueError\u001b[0m: The truth value of an array with more than one element is ambiguous. Use a.any() or a.all()"
     ]
    }
   ],
   "source": [
    "new_genetic.run(_input, predict=np.array([1]), num_steps=2, prob=0)"
   ]
  },
  {
   "cell_type": "code",
   "execution_count": 206,
   "metadata": {
    "ExecuteTime": {
     "end_time": "2019-09-15T14:47:30.922902Z",
     "start_time": "2019-09-15T14:47:30.857883Z"
    }
   },
   "outputs": [
    {
     "name": "stdout",
     "output_type": "stream",
     "text": [
      "0\n",
      "0\n",
      "children result  [[0. 0. 0. 0. 0. 0. 0. 0. 0. 0.]]\n",
      "result  [0. 0. 0. 0. 0. 0. 0. 0. 0. 0.]\n",
      "return  [1. 1. 1. 1. 1. 1. 1. 1. 1. 1.]\n",
      "arg  [1. 1. 1. 1. 1. 1. 1. 1. 1. 1.]\n",
      "children result  [[0. 0. 0. 0. 0. 0. 0. 0. 0. 0.]]\n",
      "result  [0. 0. 0. 0. 0. 0. 0. 0. 0. 0.]\n",
      "return  [1. 1. 1. 1. 1. 1. 1. 1. 1. 1.]\n"
     ]
    },
    {
     "ename": "ValueError",
     "evalue": "The truth value of an array with more than one element is ambiguous. Use a.any() or a.all()",
     "output_type": "error",
     "traceback": [
      "\u001b[0;31m---------------------------------------------------------------------------\u001b[0m",
      "\u001b[0;31mValueError\u001b[0m                                Traceback (most recent call last)",
      "\u001b[0;32m<ipython-input-206-c088b5dd8164>\u001b[0m in \u001b[0;36m<module>\u001b[0;34m\u001b[0m\n\u001b[0;32m----> 1\u001b[0;31m \u001b[0mgenetic\u001b[0m\u001b[0;34m.\u001b[0m\u001b[0mrun\u001b[0m\u001b[0;34m(\u001b[0m\u001b[0m_input\u001b[0m\u001b[0;34m,\u001b[0m \u001b[0mpredict\u001b[0m\u001b[0;34m=\u001b[0m\u001b[0mnp\u001b[0m\u001b[0;34m.\u001b[0m\u001b[0marray\u001b[0m\u001b[0;34m(\u001b[0m\u001b[0;34m[\u001b[0m\u001b[0;36m1\u001b[0m\u001b[0;34m]\u001b[0m\u001b[0;34m)\u001b[0m\u001b[0;34m,\u001b[0m \u001b[0mnum_steps\u001b[0m\u001b[0;34m=\u001b[0m\u001b[0;36m2\u001b[0m\u001b[0;34m,\u001b[0m \u001b[0mprob\u001b[0m\u001b[0;34m=\u001b[0m\u001b[0;36m0\u001b[0m\u001b[0;34m)\u001b[0m\u001b[0;34m\u001b[0m\u001b[0;34m\u001b[0m\u001b[0m\n\u001b[0m",
      "\u001b[0;32m<ipython-input-181-3b28d9602853>\u001b[0m in \u001b[0;36mrun\u001b[0;34m(self, _input, predict, num_steps, prob, i)\u001b[0m\n\u001b[1;32m     95\u001b[0m         \u001b[0;32mfor\u001b[0m \u001b[0mnet\u001b[0m \u001b[0;32min\u001b[0m \u001b[0mself\u001b[0m\u001b[0;34m.\u001b[0m\u001b[0mpopulation\u001b[0m\u001b[0;34m:\u001b[0m\u001b[0;34m\u001b[0m\u001b[0;34m\u001b[0m\u001b[0m\n\u001b[1;32m     96\u001b[0m             \u001b[0mx0\u001b[0m \u001b[0;34m=\u001b[0m \u001b[0;34m[\u001b[0m\u001b[0;36m1\u001b[0m \u001b[0;32mfor\u001b[0m \u001b[0m_\u001b[0m \u001b[0;32min\u001b[0m \u001b[0mrange\u001b[0m\u001b[0;34m(\u001b[0m\u001b[0mlen\u001b[0m\u001b[0;34m(\u001b[0m\u001b[0mnet\u001b[0m\u001b[0;34m.\u001b[0m\u001b[0mall_nodes\u001b[0m\u001b[0;34m)\u001b[0m \u001b[0;34m*\u001b[0m \u001b[0;36m2\u001b[0m\u001b[0;34m)\u001b[0m\u001b[0;34m]\u001b[0m\u001b[0;34m\u001b[0m\u001b[0;34m\u001b[0m\u001b[0m\n\u001b[0;32m---> 97\u001b[0;31m             \u001b[0mopt_biases_coeff\u001b[0m \u001b[0;34m=\u001b[0m \u001b[0mminimize\u001b[0m\u001b[0;34m(\u001b[0m\u001b[0mnet\u001b[0m\u001b[0;34m.\u001b[0m\u001b[0mcalculate_biases_coeffs_loss\u001b[0m\u001b[0;34m,\u001b[0m \u001b[0mx0\u001b[0m\u001b[0;34m,\u001b[0m \u001b[0mmethod\u001b[0m\u001b[0;34m=\u001b[0m\u001b[0;34m'BFGS'\u001b[0m\u001b[0;34m,\u001b[0m \u001b[0mjac\u001b[0m\u001b[0;34m=\u001b[0m\u001b[0mnet\u001b[0m\u001b[0;34m.\u001b[0m\u001b[0mjac\u001b[0m\u001b[0;34m)\u001b[0m\u001b[0;34m\u001b[0m\u001b[0;34m\u001b[0m\u001b[0m\n\u001b[0m\u001b[1;32m     98\u001b[0m             \u001b[0mopt_biases\u001b[0m \u001b[0;34m=\u001b[0m \u001b[0mopt_biases_coeff\u001b[0m\u001b[0;34m[\u001b[0m\u001b[0;34m:\u001b[0m\u001b[0mlen\u001b[0m\u001b[0;34m(\u001b[0m\u001b[0mopt_biases_coeff\u001b[0m\u001b[0;34m)\u001b[0m\u001b[0;34m//\u001b[0m\u001b[0;36m2\u001b[0m\u001b[0;34m]\u001b[0m\u001b[0;34m\u001b[0m\u001b[0;34m\u001b[0m\u001b[0m\n\u001b[1;32m     99\u001b[0m             \u001b[0mopt_coeffs\u001b[0m \u001b[0;34m=\u001b[0m \u001b[0mopt_biases_coeff\u001b[0m\u001b[0;34m[\u001b[0m\u001b[0mlen\u001b[0m\u001b[0;34m(\u001b[0m\u001b[0mopt_biases_coeff\u001b[0m\u001b[0;34m)\u001b[0m\u001b[0;34m//\u001b[0m\u001b[0;36m2\u001b[0m\u001b[0;34m:\u001b[0m\u001b[0;34m]\u001b[0m\u001b[0;34m\u001b[0m\u001b[0;34m\u001b[0m\u001b[0m\n",
      "\u001b[0;32m/usr/local/lib/python3.7/site-packages/scipy/optimize/_minimize.py\u001b[0m in \u001b[0;36mminimize\u001b[0;34m(fun, x0, args, method, jac, hess, hessp, bounds, constraints, tol, callback, options)\u001b[0m\n\u001b[1;32m    592\u001b[0m         \u001b[0;32mreturn\u001b[0m \u001b[0m_minimize_cg\u001b[0m\u001b[0;34m(\u001b[0m\u001b[0mfun\u001b[0m\u001b[0;34m,\u001b[0m \u001b[0mx0\u001b[0m\u001b[0;34m,\u001b[0m \u001b[0margs\u001b[0m\u001b[0;34m,\u001b[0m \u001b[0mjac\u001b[0m\u001b[0;34m,\u001b[0m \u001b[0mcallback\u001b[0m\u001b[0;34m,\u001b[0m \u001b[0;34m**\u001b[0m\u001b[0moptions\u001b[0m\u001b[0;34m)\u001b[0m\u001b[0;34m\u001b[0m\u001b[0;34m\u001b[0m\u001b[0m\n\u001b[1;32m    593\u001b[0m     \u001b[0;32melif\u001b[0m \u001b[0mmeth\u001b[0m \u001b[0;34m==\u001b[0m \u001b[0;34m'bfgs'\u001b[0m\u001b[0;34m:\u001b[0m\u001b[0;34m\u001b[0m\u001b[0;34m\u001b[0m\u001b[0m\n\u001b[0;32m--> 594\u001b[0;31m         \u001b[0;32mreturn\u001b[0m \u001b[0m_minimize_bfgs\u001b[0m\u001b[0;34m(\u001b[0m\u001b[0mfun\u001b[0m\u001b[0;34m,\u001b[0m \u001b[0mx0\u001b[0m\u001b[0;34m,\u001b[0m \u001b[0margs\u001b[0m\u001b[0;34m,\u001b[0m \u001b[0mjac\u001b[0m\u001b[0;34m,\u001b[0m \u001b[0mcallback\u001b[0m\u001b[0;34m,\u001b[0m \u001b[0;34m**\u001b[0m\u001b[0moptions\u001b[0m\u001b[0;34m)\u001b[0m\u001b[0;34m\u001b[0m\u001b[0;34m\u001b[0m\u001b[0m\n\u001b[0m\u001b[1;32m    595\u001b[0m     \u001b[0;32melif\u001b[0m \u001b[0mmeth\u001b[0m \u001b[0;34m==\u001b[0m \u001b[0;34m'newton-cg'\u001b[0m\u001b[0;34m:\u001b[0m\u001b[0;34m\u001b[0m\u001b[0;34m\u001b[0m\u001b[0m\n\u001b[1;32m    596\u001b[0m         return _minimize_newtoncg(fun, x0, args, jac, hess, hessp, callback,\n",
      "\u001b[0;32m/usr/local/lib/python3.7/site-packages/scipy/optimize/optimize.py\u001b[0m in \u001b[0;36m_minimize_bfgs\u001b[0;34m(fun, x0, args, jac, callback, gtol, norm, eps, maxiter, disp, return_all, **unknown_options)\u001b[0m\n\u001b[1;32m    994\u001b[0m     \u001b[0;32melse\u001b[0m\u001b[0;34m:\u001b[0m\u001b[0;34m\u001b[0m\u001b[0;34m\u001b[0m\u001b[0m\n\u001b[1;32m    995\u001b[0m         \u001b[0mgrad_calls\u001b[0m\u001b[0;34m,\u001b[0m \u001b[0mmyfprime\u001b[0m \u001b[0;34m=\u001b[0m \u001b[0mwrap_function\u001b[0m\u001b[0;34m(\u001b[0m\u001b[0mfprime\u001b[0m\u001b[0;34m,\u001b[0m \u001b[0margs\u001b[0m\u001b[0;34m)\u001b[0m\u001b[0;34m\u001b[0m\u001b[0;34m\u001b[0m\u001b[0m\n\u001b[0;32m--> 996\u001b[0;31m     \u001b[0mgfk\u001b[0m \u001b[0;34m=\u001b[0m \u001b[0mmyfprime\u001b[0m\u001b[0;34m(\u001b[0m\u001b[0mx0\u001b[0m\u001b[0;34m)\u001b[0m\u001b[0;34m\u001b[0m\u001b[0;34m\u001b[0m\u001b[0m\n\u001b[0m\u001b[1;32m    997\u001b[0m     \u001b[0mk\u001b[0m \u001b[0;34m=\u001b[0m \u001b[0;36m0\u001b[0m\u001b[0;34m\u001b[0m\u001b[0;34m\u001b[0m\u001b[0m\n\u001b[1;32m    998\u001b[0m     \u001b[0mN\u001b[0m \u001b[0;34m=\u001b[0m \u001b[0mlen\u001b[0m\u001b[0;34m(\u001b[0m\u001b[0mx0\u001b[0m\u001b[0;34m)\u001b[0m\u001b[0;34m\u001b[0m\u001b[0;34m\u001b[0m\u001b[0m\n",
      "\u001b[0;32m/usr/local/lib/python3.7/site-packages/scipy/optimize/optimize.py\u001b[0m in \u001b[0;36mfunction_wrapper\u001b[0;34m(*wrapper_args)\u001b[0m\n\u001b[1;32m    324\u001b[0m     \u001b[0;32mdef\u001b[0m \u001b[0mfunction_wrapper\u001b[0m\u001b[0;34m(\u001b[0m\u001b[0;34m*\u001b[0m\u001b[0mwrapper_args\u001b[0m\u001b[0;34m)\u001b[0m\u001b[0;34m:\u001b[0m\u001b[0;34m\u001b[0m\u001b[0;34m\u001b[0m\u001b[0m\n\u001b[1;32m    325\u001b[0m         \u001b[0mncalls\u001b[0m\u001b[0;34m[\u001b[0m\u001b[0;36m0\u001b[0m\u001b[0;34m]\u001b[0m \u001b[0;34m+=\u001b[0m \u001b[0;36m1\u001b[0m\u001b[0;34m\u001b[0m\u001b[0;34m\u001b[0m\u001b[0m\n\u001b[0;32m--> 326\u001b[0;31m         \u001b[0;32mreturn\u001b[0m \u001b[0mfunction\u001b[0m\u001b[0;34m(\u001b[0m\u001b[0;34m*\u001b[0m\u001b[0;34m(\u001b[0m\u001b[0mwrapper_args\u001b[0m \u001b[0;34m+\u001b[0m \u001b[0margs\u001b[0m\u001b[0;34m)\u001b[0m\u001b[0;34m)\u001b[0m\u001b[0;34m\u001b[0m\u001b[0;34m\u001b[0m\u001b[0m\n\u001b[0m\u001b[1;32m    327\u001b[0m \u001b[0;34m\u001b[0m\u001b[0m\n\u001b[1;32m    328\u001b[0m     \u001b[0;32mreturn\u001b[0m \u001b[0mncalls\u001b[0m\u001b[0;34m,\u001b[0m \u001b[0mfunction_wrapper\u001b[0m\u001b[0;34m\u001b[0m\u001b[0;34m\u001b[0m\u001b[0m\n",
      "\u001b[0;32m<ipython-input-194-66960e88f645>\u001b[0m in \u001b[0;36mjac\u001b[0;34m(self, _input)\u001b[0m\n\u001b[1;32m     85\u001b[0m \u001b[0;34m\u001b[0m\u001b[0m\n\u001b[1;32m     86\u001b[0m         \u001b[0mself\u001b[0m\u001b[0;34m.\u001b[0m\u001b[0mroot\u001b[0m\u001b[0;34m.\u001b[0m\u001b[0m_d\u001b[0m \u001b[0;34m=\u001b[0m \u001b[0mnp\u001b[0m\u001b[0;34m.\u001b[0m\u001b[0marray\u001b[0m\u001b[0;34m(\u001b[0m\u001b[0;34m[\u001b[0m\u001b[0;36m1\u001b[0m\u001b[0;34m]\u001b[0m\u001b[0;34m)\u001b[0m\u001b[0;34m\u001b[0m\u001b[0;34m\u001b[0m\u001b[0m\n\u001b[0;32m---> 87\u001b[0;31m         \u001b[0mbiases_jac\u001b[0m\u001b[0;34m,\u001b[0m \u001b[0mcoeffs_jac\u001b[0m \u001b[0;34m=\u001b[0m \u001b[0mself\u001b[0m\u001b[0;34m.\u001b[0m\u001b[0mcalculate_d\u001b[0m\u001b[0;34m(\u001b[0m\u001b[0mself\u001b[0m\u001b[0;34m.\u001b[0m\u001b[0mroot\u001b[0m\u001b[0;34m,\u001b[0m \u001b[0m_input\u001b[0m\u001b[0;34m)\u001b[0m\u001b[0;34m\u001b[0m\u001b[0;34m\u001b[0m\u001b[0m\n\u001b[0m\u001b[1;32m     88\u001b[0m \u001b[0;34m\u001b[0m\u001b[0m\n\u001b[1;32m     89\u001b[0m         \u001b[0;32mif\u001b[0m \u001b[0mself\u001b[0m\u001b[0;34m.\u001b[0m\u001b[0mloss\u001b[0m \u001b[0;34m<\u001b[0m \u001b[0;36m0\u001b[0m\u001b[0;34m:\u001b[0m\u001b[0;34m\u001b[0m\u001b[0;34m\u001b[0m\u001b[0m\n",
      "\u001b[0;32m<ipython-input-194-66960e88f645>\u001b[0m in \u001b[0;36mcalculate_d\u001b[0;34m(self, node, _input)\u001b[0m\n\u001b[1;32m    106\u001b[0m         \u001b[0mcoeffs_jac\u001b[0m \u001b[0;34m=\u001b[0m \u001b[0;34m{\u001b[0m\u001b[0;34m}\u001b[0m\u001b[0;34m\u001b[0m\u001b[0;34m\u001b[0m\u001b[0m\n\u001b[1;32m    107\u001b[0m         \u001b[0mprint\u001b[0m\u001b[0;34m(\u001b[0m\u001b[0;34m'arg '\u001b[0m\u001b[0;34m,\u001b[0m \u001b[0mnode\u001b[0m\u001b[0;34m.\u001b[0m\u001b[0mcalculate_arg\u001b[0m\u001b[0;34m(\u001b[0m\u001b[0m_input\u001b[0m\u001b[0;34m)\u001b[0m\u001b[0;34m)\u001b[0m\u001b[0;34m\u001b[0m\u001b[0;34m\u001b[0m\u001b[0m\n\u001b[0;32m--> 108\u001b[0;31m         \u001b[0mcalculated\u001b[0m \u001b[0;34m=\u001b[0m \u001b[0mstatic_part\u001b[0m \u001b[0;34m*\u001b[0m \u001b[0mDERIVATIVES\u001b[0m\u001b[0;34m[\u001b[0m\u001b[0mnode\u001b[0m\u001b[0;34m.\u001b[0m\u001b[0mfunction\u001b[0m\u001b[0;34m]\u001b[0m\u001b[0;34m(\u001b[0m\u001b[0mnode\u001b[0m\u001b[0;34m.\u001b[0m\u001b[0mcalculate_arg\u001b[0m\u001b[0;34m(\u001b[0m\u001b[0m_input\u001b[0m\u001b[0;34m)\u001b[0m\u001b[0;34m)\u001b[0m\u001b[0;34m\u001b[0m\u001b[0;34m\u001b[0m\u001b[0m\n\u001b[0m\u001b[1;32m    109\u001b[0m         \u001b[0mbiases_jac\u001b[0m\u001b[0;34m[\u001b[0m\u001b[0mind\u001b[0m\u001b[0;34m]\u001b[0m \u001b[0;34m=\u001b[0m \u001b[0mcalculated\u001b[0m\u001b[0;34m\u001b[0m\u001b[0;34m\u001b[0m\u001b[0m\n\u001b[1;32m    110\u001b[0m         \u001b[0mcoeffs_jac\u001b[0m\u001b[0;34m[\u001b[0m\u001b[0mind\u001b[0m\u001b[0;34m]\u001b[0m \u001b[0;34m=\u001b[0m \u001b[0mcalculated\u001b[0m \u001b[0;34m*\u001b[0m \u001b[0mnode\u001b[0m\u001b[0;34m.\u001b[0m\u001b[0mcalculate_next\u001b[0m\u001b[0;34m(\u001b[0m\u001b[0m_input\u001b[0m\u001b[0;34m)\u001b[0m\u001b[0;34m\u001b[0m\u001b[0;34m\u001b[0m\u001b[0m\n",
      "\u001b[0;32m<ipython-input-4-de2e32d0c797>\u001b[0m in \u001b[0;36mabs_der\u001b[0;34m(x)\u001b[0m\n\u001b[1;32m     27\u001b[0m     \u001b[0;32mfor\u001b[0m \u001b[0mx_\u001b[0m \u001b[0;32min\u001b[0m \u001b[0mx\u001b[0m\u001b[0;34m:\u001b[0m\u001b[0;34m\u001b[0m\u001b[0;34m\u001b[0m\u001b[0m\n\u001b[1;32m     28\u001b[0m         \u001b[0;32mif\u001b[0m \u001b[0mx_\u001b[0m\u001b[0;34m:\u001b[0m\u001b[0;34m\u001b[0m\u001b[0;34m\u001b[0m\u001b[0m\n\u001b[0;32m---> 29\u001b[0;31m             \u001b[0mreturned\u001b[0m\u001b[0;34m.\u001b[0m\u001b[0mappend\u001b[0m\u001b[0;34m(\u001b[0m\u001b[0;36m1\u001b[0m \u001b[0;32mif\u001b[0m \u001b[0mx\u001b[0m \u001b[0;34m>\u001b[0m \u001b[0;36m0\u001b[0m \u001b[0;32melse\u001b[0m \u001b[0;34m-\u001b[0m\u001b[0;36m1\u001b[0m\u001b[0;34m)\u001b[0m\u001b[0;34m\u001b[0m\u001b[0;34m\u001b[0m\u001b[0m\n\u001b[0m\u001b[1;32m     30\u001b[0m         \u001b[0;32melse\u001b[0m\u001b[0;34m:\u001b[0m\u001b[0;34m\u001b[0m\u001b[0;34m\u001b[0m\u001b[0m\n\u001b[1;32m     31\u001b[0m             \u001b[0mreturned\u001b[0m\u001b[0;34m.\u001b[0m\u001b[0mappend\u001b[0m\u001b[0;34m(\u001b[0m\u001b[0;36m0\u001b[0m\u001b[0;34m)\u001b[0m\u001b[0;34m\u001b[0m\u001b[0;34m\u001b[0m\u001b[0m\n",
      "\u001b[0;31mValueError\u001b[0m: The truth value of an array with more than one element is ambiguous. Use a.any() or a.all()"
     ]
    }
   ],
   "source": [
    "genetic.run(_input, predict=np.array([1]), num_steps=2, prob=0)"
   ]
  },
  {
   "cell_type": "code",
   "execution_count": 166,
   "metadata": {
    "ExecuteTime": {
     "end_time": "2019-09-15T14:36:49.890929Z",
     "start_time": "2019-09-15T14:36:49.885527Z"
    }
   },
   "outputs": [],
   "source": [
    "a = set([1,2])"
   ]
  },
  {
   "cell_type": "code",
   "execution_count": 86,
   "metadata": {
    "ExecuteTime": {
     "end_time": "2019-09-15T14:31:12.646427Z",
     "start_time": "2019-09-15T14:31:12.635130Z"
    }
   },
   "outputs": [
    {
     "data": {
      "text/plain": [
       "{<__main__.GenNet at 0x11e48e690>, <__main__.GenNet at 0x1201d7890>}"
      ]
     },
     "execution_count": 86,
     "metadata": {},
     "output_type": "execute_result"
    }
   ],
   "source": [
    "genetic.population"
   ]
  },
  {
   "cell_type": "markdown",
   "metadata": {},
   "source": [
    "## Test"
   ]
  },
  {
   "cell_type": "code",
   "execution_count": 58,
   "metadata": {
    "ExecuteTime": {
     "end_time": "2019-09-15T14:23:39.649176Z",
     "start_time": "2019-09-15T14:23:37.861038Z"
    }
   },
   "outputs": [],
   "source": [
    "import pandas as pd\n",
    "import numpy as np\n",
    "from matplotlib import pyplot as plt"
   ]
  },
  {
   "cell_type": "code",
   "execution_count": 59,
   "metadata": {
    "ExecuteTime": {
     "end_time": "2019-09-15T14:23:39.985169Z",
     "start_time": "2019-09-15T14:23:39.652971Z"
    }
   },
   "outputs": [],
   "source": [
    "ort10_coltar10 = pd.read_csv('lin_ort10_coltar10_mean.csv', header=None).values\n",
    "ort10_colfeat10 = pd.read_csv('lin_ort10_colfeat10_mean.csv', header=None).values\n",
    "ort20 = pd.read_csv('lin_ort20_mean.csv', header=None).values\n",
    "ort5_coltar10_colfeat5 = pd.read_csv('lin_ort5_coltar10_colfeat5_mean.csv', header=None).values\n",
    "ort5_coltar15 = pd.read_csv('lin_ort5_coltar15_mean.csv', header=None).values\n",
    "ort10_coltar5_colfeat5 = pd.read_csv('lin_ort10_coltar5_colfeat5_mean.csv', header=None).values\n",
    "ort5_colfeat15 = pd.read_csv('lin_ort5_colfeat15_mean.csv', header=None).values\n",
    "ort15_colfeat5 = pd.read_csv('lin_ort15_colfeat5_mean.csv', header=None).values\n",
    "ort5_coltar5_colfeat10 = pd.read_csv('lin_ort5_coltar5_colfeat10_mean.csv', header=None).values\n",
    "\n",
    "ort10_coltar10_data = pd.read_csv('lin_ort10_coltar10_data.csv', header=None)\n",
    "ort10_colfeat10_data = pd.read_csv('lin_ort10_colfeat10_data.csv', header=None)\n",
    "ort20_data = pd.read_csv('lin_ort20_data.csv', header=None)\n",
    "ort5_coltar10_colfeat5_data = pd.read_csv('lin_ort5_coltar10_colfeat5_data.csv', header=None)\n",
    "ort5_coltar15_data = pd.read_csv('lin_ort5_coltar15_data.csv', header=None)\n",
    "ort10_coltar5_colfeat5_data = pd.read_csv('lin_ort10_coltar5_colfeat5_data.csv', header=None)\n",
    "ort5_colfeat15_data = pd.read_csv('lin_ort5_colfeat15_data.csv', header=None)\n",
    "ort15_colfeat5_data = pd.read_csv('lin_ort15_colfeat5_data.csv', header=None)\n",
    "ort5_coltar5_colfeat10_data = pd.read_csv('lin_ort5_coltar5_colfeat10_data.csv', header=None)"
   ]
  },
  {
   "cell_type": "code",
   "execution_count": 60,
   "metadata": {
    "ExecuteTime": {
     "end_time": "2019-09-15T14:23:39.999188Z",
     "start_time": "2019-09-15T14:23:39.988788Z"
    }
   },
   "outputs": [],
   "source": [
    "true_results = [\n",
    "    ort10_coltar10.reshape(-1),\n",
    "    ort10_colfeat10.reshape(-1),\n",
    "    ort20.reshape(-1),\n",
    "    ort5_coltar10_colfeat5.reshape(-1),\n",
    "    ort5_coltar15.reshape(-1),\n",
    "    ort10_coltar5_colfeat5.reshape(-1),\n",
    "    ort5_colfeat15.reshape(-1),\n",
    "    ort15_colfeat5.reshape(-1),\n",
    "    ort5_coltar5_colfeat10.reshape(-1)\n",
    "]"
   ]
  },
  {
   "cell_type": "code",
   "execution_count": 61,
   "metadata": {
    "ExecuteTime": {
     "end_time": "2019-09-15T14:23:40.015497Z",
     "start_time": "2019-09-15T14:23:40.004668Z"
    }
   },
   "outputs": [],
   "source": [
    "_input = np.arange(2, 2 + len(true_results[0]))"
   ]
  },
  {
   "cell_type": "code",
   "execution_count": 62,
   "metadata": {
    "ExecuteTime": {
     "end_time": "2019-09-15T14:23:41.818791Z",
     "start_time": "2019-09-15T14:23:41.814092Z"
    }
   },
   "outputs": [],
   "source": [
    "_input = np.array([1])"
   ]
  },
  {
   "cell_type": "code",
   "execution_count": 746,
   "metadata": {
    "ExecuteTime": {
     "end_time": "2019-09-14T17:05:44.678970Z",
     "start_time": "2019-09-14T17:05:44.662107Z"
    }
   },
   "outputs": [
    {
     "ename": "TypeError",
     "evalue": "'set' object is not subscriptable",
     "output_type": "error",
     "traceback": [
      "\u001b[0;31m---------------------------------------------------------------------------\u001b[0m",
      "\u001b[0;31mTypeError\u001b[0m                                 Traceback (most recent call last)",
      "\u001b[0;32m<ipython-input-746-5084f974ba70>\u001b[0m in \u001b[0;36m<module>\u001b[0;34m\u001b[0m\n\u001b[0;32m----> 1\u001b[0;31m \u001b[0mnetty\u001b[0m \u001b[0;34m=\u001b[0m \u001b[0mgenetic\u001b[0m\u001b[0;34m.\u001b[0m\u001b[0mpopulation\u001b[0m\u001b[0;34m[\u001b[0m\u001b[0;36m1\u001b[0m\u001b[0;34m]\u001b[0m\u001b[0;34m\u001b[0m\u001b[0;34m\u001b[0m\u001b[0m\n\u001b[0m",
      "\u001b[0;31mTypeError\u001b[0m: 'set' object is not subscriptable"
     ]
    }
   ],
   "source": [
    "netty = genetic.population[1]"
   ]
  },
  {
   "cell_type": "code",
   "execution_count": 747,
   "metadata": {
    "ExecuteTime": {
     "end_time": "2019-09-14T17:05:44.811062Z",
     "start_time": "2019-09-14T17:05:44.788904Z"
    }
   },
   "outputs": [
    {
     "ename": "TypeError",
     "evalue": "'set' object is not subscriptable",
     "output_type": "error",
     "traceback": [
      "\u001b[0;31m---------------------------------------------------------------------------\u001b[0m",
      "\u001b[0;31mTypeError\u001b[0m                                 Traceback (most recent call last)",
      "\u001b[0;32m<ipython-input-747-7a5663865e9f>\u001b[0m in \u001b[0;36m<module>\u001b[0;34m\u001b[0m\n\u001b[0;32m----> 1\u001b[0;31m \u001b[0;32mfor\u001b[0m \u001b[0mnode\u001b[0m \u001b[0;32min\u001b[0m \u001b[0mgenetic\u001b[0m\u001b[0;34m.\u001b[0m\u001b[0mpopulation\u001b[0m\u001b[0;34m[\u001b[0m\u001b[0;36m1\u001b[0m\u001b[0;34m]\u001b[0m\u001b[0;34m.\u001b[0m\u001b[0mall_nodes\u001b[0m\u001b[0;34m:\u001b[0m\u001b[0;34m\u001b[0m\u001b[0;34m\u001b[0m\u001b[0m\n\u001b[0m\u001b[1;32m      2\u001b[0m     \u001b[0mprint\u001b[0m\u001b[0;34m(\u001b[0m\u001b[0mnode\u001b[0m\u001b[0;34m.\u001b[0m\u001b[0m__dict__\u001b[0m\u001b[0;34m)\u001b[0m\u001b[0;34m\u001b[0m\u001b[0;34m\u001b[0m\u001b[0m\n",
      "\u001b[0;31mTypeError\u001b[0m: 'set' object is not subscriptable"
     ]
    }
   ],
   "source": [
    "for node in genetic.population[1].all_nodes:\n",
    "    print(node.__dict__)"
   ]
  },
  {
   "cell_type": "code",
   "execution_count": 748,
   "metadata": {
    "ExecuteTime": {
     "end_time": "2019-09-14T17:05:44.934348Z",
     "start_time": "2019-09-14T17:05:44.921769Z"
    }
   },
   "outputs": [
    {
     "name": "stdout",
     "output_type": "stream",
     "text": [
      "[array([1]), array([1])]\n"
     ]
    },
    {
     "data": {
      "text/plain": [
       "array([1, 1])"
      ]
     },
     "execution_count": 748,
     "metadata": {},
     "output_type": "execute_result"
    }
   ],
   "source": [
    "np.array(netty.jac()).reshape(-1)"
   ]
  },
  {
   "cell_type": "code",
   "execution_count": 749,
   "metadata": {
    "ExecuteTime": {
     "end_time": "2019-09-14T17:05:44.947707Z",
     "start_time": "2019-09-14T17:05:44.938270Z"
    }
   },
   "outputs": [],
   "source": [
    "genetic = GenGenetic(population_size=1)"
   ]
  },
  {
   "cell_type": "code",
   "execution_count": 750,
   "metadata": {
    "ExecuteTime": {
     "end_time": "2019-09-14T17:05:45.004371Z",
     "start_time": "2019-09-14T17:05:44.999254Z"
    }
   },
   "outputs": [],
   "source": [
    "genetic.create_population([1])"
   ]
  },
  {
   "cell_type": "code",
   "execution_count": 751,
   "metadata": {
    "ExecuteTime": {
     "end_time": "2019-09-14T17:05:45.074568Z",
     "start_time": "2019-09-14T17:05:45.066173Z"
    }
   },
   "outputs": [
    {
     "data": {
      "text/plain": [
       "{<__main__.GenNet at 0x11a9af710>}"
      ]
     },
     "execution_count": 751,
     "metadata": {},
     "output_type": "execute_result"
    }
   ],
   "source": [
    "genetic.population"
   ]
  },
  {
   "cell_type": "code",
   "execution_count": 752,
   "metadata": {
    "ExecuteTime": {
     "end_time": "2019-09-14T17:05:45.192430Z",
     "start_time": "2019-09-14T17:05:45.151749Z"
    }
   },
   "outputs": [
    {
     "name": "stdout",
     "output_type": "stream",
     "text": [
      "2\n",
      "2\n",
      "arg  [2. 2.]\n",
      "[2. 2.]\n",
      "arg  [2. 2.]\n",
      "next  [2. 2.]\n",
      "[1]\n",
      "calc  [2.]\n"
     ]
    },
    {
     "ename": "ValueError",
     "evalue": "shapes (2,2) and (4,) not aligned: 2 (dim 1) != 4 (dim 0)",
     "output_type": "error",
     "traceback": [
      "\u001b[0;31m---------------------------------------------------------------------------\u001b[0m",
      "\u001b[0;31mValueError\u001b[0m                                Traceback (most recent call last)",
      "\u001b[0;32m<ipython-input-752-6b8000cfd828>\u001b[0m in \u001b[0;36m<module>\u001b[0;34m\u001b[0m\n\u001b[0;32m----> 1\u001b[0;31m \u001b[0mgenetic\u001b[0m\u001b[0;34m.\u001b[0m\u001b[0mrun\u001b[0m\u001b[0;34m(\u001b[0m\u001b[0m_input\u001b[0m\u001b[0;34m,\u001b[0m \u001b[0mpredict\u001b[0m\u001b[0;34m=\u001b[0m\u001b[0mnp\u001b[0m\u001b[0;34m.\u001b[0m\u001b[0marray\u001b[0m\u001b[0;34m(\u001b[0m\u001b[0;34m[\u001b[0m\u001b[0;36m1\u001b[0m\u001b[0;34m]\u001b[0m\u001b[0;34m)\u001b[0m\u001b[0;34m,\u001b[0m \u001b[0mnum_steps\u001b[0m\u001b[0;34m=\u001b[0m\u001b[0;36m2\u001b[0m\u001b[0;34m,\u001b[0m \u001b[0mprob\u001b[0m\u001b[0;34m=\u001b[0m\u001b[0;36m0.5\u001b[0m\u001b[0;34m)\u001b[0m\u001b[0;34m\u001b[0m\u001b[0;34m\u001b[0m\u001b[0m\n\u001b[0m",
      "\u001b[0;32m<ipython-input-740-b2bb14053fd7>\u001b[0m in \u001b[0;36mrun\u001b[0;34m(self, _input, predict, num_steps, prob, i)\u001b[0m\n\u001b[1;32m     95\u001b[0m         \u001b[0;32mfor\u001b[0m \u001b[0mnet\u001b[0m \u001b[0;32min\u001b[0m \u001b[0mself\u001b[0m\u001b[0;34m.\u001b[0m\u001b[0mpopulation\u001b[0m\u001b[0;34m:\u001b[0m\u001b[0;34m\u001b[0m\u001b[0;34m\u001b[0m\u001b[0m\n\u001b[1;32m     96\u001b[0m             \u001b[0mx0\u001b[0m \u001b[0;34m=\u001b[0m \u001b[0;34m[\u001b[0m\u001b[0;36m1\u001b[0m \u001b[0;32mfor\u001b[0m \u001b[0m_\u001b[0m \u001b[0;32min\u001b[0m \u001b[0mrange\u001b[0m\u001b[0;34m(\u001b[0m\u001b[0mlen\u001b[0m\u001b[0;34m(\u001b[0m\u001b[0mnet\u001b[0m\u001b[0;34m.\u001b[0m\u001b[0mall_nodes\u001b[0m\u001b[0;34m)\u001b[0m \u001b[0;34m*\u001b[0m \u001b[0;36m2\u001b[0m\u001b[0;34m)\u001b[0m\u001b[0;34m]\u001b[0m\u001b[0;34m\u001b[0m\u001b[0;34m\u001b[0m\u001b[0m\n\u001b[0;32m---> 97\u001b[0;31m             \u001b[0mopt_biases_coeff\u001b[0m \u001b[0;34m=\u001b[0m \u001b[0mminimize\u001b[0m\u001b[0;34m(\u001b[0m\u001b[0mnet\u001b[0m\u001b[0;34m.\u001b[0m\u001b[0mcalculate_biases_coeffs_loss\u001b[0m\u001b[0;34m,\u001b[0m \u001b[0mx0\u001b[0m\u001b[0;34m,\u001b[0m \u001b[0mmethod\u001b[0m\u001b[0;34m=\u001b[0m\u001b[0;34m'BFGS'\u001b[0m\u001b[0;34m,\u001b[0m \u001b[0mjac\u001b[0m\u001b[0;34m=\u001b[0m\u001b[0mnet\u001b[0m\u001b[0;34m.\u001b[0m\u001b[0mjac\u001b[0m\u001b[0;34m)\u001b[0m\u001b[0;34m\u001b[0m\u001b[0;34m\u001b[0m\u001b[0m\n\u001b[0m\u001b[1;32m     98\u001b[0m             \u001b[0mopt_biases\u001b[0m \u001b[0;34m=\u001b[0m \u001b[0mopt_biases_coeff\u001b[0m\u001b[0;34m[\u001b[0m\u001b[0;34m:\u001b[0m\u001b[0mlen\u001b[0m\u001b[0;34m(\u001b[0m\u001b[0mopt_biases_coeff\u001b[0m\u001b[0;34m)\u001b[0m\u001b[0;34m//\u001b[0m\u001b[0;36m2\u001b[0m\u001b[0;34m]\u001b[0m\u001b[0;34m\u001b[0m\u001b[0;34m\u001b[0m\u001b[0m\n\u001b[1;32m     99\u001b[0m             \u001b[0mopt_coeffs\u001b[0m \u001b[0;34m=\u001b[0m \u001b[0mopt_biases_coeff\u001b[0m\u001b[0;34m[\u001b[0m\u001b[0mlen\u001b[0m\u001b[0;34m(\u001b[0m\u001b[0mopt_biases_coeff\u001b[0m\u001b[0;34m)\u001b[0m\u001b[0;34m//\u001b[0m\u001b[0;36m2\u001b[0m\u001b[0;34m:\u001b[0m\u001b[0;34m]\u001b[0m\u001b[0;34m\u001b[0m\u001b[0;34m\u001b[0m\u001b[0m\n",
      "\u001b[0;32m/usr/local/lib/python3.7/site-packages/scipy/optimize/_minimize.py\u001b[0m in \u001b[0;36mminimize\u001b[0;34m(fun, x0, args, method, jac, hess, hessp, bounds, constraints, tol, callback, options)\u001b[0m\n\u001b[1;32m    592\u001b[0m         \u001b[0;32mreturn\u001b[0m \u001b[0m_minimize_cg\u001b[0m\u001b[0;34m(\u001b[0m\u001b[0mfun\u001b[0m\u001b[0;34m,\u001b[0m \u001b[0mx0\u001b[0m\u001b[0;34m,\u001b[0m \u001b[0margs\u001b[0m\u001b[0;34m,\u001b[0m \u001b[0mjac\u001b[0m\u001b[0;34m,\u001b[0m \u001b[0mcallback\u001b[0m\u001b[0;34m,\u001b[0m \u001b[0;34m**\u001b[0m\u001b[0moptions\u001b[0m\u001b[0;34m)\u001b[0m\u001b[0;34m\u001b[0m\u001b[0;34m\u001b[0m\u001b[0m\n\u001b[1;32m    593\u001b[0m     \u001b[0;32melif\u001b[0m \u001b[0mmeth\u001b[0m \u001b[0;34m==\u001b[0m \u001b[0;34m'bfgs'\u001b[0m\u001b[0;34m:\u001b[0m\u001b[0;34m\u001b[0m\u001b[0;34m\u001b[0m\u001b[0m\n\u001b[0;32m--> 594\u001b[0;31m         \u001b[0;32mreturn\u001b[0m \u001b[0m_minimize_bfgs\u001b[0m\u001b[0;34m(\u001b[0m\u001b[0mfun\u001b[0m\u001b[0;34m,\u001b[0m \u001b[0mx0\u001b[0m\u001b[0;34m,\u001b[0m \u001b[0margs\u001b[0m\u001b[0;34m,\u001b[0m \u001b[0mjac\u001b[0m\u001b[0;34m,\u001b[0m \u001b[0mcallback\u001b[0m\u001b[0;34m,\u001b[0m \u001b[0;34m**\u001b[0m\u001b[0moptions\u001b[0m\u001b[0;34m)\u001b[0m\u001b[0;34m\u001b[0m\u001b[0;34m\u001b[0m\u001b[0m\n\u001b[0m\u001b[1;32m    595\u001b[0m     \u001b[0;32melif\u001b[0m \u001b[0mmeth\u001b[0m \u001b[0;34m==\u001b[0m \u001b[0;34m'newton-cg'\u001b[0m\u001b[0;34m:\u001b[0m\u001b[0;34m\u001b[0m\u001b[0;34m\u001b[0m\u001b[0m\n\u001b[1;32m    596\u001b[0m         return _minimize_newtoncg(fun, x0, args, jac, hess, hessp, callback,\n",
      "\u001b[0;32m/usr/local/lib/python3.7/site-packages/scipy/optimize/optimize.py\u001b[0m in \u001b[0;36m_minimize_bfgs\u001b[0;34m(fun, x0, args, jac, callback, gtol, norm, eps, maxiter, disp, return_all, **unknown_options)\u001b[0m\n\u001b[1;32m   1010\u001b[0m     \u001b[0mgnorm\u001b[0m \u001b[0;34m=\u001b[0m \u001b[0mvecnorm\u001b[0m\u001b[0;34m(\u001b[0m\u001b[0mgfk\u001b[0m\u001b[0;34m,\u001b[0m \u001b[0mord\u001b[0m\u001b[0;34m=\u001b[0m\u001b[0mnorm\u001b[0m\u001b[0;34m)\u001b[0m\u001b[0;34m\u001b[0m\u001b[0;34m\u001b[0m\u001b[0m\n\u001b[1;32m   1011\u001b[0m     \u001b[0;32mwhile\u001b[0m \u001b[0;34m(\u001b[0m\u001b[0mgnorm\u001b[0m \u001b[0;34m>\u001b[0m \u001b[0mgtol\u001b[0m\u001b[0;34m)\u001b[0m \u001b[0;32mand\u001b[0m \u001b[0;34m(\u001b[0m\u001b[0mk\u001b[0m \u001b[0;34m<\u001b[0m \u001b[0mmaxiter\u001b[0m\u001b[0;34m)\u001b[0m\u001b[0;34m:\u001b[0m\u001b[0;34m\u001b[0m\u001b[0;34m\u001b[0m\u001b[0m\n\u001b[0;32m-> 1012\u001b[0;31m         \u001b[0mpk\u001b[0m \u001b[0;34m=\u001b[0m \u001b[0;34m-\u001b[0m\u001b[0mnumpy\u001b[0m\u001b[0;34m.\u001b[0m\u001b[0mdot\u001b[0m\u001b[0;34m(\u001b[0m\u001b[0mHk\u001b[0m\u001b[0;34m,\u001b[0m \u001b[0mgfk\u001b[0m\u001b[0;34m)\u001b[0m\u001b[0;34m\u001b[0m\u001b[0;34m\u001b[0m\u001b[0m\n\u001b[0m\u001b[1;32m   1013\u001b[0m         \u001b[0;32mtry\u001b[0m\u001b[0;34m:\u001b[0m\u001b[0;34m\u001b[0m\u001b[0;34m\u001b[0m\u001b[0m\n\u001b[1;32m   1014\u001b[0m             \u001b[0malpha_k\u001b[0m\u001b[0;34m,\u001b[0m \u001b[0mfc\u001b[0m\u001b[0;34m,\u001b[0m \u001b[0mgc\u001b[0m\u001b[0;34m,\u001b[0m \u001b[0mold_fval\u001b[0m\u001b[0;34m,\u001b[0m \u001b[0mold_old_fval\u001b[0m\u001b[0;34m,\u001b[0m \u001b[0mgfkp1\u001b[0m \u001b[0;34m=\u001b[0m\u001b[0;31m \u001b[0m\u001b[0;31m\\\u001b[0m\u001b[0;34m\u001b[0m\u001b[0;34m\u001b[0m\u001b[0m\n",
      "\u001b[0;32m<__array_function__ internals>\u001b[0m in \u001b[0;36mdot\u001b[0;34m(*args, **kwargs)\u001b[0m\n",
      "\u001b[0;31mValueError\u001b[0m: shapes (2,2) and (4,) not aligned: 2 (dim 1) != 4 (dim 0)"
     ]
    }
   ],
   "source": [
    "genetic.run(_input, predict=np.array([1]), num_steps=2, prob=0.5)"
   ]
  },
  {
   "cell_type": "code",
   "execution_count": 753,
   "metadata": {
    "ExecuteTime": {
     "end_time": "2019-09-14T17:05:45.637566Z",
     "start_time": "2019-09-14T17:05:45.620103Z"
    }
   },
   "outputs": [
    {
     "ename": "TypeError",
     "evalue": "run() missing 1 required positional argument: 'predict'",
     "output_type": "error",
     "traceback": [
      "\u001b[0;31m---------------------------------------------------------------------------\u001b[0m",
      "\u001b[0;31mTypeError\u001b[0m                                 Traceback (most recent call last)",
      "\u001b[0;32m<ipython-input-753-ade648992810>\u001b[0m in \u001b[0;36m<module>\u001b[0;34m\u001b[0m\n\u001b[0;32m----> 1\u001b[0;31m \u001b[0mgenetic\u001b[0m\u001b[0;34m.\u001b[0m\u001b[0mrun\u001b[0m\u001b[0;34m(\u001b[0m\u001b[0m_input\u001b[0m\u001b[0;34m)\u001b[0m\u001b[0;34m\u001b[0m\u001b[0;34m\u001b[0m\u001b[0m\n\u001b[0m",
      "\u001b[0;31mTypeError\u001b[0m: run() missing 1 required positional argument: 'predict'"
     ]
    }
   ],
   "source": [
    "genetic.run(_input)"
   ]
  },
  {
   "cell_type": "code",
   "execution_count": null,
   "metadata": {},
   "outputs": [],
   "source": []
  }
 ],
 "metadata": {
  "kernelspec": {
   "display_name": "Python 3",
   "language": "python",
   "name": "python3"
  },
  "language_info": {
   "codemirror_mode": {
    "name": "ipython",
    "version": 3
   },
   "file_extension": ".py",
   "mimetype": "text/x-python",
   "name": "python",
   "nbconvert_exporter": "python",
   "pygments_lexer": "ipython3",
   "version": "3.7.4"
  }
 },
 "nbformat": 4,
 "nbformat_minor": 2
}
