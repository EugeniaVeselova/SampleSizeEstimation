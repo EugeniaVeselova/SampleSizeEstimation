{
 "cells": [
  {
   "cell_type": "code",
   "execution_count": 1,
   "metadata": {
    "ExecuteTime": {
     "end_time": "2019-09-10T18:57:06.809679Z",
     "start_time": "2019-09-10T18:57:06.226810Z"
    }
   },
   "outputs": [],
   "source": [
    "import numpy as np\n",
    "from scipy.special import expit"
   ]
  },
  {
   "cell_type": "code",
   "execution_count": 2,
   "metadata": {
    "ExecuteTime": {
     "end_time": "2019-09-10T18:57:06.822051Z",
     "start_time": "2019-09-10T18:57:06.812364Z"
    }
   },
   "outputs": [],
   "source": [
    "def relu(x):\n",
    "    return np.maximum(x, 0)\n",
    "\n",
    "def linear(x):\n",
    "    return x\n",
    "\n",
    "def neg(x):\n",
    "    return -1 * x"
   ]
  },
  {
   "cell_type": "code",
   "execution_count": 3,
   "metadata": {
    "ExecuteTime": {
     "end_time": "2019-09-10T18:57:48.726584Z",
     "start_time": "2019-09-10T18:57:48.720252Z"
    }
   },
   "outputs": [],
   "source": [
    "ACTIVATION_FUNCTIONS = {\n",
    "    0: relu,\n",
    "    1: linear,\n",
    "    2: np.tanh,\n",
    "    3: expit,\n",
    "    4: np.abs,\n",
    "    5: neg\n",
    "}"
   ]
  },
  {
   "cell_type": "code",
   "execution_count": 4,
   "metadata": {
    "ExecuteTime": {
     "end_time": "2019-09-10T18:57:50.674864Z",
     "start_time": "2019-09-10T18:57:50.656559Z"
    }
   },
   "outputs": [],
   "source": [
    "class GenNode:\n",
    "    \"\"\"\n",
    "    GenNode stores one node of the tree\n",
    "    \"\"\"\n",
    "    def __init__(self, _input=None, parent=None, children=set(), function=linear, bias=1):\n",
    "        \"\"\"\n",
    "        Initialize:\n",
    "        - node parent\n",
    "        - node children\n",
    "        - activation function\n",
    "        - default bias (1)\n",
    "        \"\"\"\n",
    "        self._input = _input\n",
    "        self.parent = parent\n",
    "        self.children = set(children)\n",
    "        self.function = function\n",
    "        self.bias = bias\n",
    "        \n",
    "    def add_child(self, child_node):\n",
    "        self.children.add(child_node)\n",
    "        \n",
    "    def add_parent(self, parent_node):\n",
    "        self.parent = parent_node\n",
    "        \n",
    "    def delete_child(self, child_node):\n",
    "        self.children.remove(child_node)\n",
    "        \n",
    "    def change_function(self, function):\n",
    "        self.function = function   \n",
    "        \n",
    "    def calculate(self, _input=None):\n",
    "        if len(self.children):\n",
    "            result = np.sum(np.array([child.calculate(_input) for child in self.children]), axis=0)\n",
    "        else:\n",
    "            if _input is not None:\n",
    "                result = _input\n",
    "            else:\n",
    "                result = self._input\n",
    "        return self.function(self.bias + result)\n",
    "    \n",
    "    def clone(self, parent):\n",
    "        node = GenNode(_input=self._input, parent=parent, function=self.function, bias=self.bias)\n",
    "        return node"
   ]
  },
  {
   "cell_type": "markdown",
   "metadata": {},
   "source": [
    "### Test node:"
   ]
  },
  {
   "cell_type": "code",
   "execution_count": 5,
   "metadata": {
    "ExecuteTime": {
     "end_time": "2019-09-10T18:57:51.697496Z",
     "start_time": "2019-09-10T18:57:51.691000Z"
    }
   },
   "outputs": [],
   "source": [
    "node = GenNode()"
   ]
  },
  {
   "cell_type": "code",
   "execution_count": 6,
   "metadata": {
    "ExecuteTime": {
     "end_time": "2019-09-10T18:57:52.116928Z",
     "start_time": "2019-09-10T18:57:52.090368Z"
    }
   },
   "outputs": [
    {
     "data": {
      "text/plain": [
       "{'_input': None,\n",
       " 'parent': None,\n",
       " 'children': set(),\n",
       " 'function': <function __main__.linear(x)>,\n",
       " 'bias': 1}"
      ]
     },
     "execution_count": 6,
     "metadata": {},
     "output_type": "execute_result"
    }
   ],
   "source": [
    "node.__dict__"
   ]
  },
  {
   "cell_type": "code",
   "execution_count": 7,
   "metadata": {
    "ExecuteTime": {
     "end_time": "2019-09-10T18:57:52.406484Z",
     "start_time": "2019-09-10T18:57:52.398805Z"
    }
   },
   "outputs": [],
   "source": [
    "cloned = node.clone(None)"
   ]
  },
  {
   "cell_type": "code",
   "execution_count": 8,
   "metadata": {
    "ExecuteTime": {
     "end_time": "2019-09-10T18:57:52.996396Z",
     "start_time": "2019-09-10T18:57:52.987243Z"
    }
   },
   "outputs": [
    {
     "data": {
      "text/plain": [
       "{'_input': None,\n",
       " 'parent': None,\n",
       " 'children': set(),\n",
       " 'function': <function __main__.linear(x)>,\n",
       " 'bias': 1}"
      ]
     },
     "execution_count": 8,
     "metadata": {},
     "output_type": "execute_result"
    }
   ],
   "source": [
    "cloned.__dict__"
   ]
  },
  {
   "cell_type": "code",
   "execution_count": 9,
   "metadata": {
    "ExecuteTime": {
     "end_time": "2019-09-10T18:57:53.376776Z",
     "start_time": "2019-09-10T18:57:53.363966Z"
    }
   },
   "outputs": [
    {
     "data": {
      "text/plain": [
       "array([2, 3, 2])"
      ]
     },
     "execution_count": 9,
     "metadata": {},
     "output_type": "execute_result"
    }
   ],
   "source": [
    "node = GenNode(_input=np.array([1,2,-3]), function=ACTIVATION_FUNCTIONS[4])\n",
    "node.calculate()"
   ]
  },
  {
   "cell_type": "code",
   "execution_count": 10,
   "metadata": {
    "ExecuteTime": {
     "end_time": "2019-09-10T18:57:53.806626Z",
     "start_time": "2019-09-10T18:57:53.795780Z"
    }
   },
   "outputs": [
    {
     "data": {
      "text/plain": [
       "array([2, 3, 2])"
      ]
     },
     "execution_count": 10,
     "metadata": {},
     "output_type": "execute_result"
    }
   ],
   "source": [
    "node.calculate()"
   ]
  },
  {
   "cell_type": "code",
   "execution_count": 11,
   "metadata": {
    "ExecuteTime": {
     "end_time": "2019-09-10T18:57:54.110169Z",
     "start_time": "2019-09-10T18:57:54.098899Z"
    }
   },
   "outputs": [
    {
     "data": {
      "text/plain": [
       "array([ 0.96402758,  0.99505475, -0.96402758])"
      ]
     },
     "execution_count": 11,
     "metadata": {},
     "output_type": "execute_result"
    }
   ],
   "source": [
    "node = GenNode(_input=np.array([1,2,-3]), function=ACTIVATION_FUNCTIONS[2])\n",
    "node.calculate()"
   ]
  },
  {
   "cell_type": "code",
   "execution_count": 12,
   "metadata": {
    "ExecuteTime": {
     "end_time": "2019-09-10T18:57:54.352384Z",
     "start_time": "2019-09-10T18:57:54.342826Z"
    }
   },
   "outputs": [],
   "source": [
    "parent = GenNode(_input=np.array([1,2,-3]), function=ACTIVATION_FUNCTIONS[2])\n",
    "child = GenNode(_input=np.array([1,2,-3]), function=ACTIVATION_FUNCTIONS[0])\n",
    "\n",
    "parent.add_child(child)\n",
    "child.add_parent(parent)"
   ]
  },
  {
   "cell_type": "code",
   "execution_count": 13,
   "metadata": {
    "ExecuteTime": {
     "end_time": "2019-09-10T18:57:54.945335Z",
     "start_time": "2019-09-10T18:57:54.921476Z"
    }
   },
   "outputs": [
    {
     "data": {
      "text/plain": [
       "{'_input': array([ 1,  2, -3]),\n",
       " 'parent': None,\n",
       " 'children': {<__main__.GenNode at 0x115414110>},\n",
       " 'function': <ufunc 'tanh'>,\n",
       " 'bias': 1}"
      ]
     },
     "execution_count": 13,
     "metadata": {},
     "output_type": "execute_result"
    }
   ],
   "source": [
    "parent.__dict__"
   ]
  },
  {
   "cell_type": "code",
   "execution_count": 14,
   "metadata": {
    "ExecuteTime": {
     "end_time": "2019-09-10T18:57:55.482723Z",
     "start_time": "2019-09-10T18:57:55.473622Z"
    }
   },
   "outputs": [
    {
     "data": {
      "text/plain": [
       "{'_input': array([ 1,  2, -3]),\n",
       " 'parent': <__main__.GenNode at 0x115414150>,\n",
       " 'children': set(),\n",
       " 'function': <function __main__.relu(x)>,\n",
       " 'bias': 1}"
      ]
     },
     "execution_count": 14,
     "metadata": {},
     "output_type": "execute_result"
    }
   ],
   "source": [
    "child.__dict__"
   ]
  },
  {
   "cell_type": "code",
   "execution_count": 15,
   "metadata": {
    "ExecuteTime": {
     "end_time": "2019-09-10T18:57:55.996900Z",
     "start_time": "2019-09-10T18:57:55.988160Z"
    }
   },
   "outputs": [
    {
     "data": {
      "text/plain": [
       "<ufunc 'tanh'>"
      ]
     },
     "execution_count": 15,
     "metadata": {},
     "output_type": "execute_result"
    }
   ],
   "source": [
    "child.parent.function"
   ]
  },
  {
   "cell_type": "markdown",
   "metadata": {},
   "source": [
    "$sum(tanh(1+relu([2,3,-2])))$"
   ]
  },
  {
   "cell_type": "code",
   "execution_count": 16,
   "metadata": {
    "ExecuteTime": {
     "end_time": "2019-09-10T18:57:56.841334Z",
     "start_time": "2019-09-10T18:57:56.830459Z"
    }
   },
   "outputs": [
    {
     "data": {
      "text/plain": [
       "array([0.99505475, 0.9993293 , 0.76159416])"
      ]
     },
     "execution_count": 16,
     "metadata": {},
     "output_type": "execute_result"
    }
   ],
   "source": [
    "parent.calculate()"
   ]
  },
  {
   "cell_type": "code",
   "execution_count": 17,
   "metadata": {
    "ExecuteTime": {
     "end_time": "2019-09-10T18:57:57.092366Z",
     "start_time": "2019-09-10T18:57:57.079999Z"
    }
   },
   "outputs": [
    {
     "name": "stdout",
     "output_type": "stream",
     "text": [
      "[2 3 0]\n",
      "[0.99505475 0.9993293  0.76159416]\n"
     ]
    }
   ],
   "source": [
    "print(relu([2,3,-2]))\n",
    "print(np.tanh([3,4,1]))"
   ]
  },
  {
   "cell_type": "markdown",
   "metadata": {},
   "source": [
    "---"
   ]
  },
  {
   "cell_type": "code",
   "execution_count": 79,
   "metadata": {
    "ExecuteTime": {
     "end_time": "2019-09-10T19:14:42.945873Z",
     "start_time": "2019-09-10T19:14:42.907722Z"
    }
   },
   "outputs": [],
   "source": [
    "class GenNet:\n",
    "    \"\"\"\n",
    "    GenNet stores and calculates full net tree\n",
    "    \"\"\"\n",
    "    def __init__(self, start_depth):\n",
    "        \"\"\"\n",
    "        Initialize:\n",
    "        - all_nodes\n",
    "        - start_depth\n",
    "        - root\n",
    "        \"\"\"\n",
    "        self.all_nodes = set()\n",
    "        self.start_depth = start_depth\n",
    "        self.root = None\n",
    "        parent = None\n",
    "        for i in range(start_depth):\n",
    "            j = np.random.randint(len(ACTIVATION_FUNCTIONS))\n",
    "            child = GenNode(parent=parent, function=ACTIVATION_FUNCTIONS[j])\n",
    "            self.all_nodes.add(child)\n",
    "            if parent is not None:\n",
    "                parent.add_child(child)\n",
    "            else:\n",
    "                self.root = child\n",
    "            parent = child\n",
    "\n",
    "    def all_children(self, node):\n",
    "        all_children = set()\n",
    "        for child_node in node.children:\n",
    "            all_children.update(self.all_children(child_node))\n",
    "\n",
    "        return all_children\n",
    "        \n",
    "    def add_subnet(self, parent_node, child_node, subnet):\n",
    "        removed_nodes = self.all_children(child_node)\n",
    "        for node in removed_nodes:\n",
    "            self.all_nodes.remove(node)\n",
    "        self.all_nodes.remove(child_node)\n",
    "\n",
    "        parent_node.add_child(subnet.root)\n",
    "        for node in subnet.all_nodes:\n",
    "            self.all_nodes.add(node)\n",
    "        \n",
    "    def clone_subnet(self, node, depth=0):\n",
    "        subnet = GenNet(depth)\n",
    "        subnet.root = node.clone(parent=None)\n",
    "        subnet.all_nodes.add(subnet.root)\n",
    "        for child in node.children:\n",
    "            cloned_child = child.clone(parent=subnet.root)\n",
    "            cloned_child.add_parent(subnet.root)\n",
    "            subnet.root.add_child(cloned_child)\n",
    "            subnet.all_nodes.update(self._clone_subnet(child, cloned_child))\n",
    "            \n",
    "        return subnet\n",
    "        \n",
    "    def _clone_subnet(self, root, cloned_root):\n",
    "        subnet = set([cloned_root])\n",
    "        for child in root.children:\n",
    "            cloned_child = child.clone(parent=cloned_root)\n",
    "            cloned_child.add_parent(cloned_root)\n",
    "            cloned_root.add_child(cloned_child)\n",
    "            subnet.update(self._clone_subnet(child, cloned_child))\n",
    "\n",
    "        return subnet\n",
    "    \n",
    "    def change_function(self, node, function):\n",
    "        node.change_function(function)\n",
    "\n",
    "    def calculate(self, _input):\n",
    "        result = self.root.calculate(_input)\n",
    "        \n",
    "        return result\n",
    "    \n",
    "    def clone(self):\n",
    "        net = self.clone_subnet(self.root, self.start_depth)\n",
    "\n",
    "        return net"
   ]
  },
  {
   "cell_type": "markdown",
   "metadata": {},
   "source": [
    "### Test net"
   ]
  },
  {
   "cell_type": "code",
   "execution_count": 48,
   "metadata": {
    "ExecuteTime": {
     "end_time": "2019-09-10T19:05:27.041058Z",
     "start_time": "2019-09-10T19:05:27.033801Z"
    }
   },
   "outputs": [],
   "source": [
    "net = GenNet(1)"
   ]
  },
  {
   "cell_type": "code",
   "execution_count": 49,
   "metadata": {
    "ExecuteTime": {
     "end_time": "2019-09-10T19:05:27.334649Z",
     "start_time": "2019-09-10T19:05:27.324586Z"
    }
   },
   "outputs": [
    {
     "data": {
      "text/plain": [
       "{'all_nodes': {<__main__.GenNode at 0x119c1a5d0>},\n",
       " 'start_depth': 1,\n",
       " 'root': <__main__.GenNode at 0x119c1a5d0>}"
      ]
     },
     "execution_count": 49,
     "metadata": {},
     "output_type": "execute_result"
    }
   ],
   "source": [
    "net.__dict__"
   ]
  },
  {
   "cell_type": "code",
   "execution_count": 50,
   "metadata": {
    "ExecuteTime": {
     "end_time": "2019-09-10T19:05:27.702594Z",
     "start_time": "2019-09-10T19:05:27.689923Z"
    }
   },
   "outputs": [
    {
     "data": {
      "text/plain": [
       "{'_input': None,\n",
       " 'parent': None,\n",
       " 'children': set(),\n",
       " 'function': <function __main__.linear(x)>,\n",
       " 'bias': 1}"
      ]
     },
     "execution_count": 50,
     "metadata": {},
     "output_type": "execute_result"
    }
   ],
   "source": [
    "net.root.__dict__"
   ]
  },
  {
   "cell_type": "code",
   "execution_count": 51,
   "metadata": {
    "ExecuteTime": {
     "end_time": "2019-09-10T19:05:27.901753Z",
     "start_time": "2019-09-10T19:05:27.889522Z"
    }
   },
   "outputs": [
    {
     "data": {
      "text/plain": [
       "array([3, 4, 1])"
      ]
     },
     "execution_count": 51,
     "metadata": {},
     "output_type": "execute_result"
    }
   ],
   "source": [
    "net.calculate(_input=np.array([2,3,0]))"
   ]
  },
  {
   "cell_type": "code",
   "execution_count": 52,
   "metadata": {
    "ExecuteTime": {
     "end_time": "2019-09-10T19:05:28.126969Z",
     "start_time": "2019-09-10T19:05:28.120943Z"
    }
   },
   "outputs": [],
   "source": [
    "net.change_function(net.root, relu)"
   ]
  },
  {
   "cell_type": "code",
   "execution_count": 53,
   "metadata": {
    "ExecuteTime": {
     "end_time": "2019-09-10T19:05:28.349801Z",
     "start_time": "2019-09-10T19:05:28.337945Z"
    }
   },
   "outputs": [
    {
     "data": {
      "text/plain": [
       "array([2, 0, 1])"
      ]
     },
     "execution_count": 53,
     "metadata": {},
     "output_type": "execute_result"
    }
   ],
   "source": [
    "net.calculate(_input=np.array([1,-2,0]))"
   ]
  },
  {
   "cell_type": "code",
   "execution_count": 54,
   "metadata": {
    "ExecuteTime": {
     "end_time": "2019-09-10T19:05:28.581477Z",
     "start_time": "2019-09-10T19:05:28.573447Z"
    }
   },
   "outputs": [],
   "source": [
    "net = GenNet(2)"
   ]
  },
  {
   "cell_type": "code",
   "execution_count": 55,
   "metadata": {
    "ExecuteTime": {
     "end_time": "2019-09-10T19:05:28.742255Z",
     "start_time": "2019-09-10T19:05:28.734004Z"
    }
   },
   "outputs": [
    {
     "name": "stdout",
     "output_type": "stream",
     "text": [
      "{'_input': None, 'parent': <__main__.GenNode object at 0x119c2b450>, 'children': set(), 'function': <function neg at 0x1153e1cb0>, 'bias': 1}\n",
      "{'_input': None, 'parent': None, 'children': {<__main__.GenNode object at 0x119c2b490>}, 'function': <ufunc 'absolute'>, 'bias': 1}\n"
     ]
    }
   ],
   "source": [
    "for node in net.all_nodes:\n",
    "    print(node.__dict__)"
   ]
  },
  {
   "cell_type": "code",
   "execution_count": 56,
   "metadata": {
    "ExecuteTime": {
     "end_time": "2019-09-10T19:05:28.952560Z",
     "start_time": "2019-09-10T19:05:28.939734Z"
    }
   },
   "outputs": [
    {
     "data": {
      "text/plain": [
       "array([2])"
      ]
     },
     "execution_count": 56,
     "metadata": {},
     "output_type": "execute_result"
    }
   ],
   "source": [
    "net.calculate(np.array([-2]))"
   ]
  },
  {
   "cell_type": "code",
   "execution_count": 57,
   "metadata": {
    "ExecuteTime": {
     "end_time": "2019-09-10T19:05:29.145863Z",
     "start_time": "2019-09-10T19:05:29.141044Z"
    }
   },
   "outputs": [],
   "source": [
    "net = GenNet(3)"
   ]
  },
  {
   "cell_type": "code",
   "execution_count": 58,
   "metadata": {
    "ExecuteTime": {
     "end_time": "2019-09-10T19:05:29.399562Z",
     "start_time": "2019-09-10T19:05:29.391047Z"
    }
   },
   "outputs": [
    {
     "name": "stdout",
     "output_type": "stream",
     "text": [
      "{'_input': None, 'parent': <__main__.GenNode object at 0x119c2a990>, 'children': set(), 'function': <function neg at 0x1153e1cb0>, 'bias': 1}\n",
      "{'_input': None, 'parent': <__main__.GenNode object at 0x119c2a950>, 'children': {<__main__.GenNode object at 0x119c2acd0>}, 'function': <ufunc 'expit'>, 'bias': 1}\n",
      "{'_input': None, 'parent': None, 'children': {<__main__.GenNode object at 0x119c2a990>}, 'function': <function linear at 0x10e5665f0>, 'bias': 1}\n"
     ]
    }
   ],
   "source": [
    "for node in net.all_nodes:\n",
    "    print(node.__dict__)"
   ]
  },
  {
   "cell_type": "code",
   "execution_count": 59,
   "metadata": {
    "ExecuteTime": {
     "end_time": "2019-09-10T19:05:29.602838Z",
     "start_time": "2019-09-10T19:05:29.597352Z"
    }
   },
   "outputs": [],
   "source": [
    "subnet = net.clone_subnet(list(net.all_nodes)[1])"
   ]
  },
  {
   "cell_type": "code",
   "execution_count": 60,
   "metadata": {
    "ExecuteTime": {
     "end_time": "2019-09-10T19:05:29.866067Z",
     "start_time": "2019-09-10T19:05:29.855861Z"
    }
   },
   "outputs": [
    {
     "data": {
      "text/plain": [
       "{'all_nodes': {<__main__.GenNode at 0x119c2c690>,\n",
       "  <__main__.GenNode at 0x119c2c6d0>},\n",
       " 'start_depth': 0,\n",
       " 'root': <__main__.GenNode at 0x119c2c690>}"
      ]
     },
     "execution_count": 60,
     "metadata": {},
     "output_type": "execute_result"
    }
   ],
   "source": [
    "subnet.__dict__"
   ]
  },
  {
   "cell_type": "code",
   "execution_count": 61,
   "metadata": {
    "ExecuteTime": {
     "end_time": "2019-09-10T19:05:30.064907Z",
     "start_time": "2019-09-10T19:05:30.056390Z"
    }
   },
   "outputs": [
    {
     "data": {
      "text/plain": [
       "{<__main__.GenNode at 0x119c2c6d0>}"
      ]
     },
     "execution_count": 61,
     "metadata": {},
     "output_type": "execute_result"
    }
   ],
   "source": [
    "subnet.root.children"
   ]
  },
  {
   "cell_type": "markdown",
   "metadata": {},
   "source": [
    "---"
   ]
  },
  {
   "cell_type": "code",
   "execution_count": 169,
   "metadata": {
    "ExecuteTime": {
     "end_time": "2019-09-10T19:43:15.986102Z",
     "start_time": "2019-09-10T19:43:15.935835Z"
    }
   },
   "outputs": [],
   "source": [
    "class GenGenetic:\n",
    "    def __init__(self, population_size=100, max_depth=10,\n",
    "                 nets_amount=10, functions=ACTIVATION_FUNCTIONS):\n",
    "        self.population_size = population_size\n",
    "        self.population = []\n",
    "        \n",
    "        self.functions = functions\n",
    "        self.max_depth = max_depth\n",
    "        self.nets_amount = nets_amount\n",
    "        \n",
    "    def create_population(self):\n",
    "        for _ in range(self.population_size):\n",
    "            j = np.random.randint(1, self.max_depth+1)\n",
    "            self.population.append(GenNet(j))\n",
    "        \n",
    "    def clone(self, i): ### UPDATE ENVIRONMENT\n",
    "        pass\n",
    "    \n",
    "    def cross(self, net_1, net_2):\n",
    "        net_1 = net_1.clone()\n",
    "        net_2 = net_2.clone()\n",
    "        \n",
    "        i = np.random.randint(len(net_1.all_nodes))\n",
    "        j = np.random.randint(len(net_2.all_nodes))\n",
    "        \n",
    "        node_1 = list(net_1.all_nodes)[i]\n",
    "        node_2 = list(net_2.all_nodes)[j]\n",
    "        \n",
    "        while node_1.parent is None:\n",
    "            i = np.random.randint(len(net_1.all_nodes))\n",
    "            node_1 = list(net_1.all_nodes)[i]\n",
    "\n",
    "        while node_2.parent is None:\n",
    "            j = np.random.randint(len(net_2.all_nodes))\n",
    "            node_2 = list(net_2.all_nodes)[j]\n",
    "        \n",
    "        subnet_1 = net_1.clone_subnet(node_1)\n",
    "        subnet_2 = net_2.clone_subnet(node_2)\n",
    "        \n",
    "        net_1.add_subnet(node_1.parent, node_1, subnet_2)\n",
    "        net_2.add_subnet(node_2.parent, node_2, subnet_1)\n",
    "        \n",
    "        return [net_1, net_2]\n",
    "    \n",
    "    def mutate(self, net_ind):\n",
    "        net = self.population[net_ind].clone()\n",
    "        i = np.random.randint(len(net.all_nodes))\n",
    "        node = list(net.all_nodes)[i]\n",
    "        function_ind = np.random.randint(len(ACTIVATION_FUNCTIONS))\n",
    "        new_node = GenNode(_input=node._input, parent=node, \n",
    "                           function=ACTIVATION_FUNCTIONS[function_ind], bias=node.bias)\n",
    "        node.add_child(new_node)\n",
    "        net.all_nodes.add(new_node)\n",
    "        \n",
    "        return net\n",
    "        \n",
    "    def step(self, prob=0.25):\n",
    "        if not isinstance(prob, list):\n",
    "            prob = [1 - prob * 2] + [prob] * 2\n",
    "        \n",
    "        action = np.random.choice(3, p=prob)\n",
    "        if action == 1:\n",
    "            i, j = np.random.randint(len(self.population), size=2)\n",
    "\n",
    "            net_1 = self.population[i]\n",
    "            while len(net_1.all_nodes) == 1:\n",
    "                i = np.random.randint(len(self.population))\n",
    "                net_1 = self.population[i]\n",
    "\n",
    "            net_2 = self.population[j]\n",
    "            while len(net_2.all_nodes) == 1:\n",
    "                j = np.random.randint(len(self.population))\n",
    "                net_2 = self.population[j]\n",
    "\n",
    "            self.population = np.concatenate((self.population, self.cross(net_1, net_2)))\n",
    "        elif action == 2:\n",
    "            i = np.random.randint(len(self.population))\n",
    "            self.population.append(self.mutate(i))\n",
    "            \n",
    "    def calculate_result(self, _input):\n",
    "        results = []\n",
    "        for net in self.population:\n",
    "            results.append(net.calculate(_input))\n",
    "        return results\n",
    "    \n",
    "    def run(self, _input, num_steps=50, prob=0.25, i=1):\n",
    "        self.create_population()\n",
    "        for step in range(num_steps):\n",
    "            self.step(prob=prob)\n",
    "            results = self.calculate_result(_input)\n",
    "            losses = np.array([loss(result) for result in results])\n",
    "            best_ind = losses.argsort()[-1 * self.nets_amount:][::-1]\n",
    "            self.population = np.array(self.population)[best_ind].tolist()\n",
    "            \n",
    "        return self.population, best_ind"
   ]
  },
  {
   "cell_type": "code",
   "execution_count": 170,
   "metadata": {
    "ExecuteTime": {
     "end_time": "2019-09-10T19:43:16.394469Z",
     "start_time": "2019-09-10T19:43:16.385747Z"
    }
   },
   "outputs": [],
   "source": [
    "def loss(results, i=1):\n",
    "    loss = ((results - true_results[i])**2).mean()\n",
    "    return loss"
   ]
  },
  {
   "cell_type": "code",
   "execution_count": 171,
   "metadata": {
    "ExecuteTime": {
     "end_time": "2019-09-10T19:43:16.646638Z",
     "start_time": "2019-09-10T19:43:16.636467Z"
    }
   },
   "outputs": [],
   "source": [
    "genetic = GenGenetic(population_size=3)"
   ]
  },
  {
   "cell_type": "code",
   "execution_count": 172,
   "metadata": {
    "ExecuteTime": {
     "end_time": "2019-09-10T19:43:17.069224Z",
     "start_time": "2019-09-10T19:43:17.063460Z"
    }
   },
   "outputs": [],
   "source": [
    "_input = np.arange(2, 2 + len(true_results[0]))"
   ]
  },
  {
   "cell_type": "code",
   "execution_count": 173,
   "metadata": {
    "ExecuteTime": {
     "end_time": "2019-09-10T19:43:17.659827Z",
     "start_time": "2019-09-10T19:43:17.470837Z"
    }
   },
   "outputs": [
    {
     "data": {
      "text/plain": [
       "([<__main__.GenNet at 0x119c4a2d0>,\n",
       "  <__main__.GenNet at 0x11ae1e510>,\n",
       "  <__main__.GenNet at 0x119c4a990>,\n",
       "  <__main__.GenNet at 0x119dcffd0>,\n",
       "  <__main__.GenNet at 0x119dcf950>,\n",
       "  <__main__.GenNet at 0x11b2d18d0>,\n",
       "  <__main__.GenNet at 0x119dcdf10>,\n",
       "  <__main__.GenNet at 0x119c4aa90>,\n",
       "  <__main__.GenNet at 0x119dcdf50>,\n",
       "  <__main__.GenNet at 0x1190a5ed0>],\n",
       " array([10,  5,  4,  3,  2,  1,  0,  9,  8,  7]))"
      ]
     },
     "execution_count": 173,
     "metadata": {},
     "output_type": "execute_result"
    }
   ],
   "source": [
    "genetic.run(_input, num_steps=100, prob=0.5)"
   ]
  },
  {
   "cell_type": "code",
   "execution_count": null,
   "metadata": {},
   "outputs": [],
   "source": []
  },
  {
   "cell_type": "markdown",
   "metadata": {},
   "source": [
    "## Test"
   ]
  },
  {
   "cell_type": "code",
   "execution_count": 174,
   "metadata": {
    "ExecuteTime": {
     "end_time": "2019-09-10T19:43:42.800725Z",
     "start_time": "2019-09-10T19:43:42.795190Z"
    }
   },
   "outputs": [],
   "source": [
    "import pandas as pd\n",
    "import numpy as np\n",
    "from matplotlib import pyplot as plt"
   ]
  },
  {
   "cell_type": "code",
   "execution_count": 175,
   "metadata": {
    "ExecuteTime": {
     "end_time": "2019-09-10T19:43:43.406726Z",
     "start_time": "2019-09-10T19:43:43.144837Z"
    }
   },
   "outputs": [],
   "source": [
    "ort10_coltar10 = pd.read_csv('lin_ort10_coltar10_mean.csv', header=None).values\n",
    "ort10_colfeat10 = pd.read_csv('lin_ort10_colfeat10_mean.csv', header=None).values\n",
    "ort20 = pd.read_csv('lin_ort20_mean.csv', header=None).values\n",
    "ort5_coltar10_colfeat5 = pd.read_csv('lin_ort5_coltar10_colfeat5_mean.csv', header=None).values\n",
    "ort5_coltar15 = pd.read_csv('lin_ort5_coltar15_mean.csv', header=None).values\n",
    "ort10_coltar5_colfeat5 = pd.read_csv('lin_ort10_coltar5_colfeat5_mean.csv', header=None).values\n",
    "ort5_colfeat15 = pd.read_csv('lin_ort5_colfeat15_mean.csv', header=None).values\n",
    "ort15_colfeat5 = pd.read_csv('lin_ort15_colfeat5_mean.csv', header=None).values\n",
    "ort5_coltar5_colfeat10 = pd.read_csv('lin_ort5_coltar5_colfeat10_mean.csv', header=None).values\n",
    "\n",
    "ort10_coltar10_data = pd.read_csv('lin_ort10_coltar10_data.csv', header=None)\n",
    "ort10_colfeat10_data = pd.read_csv('lin_ort10_colfeat10_data.csv', header=None)\n",
    "ort20_data = pd.read_csv('lin_ort20_data.csv', header=None)\n",
    "ort5_coltar10_colfeat5_data = pd.read_csv('lin_ort5_coltar10_colfeat5_data.csv', header=None)\n",
    "ort5_coltar15_data = pd.read_csv('lin_ort5_coltar15_data.csv', header=None)\n",
    "ort10_coltar5_colfeat5_data = pd.read_csv('lin_ort10_coltar5_colfeat5_data.csv', header=None)\n",
    "ort5_colfeat15_data = pd.read_csv('lin_ort5_colfeat15_data.csv', header=None)\n",
    "ort15_colfeat5_data = pd.read_csv('lin_ort15_colfeat5_data.csv', header=None)\n",
    "ort5_coltar5_colfeat10_data = pd.read_csv('lin_ort5_coltar5_colfeat10_data.csv', header=None)"
   ]
  },
  {
   "cell_type": "code",
   "execution_count": 176,
   "metadata": {
    "ExecuteTime": {
     "end_time": "2019-09-10T19:43:43.634452Z",
     "start_time": "2019-09-10T19:43:43.625354Z"
    }
   },
   "outputs": [],
   "source": [
    "true_results = [\n",
    "    ort10_coltar10.reshape(-1),\n",
    "    ort10_colfeat10.reshape(-1),\n",
    "    ort20.reshape(-1),\n",
    "    ort5_coltar10_colfeat5.reshape(-1),\n",
    "    ort5_coltar15.reshape(-1),\n",
    "    ort10_coltar5_colfeat5.reshape(-1),\n",
    "    ort5_colfeat15.reshape(-1),\n",
    "    ort15_colfeat5.reshape(-1),\n",
    "    ort5_coltar5_colfeat10.reshape(-1)\n",
    "]"
   ]
  },
  {
   "cell_type": "code",
   "execution_count": 177,
   "metadata": {
    "ExecuteTime": {
     "end_time": "2019-09-10T19:43:44.110574Z",
     "start_time": "2019-09-10T19:43:44.105115Z"
    }
   },
   "outputs": [],
   "source": [
    "genetic = GenGenetic()"
   ]
  },
  {
   "cell_type": "code",
   "execution_count": 178,
   "metadata": {
    "ExecuteTime": {
     "end_time": "2019-09-10T19:43:44.661783Z",
     "start_time": "2019-09-10T19:43:44.653476Z"
    }
   },
   "outputs": [],
   "source": [
    "_input = np.arange(2, 2 + len(true_results[0]))"
   ]
  },
  {
   "cell_type": "code",
   "execution_count": 179,
   "metadata": {
    "ExecuteTime": {
     "end_time": "2019-09-10T19:43:46.323377Z",
     "start_time": "2019-09-10T19:43:46.225938Z"
    }
   },
   "outputs": [
    {
     "data": {
      "text/plain": [
       "([<__main__.GenNet at 0x1190a5bd0>,\n",
       "  <__main__.GenNet at 0x1153eca90>,\n",
       "  <__main__.GenNet at 0x11af01990>,\n",
       "  <__main__.GenNet at 0x119ddcc50>,\n",
       "  <__main__.GenNet at 0x119dddfd0>,\n",
       "  <__main__.GenNet at 0x119ddc990>,\n",
       "  <__main__.GenNet at 0x119ddd4d0>,\n",
       "  <__main__.GenNet at 0x119de5550>,\n",
       "  <__main__.GenNet at 0x119de5dd0>,\n",
       "  <__main__.GenNet at 0x119dddbd0>],\n",
       " array([11, 10,  2,  1,  0,  3,  5,  4,  6,  8]))"
      ]
     },
     "execution_count": 179,
     "metadata": {},
     "output_type": "execute_result"
    }
   ],
   "source": [
    "genetic.run(_input)"
   ]
  },
  {
   "cell_type": "code",
   "execution_count": null,
   "metadata": {},
   "outputs": [],
   "source": []
  },
  {
   "cell_type": "code",
   "execution_count": null,
   "metadata": {},
   "outputs": [],
   "source": []
  }
 ],
 "metadata": {
  "kernelspec": {
   "display_name": "Python 3",
   "language": "python",
   "name": "python3"
  },
  "language_info": {
   "codemirror_mode": {
    "name": "ipython",
    "version": 3
   },
   "file_extension": ".py",
   "mimetype": "text/x-python",
   "name": "python",
   "nbconvert_exporter": "python",
   "pygments_lexer": "ipython3",
   "version": "3.7.4"
  }
 },
 "nbformat": 4,
 "nbformat_minor": 2
}
